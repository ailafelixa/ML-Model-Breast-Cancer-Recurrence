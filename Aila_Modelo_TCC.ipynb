{
  "nbformat": 4,
  "nbformat_minor": 0,
  "metadata": {
    "colab": {
      "provenance": [],
      "authorship_tag": "ABX9TyMG/hUs1tuRn7zPMRrxDEPP",
      "include_colab_link": true
    },
    "kernelspec": {
      "name": "python3",
      "display_name": "Python 3"
    },
    "language_info": {
      "name": "python"
    }
  },
  "cells": [
    {
      "cell_type": "markdown",
      "metadata": {
        "id": "view-in-github",
        "colab_type": "text"
      },
      "source": [
        "<a href=\"https://colab.research.google.com/github/ailafelixa/Model-Breast-Cancer-Recurrence/blob/main/Aila_Modelo_TCC.ipynb\" target=\"_parent\"><img src=\"https://colab.research.google.com/assets/colab-badge.svg\" alt=\"Open In Colab\"/></a>"
      ]
    },
    {
      "cell_type": "markdown",
      "source": [
        "## Importing packages\n",
        "\n"
      ],
      "metadata": {
        "id": "8YXE8v1iHpx9"
      }
    },
    {
      "cell_type": "code",
      "execution_count": 1,
      "metadata": {
        "colab": {
          "base_uri": "https://localhost:8080/"
        },
        "id": "c8A5WWXHTEnR",
        "outputId": "bd0bb235-00b7-45b6-a4af-cef5ff161586"
      },
      "outputs": [
        {
          "output_type": "stream",
          "name": "stdout",
          "text": [
            "Collecting dbfread\n",
            "  Downloading dbfread-2.0.7-py2.py3-none-any.whl (20 kB)\n",
            "Installing collected packages: dbfread\n",
            "Successfully installed dbfread-2.0.7\n"
          ]
        }
      ],
      "source": [
        "import pandas as pd\n",
        "import numpy as np\n",
        "!pip install dbfread\n",
        "from dbfread import DBF\n",
        "from copy import deepcopy\n",
        "import seaborn as sns\n",
        "import matplotlib.pyplot as plt"
      ]
    },
    {
      "cell_type": "code",
      "source": [
        "from google.colab import drive\n",
        "drive.mount('/content/drive')"
      ],
      "metadata": {
        "colab": {
          "base_uri": "https://localhost:8080/"
        },
        "id": "-ox6c-jVJvwm",
        "outputId": "1021bc1f-7731-4743-e31b-d28013b26653"
      },
      "execution_count": 2,
      "outputs": [
        {
          "output_type": "stream",
          "name": "stdout",
          "text": [
            "Mounted at /content/drive\n"
          ]
        }
      ]
    },
    {
      "cell_type": "markdown",
      "source": [
        "## Importando os dados originais"
      ],
      "metadata": {
        "id": "yY3oEPj4JEou"
      }
    },
    {
      "cell_type": "code",
      "source": [
        "path_all_data = '/content/drive/MyDrive/Graduação/Décimo semestre/TCC II/Raw data/PACI00-15/pacigeral.dbf'"
      ],
      "metadata": {
        "id": "ZSd709RQKXxg"
      },
      "execution_count": 3,
      "outputs": []
    },
    {
      "cell_type": "code",
      "source": [
        "raw_data = DBF(path_all_data, encoding='ISO8859-1', raw=True)"
      ],
      "metadata": {
        "id": "7hJWa3CzKlFO"
      },
      "execution_count": 4,
      "outputs": []
    },
    {
      "cell_type": "code",
      "source": [
        "len(raw_data)"
      ],
      "metadata": {
        "colab": {
          "base_uri": "https://localhost:8080/"
        },
        "id": "NTqUwCJTKjsi",
        "outputId": "66940921-132e-4118-958e-ac40ee68c257"
      },
      "execution_count": 5,
      "outputs": [
        {
          "output_type": "execute_result",
          "data": {
            "text/plain": [
              "1149055"
            ]
          },
          "metadata": {},
          "execution_count": 5
        }
      ]
    },
    {
      "cell_type": "code",
      "source": [
        "column_names = raw_data.field_names"
      ],
      "metadata": {
        "id": "8eQc-iT0K95y"
      },
      "execution_count": 6,
      "outputs": []
    },
    {
      "cell_type": "code",
      "source": [
        "print(column_names)"
      ],
      "metadata": {
        "colab": {
          "base_uri": "https://localhost:8080/"
        },
        "id": "zCeW59HjLA9w",
        "outputId": "3c66e0f4-d02a-4fab-bf4d-af88c02ff17f"
      },
      "execution_count": 7,
      "outputs": [
        {
          "output_type": "stream",
          "name": "stdout",
          "text": [
            "['ESCOLARI', 'IDADE', 'SEXO', 'UFNASC', 'UFRESID', 'IBGE', 'CIDADE', 'CATEATEND', 'DTCONSULT', 'CLINICA', 'DIAGPREV', 'DTDIAG', 'BASEDIAG', 'TOPO', 'TOPOGRUP', 'DESCTOPO', 'MORFO', 'DESCMORFO', 'EC', 'ECGRUP', 'T', 'N', 'M', 'PT', 'PN', 'PM', 'S', 'G', 'LOCALTNM', 'IDMITOTIC', 'PSA', 'GLEASON', 'OUTRACLA', 'META01', 'META02', 'META03', 'META04', 'DTTRAT', 'NAOTRAT', 'TRATAMENTO', 'TRATHOSP', 'TRATFANTES', 'TRATFAPOS', 'NENHUM', 'CIRURGIA', 'RADIO', 'QUIMIO', 'HORMONIO', 'TMO', 'IMUNO', 'OUTROS', 'NENHUMANT', 'CIRURANT', 'RADIOANT', 'QUIMIOANT', 'HORMOANT', 'TMOANT', 'IMUNOANT', 'OUTROANT', 'NENHUMAPOS', 'CIRURAPOS', 'RADIOAPOS', 'QUIMIOAPOS', 'HORMOAPOS', 'TMOAPOS', 'IMUNOAPOS', 'OUTROAPOS', 'DTULTINFO', 'ULTINFO', 'CONSDIAG', 'TRATCONS', 'DIAGTRAT', 'ANODIAG', 'CICI', 'CICIGRUP', 'CICISUBGRU', 'FAIXAETAR', 'LATERALI', 'INSTORIG', 'DRS', 'RRAS', 'PERDASEG', 'ERRO', 'DTRECIDIVA', 'RECNENHUM', 'RECLOCAL', 'RECREGIO', 'RECDIST', 'REC01', 'REC02', 'REC03', 'REC04', 'IBGEATEN', 'CIDO', 'DSCCIDO', 'HABILIT', 'HABIT11', 'HABILIT1', 'HABILIT2']\n"
          ]
        }
      ]
    },
    {
      "cell_type": "markdown",
      "source": [
        "### Filtrando dados a partir de 2018"
      ],
      "metadata": {
        "id": "a0-aXNZSywVE"
      }
    },
    {
      "cell_type": "code",
      "source": [
        "# Specify the column name for which you want to list unique values\n",
        "column_name = 'ANODIAG'\n",
        "\n",
        "# Create a set to store unique values\n",
        "unique_values = set()\n",
        "\n",
        "# Iterate through the rows and collect unique values\n",
        "for record in raw_data:\n",
        "    unique_values.add(record[column_name])\n",
        "\n",
        "# Print the different values\n",
        "print(f\"Different values in column '{column_name}':\")\n",
        "for value in unique_values:\n",
        "    print(value)"
      ],
      "metadata": {
        "colab": {
          "base_uri": "https://localhost:8080/"
        },
        "id": "gHw5JNLWugsL",
        "outputId": "887ed90a-91a7-4d4e-fc4c-d85cdf27d5c8"
      },
      "execution_count": 8,
      "outputs": [
        {
          "output_type": "stream",
          "name": "stdout",
          "text": [
            "Different values in column 'ANODIAG':\n",
            "b'2005'\n",
            "b'2014'\n",
            "b'2006'\n",
            "b'2012'\n",
            "b'2023'\n",
            "b'2017'\n",
            "b'2010'\n",
            "b'2020'\n",
            "b'2008'\n",
            "b'2009'\n",
            "b'2016'\n",
            "b'2022'\n",
            "b'2013'\n",
            "b'2018'\n",
            "b'2007'\n",
            "b'2000'\n",
            "b'2002'\n",
            "b'2011'\n",
            "b'2003'\n",
            "b'2021'\n",
            "b'2015'\n",
            "b'2019'\n",
            "b'2001'\n",
            "b'2004'\n"
          ]
        }
      ]
    },
    {
      "cell_type": "code",
      "source": [
        "# Filtered records\n",
        "filtered_records = [record for record in raw_data if 2018 <= int(record[column_name].decode('utf-8')) < 2023]\n",
        "\n",
        "# Create a Pandas DataFrame from the filtered records\n",
        "filtered_df = pd.DataFrame(filtered_records)"
      ],
      "metadata": {
        "id": "nd5nOUvywsxG"
      },
      "execution_count": 9,
      "outputs": []
    },
    {
      "cell_type": "code",
      "source": [
        "# Remove b' ' from all values in the DataFrame\n",
        "filtered_df = filtered_df.applymap(lambda x: x.decode('latin-1') if isinstance(x, bytes) else x)\n",
        "\n",
        "# Print the resulting DataFrame\n",
        "filtered_df.head()"
      ],
      "metadata": {
        "colab": {
          "base_uri": "https://localhost:8080/",
          "height": 612
        },
        "id": "4_4V7ZAOx8_g",
        "outputId": "0f8b0e54-e985-4601-9b01-cf16222fbf03"
      },
      "execution_count": 10,
      "outputs": [
        {
          "output_type": "execute_result",
          "data": {
            "text/plain": [
              "  ESCOLARI IDADE SEXO UFNASC UFRESID     IBGE  \\\n",
              "0        1     4    1     SP      SP  3536505   \n",
              "1        1     1    1     SP      SP  3517604   \n",
              "2        1     0    1     SP      SP  3550100   \n",
              "3        1     0    2     MT      SP  3549805   \n",
              "4        4    16    2     SP      SP  3550308   \n",
              "\n",
              "                                              CIDADE CATEATEND DTCONSULT  \\\n",
              "0  PAULINIA                                      ...         2  20180323   \n",
              "1  GUAPIARA                                      ...         1  20200904   \n",
              "2  SAO MANUEL                                    ...         2  20190905   \n",
              "3  SAO JOSE DO RIO PRETO                         ...         2  20200812   \n",
              "4  SAO PAULO                                     ...         2  20190215   \n",
              "\n",
              "  CLINICA  ... REC02 REC03 REC04 IBGEATEN   CIDO  \\\n",
              "0      25  ...                    3509502  80001   \n",
              "1      25  ...                    3552205  80001   \n",
              "2      28  ...                    3507506  80001   \n",
              "3      25  ...                    3549805  80001   \n",
              "4      25  ...                    3550308  80001   \n",
              "\n",
              "                                             DSCCIDO HABILIT  \\\n",
              "0  NEOPLASIA DE COMPORTAMENTO INCERTO SE BENIGNO ...      15   \n",
              "1  NEOPLASIA DE COMPORTAMENTO INCERTO SE BENIGNO ...       5   \n",
              "2  NEOPLASIA DE COMPORTAMENTO INCERTO SE BENIGNO ...      10   \n",
              "3  NEOPLASIA DE COMPORTAMENTO INCERTO SE BENIGNO ...      10   \n",
              "4  NEOPLASIA DE COMPORTAMENTO INCERTO SE BENIGNO ...       7   \n",
              "\n",
              "                                             HABIT11 HABILIT1 HABILIT2  \n",
              "0  UNACON exclusiva de Oncologia Pedi trica com S...        2        1  \n",
              "1  UNACON exclusiva de Oncologia Pedi trica      ...        2        1  \n",
              "2  UNACON com Servios de Radioterapia, de Hemato...        1        1  \n",
              "3  UNACON com Servios de Radioterapia, de Hemato...        1        1  \n",
              "4  CACON com Servio de Oncologia Pedi trica     ...        3        2  \n",
              "\n",
              "[5 rows x 99 columns]"
            ],
            "text/html": [
              "\n",
              "\n",
              "  <div id=\"df-8b499ada-72f3-4f9a-8211-dc398d3cc322\">\n",
              "    <div class=\"colab-df-container\">\n",
              "      <div>\n",
              "<style scoped>\n",
              "    .dataframe tbody tr th:only-of-type {\n",
              "        vertical-align: middle;\n",
              "    }\n",
              "\n",
              "    .dataframe tbody tr th {\n",
              "        vertical-align: top;\n",
              "    }\n",
              "\n",
              "    .dataframe thead th {\n",
              "        text-align: right;\n",
              "    }\n",
              "</style>\n",
              "<table border=\"1\" class=\"dataframe\">\n",
              "  <thead>\n",
              "    <tr style=\"text-align: right;\">\n",
              "      <th></th>\n",
              "      <th>ESCOLARI</th>\n",
              "      <th>IDADE</th>\n",
              "      <th>SEXO</th>\n",
              "      <th>UFNASC</th>\n",
              "      <th>UFRESID</th>\n",
              "      <th>IBGE</th>\n",
              "      <th>CIDADE</th>\n",
              "      <th>CATEATEND</th>\n",
              "      <th>DTCONSULT</th>\n",
              "      <th>CLINICA</th>\n",
              "      <th>...</th>\n",
              "      <th>REC02</th>\n",
              "      <th>REC03</th>\n",
              "      <th>REC04</th>\n",
              "      <th>IBGEATEN</th>\n",
              "      <th>CIDO</th>\n",
              "      <th>DSCCIDO</th>\n",
              "      <th>HABILIT</th>\n",
              "      <th>HABIT11</th>\n",
              "      <th>HABILIT1</th>\n",
              "      <th>HABILIT2</th>\n",
              "    </tr>\n",
              "  </thead>\n",
              "  <tbody>\n",
              "    <tr>\n",
              "      <th>0</th>\n",
              "      <td>1</td>\n",
              "      <td>4</td>\n",
              "      <td>1</td>\n",
              "      <td>SP</td>\n",
              "      <td>SP</td>\n",
              "      <td>3536505</td>\n",
              "      <td>PAULINIA                                      ...</td>\n",
              "      <td>2</td>\n",
              "      <td>20180323</td>\n",
              "      <td>25</td>\n",
              "      <td>...</td>\n",
              "      <td></td>\n",
              "      <td></td>\n",
              "      <td></td>\n",
              "      <td>3509502</td>\n",
              "      <td>80001</td>\n",
              "      <td>NEOPLASIA DE COMPORTAMENTO INCERTO SE BENIGNO ...</td>\n",
              "      <td>15</td>\n",
              "      <td>UNACON exclusiva de Oncologia Pedi trica com S...</td>\n",
              "      <td>2</td>\n",
              "      <td>1</td>\n",
              "    </tr>\n",
              "    <tr>\n",
              "      <th>1</th>\n",
              "      <td>1</td>\n",
              "      <td>1</td>\n",
              "      <td>1</td>\n",
              "      <td>SP</td>\n",
              "      <td>SP</td>\n",
              "      <td>3517604</td>\n",
              "      <td>GUAPIARA                                      ...</td>\n",
              "      <td>1</td>\n",
              "      <td>20200904</td>\n",
              "      <td>25</td>\n",
              "      <td>...</td>\n",
              "      <td></td>\n",
              "      <td></td>\n",
              "      <td></td>\n",
              "      <td>3552205</td>\n",
              "      <td>80001</td>\n",
              "      <td>NEOPLASIA DE COMPORTAMENTO INCERTO SE BENIGNO ...</td>\n",
              "      <td>5</td>\n",
              "      <td>UNACON exclusiva de Oncologia Pedi trica      ...</td>\n",
              "      <td>2</td>\n",
              "      <td>1</td>\n",
              "    </tr>\n",
              "    <tr>\n",
              "      <th>2</th>\n",
              "      <td>1</td>\n",
              "      <td>0</td>\n",
              "      <td>1</td>\n",
              "      <td>SP</td>\n",
              "      <td>SP</td>\n",
              "      <td>3550100</td>\n",
              "      <td>SAO MANUEL                                    ...</td>\n",
              "      <td>2</td>\n",
              "      <td>20190905</td>\n",
              "      <td>28</td>\n",
              "      <td>...</td>\n",
              "      <td></td>\n",
              "      <td></td>\n",
              "      <td></td>\n",
              "      <td>3507506</td>\n",
              "      <td>80001</td>\n",
              "      <td>NEOPLASIA DE COMPORTAMENTO INCERTO SE BENIGNO ...</td>\n",
              "      <td>10</td>\n",
              "      <td>UNACON com Servios de Radioterapia, de Hemato...</td>\n",
              "      <td>1</td>\n",
              "      <td>1</td>\n",
              "    </tr>\n",
              "    <tr>\n",
              "      <th>3</th>\n",
              "      <td>1</td>\n",
              "      <td>0</td>\n",
              "      <td>2</td>\n",
              "      <td>MT</td>\n",
              "      <td>SP</td>\n",
              "      <td>3549805</td>\n",
              "      <td>SAO JOSE DO RIO PRETO                         ...</td>\n",
              "      <td>2</td>\n",
              "      <td>20200812</td>\n",
              "      <td>25</td>\n",
              "      <td>...</td>\n",
              "      <td></td>\n",
              "      <td></td>\n",
              "      <td></td>\n",
              "      <td>3549805</td>\n",
              "      <td>80001</td>\n",
              "      <td>NEOPLASIA DE COMPORTAMENTO INCERTO SE BENIGNO ...</td>\n",
              "      <td>10</td>\n",
              "      <td>UNACON com Servios de Radioterapia, de Hemato...</td>\n",
              "      <td>1</td>\n",
              "      <td>1</td>\n",
              "    </tr>\n",
              "    <tr>\n",
              "      <th>4</th>\n",
              "      <td>4</td>\n",
              "      <td>16</td>\n",
              "      <td>2</td>\n",
              "      <td>SP</td>\n",
              "      <td>SP</td>\n",
              "      <td>3550308</td>\n",
              "      <td>SAO PAULO                                     ...</td>\n",
              "      <td>2</td>\n",
              "      <td>20190215</td>\n",
              "      <td>25</td>\n",
              "      <td>...</td>\n",
              "      <td></td>\n",
              "      <td></td>\n",
              "      <td></td>\n",
              "      <td>3550308</td>\n",
              "      <td>80001</td>\n",
              "      <td>NEOPLASIA DE COMPORTAMENTO INCERTO SE BENIGNO ...</td>\n",
              "      <td>7</td>\n",
              "      <td>CACON com Servio de Oncologia Pedi trica     ...</td>\n",
              "      <td>3</td>\n",
              "      <td>2</td>\n",
              "    </tr>\n",
              "  </tbody>\n",
              "</table>\n",
              "<p>5 rows × 99 columns</p>\n",
              "</div>\n",
              "      <button class=\"colab-df-convert\" onclick=\"convertToInteractive('df-8b499ada-72f3-4f9a-8211-dc398d3cc322')\"\n",
              "              title=\"Convert this dataframe to an interactive table.\"\n",
              "              style=\"display:none;\">\n",
              "\n",
              "  <svg xmlns=\"http://www.w3.org/2000/svg\" height=\"24px\"viewBox=\"0 0 24 24\"\n",
              "       width=\"24px\">\n",
              "    <path d=\"M0 0h24v24H0V0z\" fill=\"none\"/>\n",
              "    <path d=\"M18.56 5.44l.94 2.06.94-2.06 2.06-.94-2.06-.94-.94-2.06-.94 2.06-2.06.94zm-11 1L8.5 8.5l.94-2.06 2.06-.94-2.06-.94L8.5 2.5l-.94 2.06-2.06.94zm10 10l.94 2.06.94-2.06 2.06-.94-2.06-.94-.94-2.06-.94 2.06-2.06.94z\"/><path d=\"M17.41 7.96l-1.37-1.37c-.4-.4-.92-.59-1.43-.59-.52 0-1.04.2-1.43.59L10.3 9.45l-7.72 7.72c-.78.78-.78 2.05 0 2.83L4 21.41c.39.39.9.59 1.41.59.51 0 1.02-.2 1.41-.59l7.78-7.78 2.81-2.81c.8-.78.8-2.07 0-2.86zM5.41 20L4 18.59l7.72-7.72 1.47 1.35L5.41 20z\"/>\n",
              "  </svg>\n",
              "      </button>\n",
              "\n",
              "\n",
              "\n",
              "    <div id=\"df-867297d4-0f4a-4ed0-957b-35e492a57eb6\">\n",
              "      <button class=\"colab-df-quickchart\" onclick=\"quickchart('df-867297d4-0f4a-4ed0-957b-35e492a57eb6')\"\n",
              "              title=\"Suggest charts.\"\n",
              "              style=\"display:none;\">\n",
              "\n",
              "<svg xmlns=\"http://www.w3.org/2000/svg\" height=\"24px\"viewBox=\"0 0 24 24\"\n",
              "     width=\"24px\">\n",
              "    <g>\n",
              "        <path d=\"M19 3H5c-1.1 0-2 .9-2 2v14c0 1.1.9 2 2 2h14c1.1 0 2-.9 2-2V5c0-1.1-.9-2-2-2zM9 17H7v-7h2v7zm4 0h-2V7h2v10zm4 0h-2v-4h2v4z\"/>\n",
              "    </g>\n",
              "</svg>\n",
              "      </button>\n",
              "    </div>\n",
              "\n",
              "<style>\n",
              "  .colab-df-quickchart {\n",
              "    background-color: #E8F0FE;\n",
              "    border: none;\n",
              "    border-radius: 50%;\n",
              "    cursor: pointer;\n",
              "    display: none;\n",
              "    fill: #1967D2;\n",
              "    height: 32px;\n",
              "    padding: 0 0 0 0;\n",
              "    width: 32px;\n",
              "  }\n",
              "\n",
              "  .colab-df-quickchart:hover {\n",
              "    background-color: #E2EBFA;\n",
              "    box-shadow: 0px 1px 2px rgba(60, 64, 67, 0.3), 0px 1px 3px 1px rgba(60, 64, 67, 0.15);\n",
              "    fill: #174EA6;\n",
              "  }\n",
              "\n",
              "  [theme=dark] .colab-df-quickchart {\n",
              "    background-color: #3B4455;\n",
              "    fill: #D2E3FC;\n",
              "  }\n",
              "\n",
              "  [theme=dark] .colab-df-quickchart:hover {\n",
              "    background-color: #434B5C;\n",
              "    box-shadow: 0px 1px 3px 1px rgba(0, 0, 0, 0.15);\n",
              "    filter: drop-shadow(0px 1px 2px rgba(0, 0, 0, 0.3));\n",
              "    fill: #FFFFFF;\n",
              "  }\n",
              "</style>\n",
              "\n",
              "    <script>\n",
              "      async function quickchart(key) {\n",
              "        const containerElement = document.querySelector('#' + key);\n",
              "        const charts = await google.colab.kernel.invokeFunction(\n",
              "            'suggestCharts', [key], {});\n",
              "      }\n",
              "    </script>\n",
              "\n",
              "      <script>\n",
              "\n",
              "function displayQuickchartButton(domScope) {\n",
              "  let quickchartButtonEl =\n",
              "    domScope.querySelector('#df-867297d4-0f4a-4ed0-957b-35e492a57eb6 button.colab-df-quickchart');\n",
              "  quickchartButtonEl.style.display =\n",
              "    google.colab.kernel.accessAllowed ? 'block' : 'none';\n",
              "}\n",
              "\n",
              "        displayQuickchartButton(document);\n",
              "      </script>\n",
              "      <style>\n",
              "    .colab-df-container {\n",
              "      display:flex;\n",
              "      flex-wrap:wrap;\n",
              "      gap: 12px;\n",
              "    }\n",
              "\n",
              "    .colab-df-convert {\n",
              "      background-color: #E8F0FE;\n",
              "      border: none;\n",
              "      border-radius: 50%;\n",
              "      cursor: pointer;\n",
              "      display: none;\n",
              "      fill: #1967D2;\n",
              "      height: 32px;\n",
              "      padding: 0 0 0 0;\n",
              "      width: 32px;\n",
              "    }\n",
              "\n",
              "    .colab-df-convert:hover {\n",
              "      background-color: #E2EBFA;\n",
              "      box-shadow: 0px 1px 2px rgba(60, 64, 67, 0.3), 0px 1px 3px 1px rgba(60, 64, 67, 0.15);\n",
              "      fill: #174EA6;\n",
              "    }\n",
              "\n",
              "    [theme=dark] .colab-df-convert {\n",
              "      background-color: #3B4455;\n",
              "      fill: #D2E3FC;\n",
              "    }\n",
              "\n",
              "    [theme=dark] .colab-df-convert:hover {\n",
              "      background-color: #434B5C;\n",
              "      box-shadow: 0px 1px 3px 1px rgba(0, 0, 0, 0.15);\n",
              "      filter: drop-shadow(0px 1px 2px rgba(0, 0, 0, 0.3));\n",
              "      fill: #FFFFFF;\n",
              "    }\n",
              "  </style>\n",
              "\n",
              "      <script>\n",
              "        const buttonEl =\n",
              "          document.querySelector('#df-8b499ada-72f3-4f9a-8211-dc398d3cc322 button.colab-df-convert');\n",
              "        buttonEl.style.display =\n",
              "          google.colab.kernel.accessAllowed ? 'block' : 'none';\n",
              "\n",
              "        async function convertToInteractive(key) {\n",
              "          const element = document.querySelector('#df-8b499ada-72f3-4f9a-8211-dc398d3cc322');\n",
              "          const dataTable =\n",
              "            await google.colab.kernel.invokeFunction('convertToInteractive',\n",
              "                                                     [key], {});\n",
              "          if (!dataTable) return;\n",
              "\n",
              "          const docLinkHtml = 'Like what you see? Visit the ' +\n",
              "            '<a target=\"_blank\" href=https://colab.research.google.com/notebooks/data_table.ipynb>data table notebook</a>'\n",
              "            + ' to learn more about interactive tables.';\n",
              "          element.innerHTML = '';\n",
              "          dataTable['output_type'] = 'display_data';\n",
              "          await google.colab.output.renderOutput(dataTable, element);\n",
              "          const docLink = document.createElement('div');\n",
              "          docLink.innerHTML = docLinkHtml;\n",
              "          element.appendChild(docLink);\n",
              "        }\n",
              "      </script>\n",
              "    </div>\n",
              "  </div>\n"
            ]
          },
          "metadata": {},
          "execution_count": 10
        }
      ]
    },
    {
      "cell_type": "code",
      "source": [
        "df = deepcopy(filtered_df)"
      ],
      "metadata": {
        "id": "-lCPvXQEzpyA"
      },
      "execution_count": 11,
      "outputs": []
    },
    {
      "cell_type": "code",
      "source": [
        "len(df) #Quantidade de linhas no dataset considerando apenas os anos de 2018, 2019, 2020, 2021 e 2022"
      ],
      "metadata": {
        "colab": {
          "base_uri": "https://localhost:8080/"
        },
        "id": "LH1Ocg32ztHu",
        "outputId": "4be43953-7378-4cfd-9823-cb3ccd0f670f"
      },
      "execution_count": 12,
      "outputs": [
        {
          "output_type": "execute_result",
          "data": {
            "text/plain": [
              "251717"
            ]
          },
          "metadata": {},
          "execution_count": 12
        }
      ]
    },
    {
      "cell_type": "markdown",
      "source": [
        "## Filtrando dataframe para retornar apenas casos de câncer de mama\n",
        "\n",
        "A variável 'TOPOGRUP' contém a classificação CID-O (3a edição) para as neoplasias. Segundo o manual disponibilizado pela OMS, o grupo da topografia de câncer de mama é classificado pelo código C50."
      ],
      "metadata": {
        "id": "P1HnYZZG1FQX"
      }
    },
    {
      "cell_type": "code",
      "source": [
        "df = df.loc[df['TOPOGRUP']== 'C50']"
      ],
      "metadata": {
        "id": "DQ7w7QYO1Iu7"
      },
      "execution_count": 13,
      "outputs": []
    },
    {
      "cell_type": "code",
      "source": [
        "df['TOPOGRUP'].value_counts()"
      ],
      "metadata": {
        "colab": {
          "base_uri": "https://localhost:8080/"
        },
        "id": "1nXzefQb3Jbw",
        "outputId": "f90f5009-54f0-456c-d34d-44b40ea3acde"
      },
      "execution_count": 14,
      "outputs": [
        {
          "output_type": "execute_result",
          "data": {
            "text/plain": [
              "C50    34711\n",
              "Name: TOPOGRUP, dtype: int64"
            ]
          },
          "metadata": {},
          "execution_count": 14
        }
      ]
    },
    {
      "cell_type": "markdown",
      "source": [
        "## Análise exploratória"
      ],
      "metadata": {
        "id": "MhTUeGl-Jgrz"
      }
    },
    {
      "cell_type": "code",
      "source": [
        "len(df)"
      ],
      "metadata": {
        "colab": {
          "base_uri": "https://localhost:8080/"
        },
        "id": "xpMhaeq34JDf",
        "outputId": "db8016fb-f64a-439d-f9cf-f7f9dd8afe0d"
      },
      "execution_count": 15,
      "outputs": [
        {
          "output_type": "execute_result",
          "data": {
            "text/plain": [
              "34711"
            ]
          },
          "metadata": {},
          "execution_count": 15
        }
      ]
    },
    {
      "cell_type": "markdown",
      "source": [
        "Após a filtragem específica para câncer de mama, ficamos com 34.711 registros"
      ],
      "metadata": {
        "id": "lsWmdzyB0wLE"
      }
    },
    {
      "cell_type": "code",
      "source": [
        "df['ANODIAG'].value_counts()"
      ],
      "metadata": {
        "colab": {
          "base_uri": "https://localhost:8080/"
        },
        "id": "2d4Gcfgfzxd4",
        "outputId": "9211a2d1-b824-4fc2-8311-e6ea03471d00"
      },
      "execution_count": 16,
      "outputs": [
        {
          "output_type": "execute_result",
          "data": {
            "text/plain": [
              "2019    8820\n",
              "2018    8797\n",
              "2020    6709\n",
              "2021    6619\n",
              "2022    3766\n",
              "Name: ANODIAG, dtype: int64"
            ]
          },
          "metadata": {},
          "execution_count": 16
        }
      ]
    },
    {
      "cell_type": "markdown",
      "source": [
        "A maior parte dos registros é de 2019, seguido por 2019, 2020, 2021 e 2022, o último com apenas 3766 registros."
      ],
      "metadata": {
        "id": "M-B5FOR800CP"
      }
    },
    {
      "cell_type": "code",
      "source": [
        "df.info()"
      ],
      "metadata": {
        "colab": {
          "base_uri": "https://localhost:8080/"
        },
        "id": "Ka4Wg9y50gEU",
        "outputId": "5d671aab-408d-41e3-8d04-50dc4a53b064"
      },
      "execution_count": 17,
      "outputs": [
        {
          "output_type": "stream",
          "name": "stdout",
          "text": [
            "<class 'pandas.core.frame.DataFrame'>\n",
            "Int64Index: 34711 entries, 6 to 246087\n",
            "Data columns (total 99 columns):\n",
            " #   Column      Non-Null Count  Dtype \n",
            "---  ------      --------------  ----- \n",
            " 0   ESCOLARI    34711 non-null  object\n",
            " 1   IDADE       34711 non-null  object\n",
            " 2   SEXO        34711 non-null  object\n",
            " 3   UFNASC      34711 non-null  object\n",
            " 4   UFRESID     34711 non-null  object\n",
            " 5   IBGE        34711 non-null  object\n",
            " 6   CIDADE      34711 non-null  object\n",
            " 7   CATEATEND   34711 non-null  object\n",
            " 8   DTCONSULT   34711 non-null  object\n",
            " 9   CLINICA     34711 non-null  object\n",
            " 10  DIAGPREV    34711 non-null  object\n",
            " 11  DTDIAG      34711 non-null  object\n",
            " 12  BASEDIAG    34711 non-null  object\n",
            " 13  TOPO        34711 non-null  object\n",
            " 14  TOPOGRUP    34711 non-null  object\n",
            " 15  DESCTOPO    34711 non-null  object\n",
            " 16  MORFO       34711 non-null  object\n",
            " 17  DESCMORFO   34711 non-null  object\n",
            " 18  EC          34711 non-null  object\n",
            " 19  ECGRUP      34711 non-null  object\n",
            " 20  T           34711 non-null  object\n",
            " 21  N           34711 non-null  object\n",
            " 22  M           34711 non-null  object\n",
            " 23  PT          34711 non-null  object\n",
            " 24  PN          34711 non-null  object\n",
            " 25  PM          34711 non-null  object\n",
            " 26  S           34711 non-null  object\n",
            " 27  G           34711 non-null  object\n",
            " 28  LOCALTNM    34711 non-null  object\n",
            " 29  IDMITOTIC   34711 non-null  object\n",
            " 30  PSA         34711 non-null  object\n",
            " 31  GLEASON     34711 non-null  object\n",
            " 32  OUTRACLA    34711 non-null  object\n",
            " 33  META01      34711 non-null  object\n",
            " 34  META02      34711 non-null  object\n",
            " 35  META03      34711 non-null  object\n",
            " 36  META04      34711 non-null  object\n",
            " 37  DTTRAT      34711 non-null  object\n",
            " 38  NAOTRAT     34711 non-null  object\n",
            " 39  TRATAMENTO  34711 non-null  object\n",
            " 40  TRATHOSP    34711 non-null  object\n",
            " 41  TRATFANTES  34711 non-null  object\n",
            " 42  TRATFAPOS   34711 non-null  object\n",
            " 43  NENHUM      34711 non-null  object\n",
            " 44  CIRURGIA    34711 non-null  object\n",
            " 45  RADIO       34711 non-null  object\n",
            " 46  QUIMIO      34711 non-null  object\n",
            " 47  HORMONIO    34711 non-null  object\n",
            " 48  TMO         34711 non-null  object\n",
            " 49  IMUNO       34711 non-null  object\n",
            " 50  OUTROS      34711 non-null  object\n",
            " 51  NENHUMANT   34711 non-null  object\n",
            " 52  CIRURANT    34711 non-null  object\n",
            " 53  RADIOANT    34711 non-null  object\n",
            " 54  QUIMIOANT   34711 non-null  object\n",
            " 55  HORMOANT    34711 non-null  object\n",
            " 56  TMOANT      34711 non-null  object\n",
            " 57  IMUNOANT    34711 non-null  object\n",
            " 58  OUTROANT    34711 non-null  object\n",
            " 59  NENHUMAPOS  34711 non-null  object\n",
            " 60  CIRURAPOS   34711 non-null  object\n",
            " 61  RADIOAPOS   34711 non-null  object\n",
            " 62  QUIMIOAPOS  34711 non-null  object\n",
            " 63  HORMOAPOS   34711 non-null  object\n",
            " 64  TMOAPOS     34711 non-null  object\n",
            " 65  IMUNOAPOS   34711 non-null  object\n",
            " 66  OUTROAPOS   34711 non-null  object\n",
            " 67  DTULTINFO   34711 non-null  object\n",
            " 68  ULTINFO     34711 non-null  object\n",
            " 69  CONSDIAG    34711 non-null  object\n",
            " 70  TRATCONS    34711 non-null  object\n",
            " 71  DIAGTRAT    34711 non-null  object\n",
            " 72  ANODIAG     34711 non-null  object\n",
            " 73  CICI        34711 non-null  object\n",
            " 74  CICIGRUP    34711 non-null  object\n",
            " 75  CICISUBGRU  34711 non-null  object\n",
            " 76  FAIXAETAR   34711 non-null  object\n",
            " 77  LATERALI    34711 non-null  object\n",
            " 78  INSTORIG    34711 non-null  object\n",
            " 79  DRS         34711 non-null  object\n",
            " 80  RRAS        34711 non-null  object\n",
            " 81  PERDASEG    34711 non-null  object\n",
            " 82  ERRO        34711 non-null  object\n",
            " 83  DTRECIDIVA  34711 non-null  object\n",
            " 84  RECNENHUM   34711 non-null  object\n",
            " 85  RECLOCAL    34711 non-null  object\n",
            " 86  RECREGIO    34711 non-null  object\n",
            " 87  RECDIST     34711 non-null  object\n",
            " 88  REC01       34711 non-null  object\n",
            " 89  REC02       34711 non-null  object\n",
            " 90  REC03       34711 non-null  object\n",
            " 91  REC04       34711 non-null  object\n",
            " 92  IBGEATEN    34711 non-null  object\n",
            " 93  CIDO        34711 non-null  object\n",
            " 94  DSCCIDO     34711 non-null  object\n",
            " 95  HABILIT     34711 non-null  object\n",
            " 96  HABIT11     34711 non-null  object\n",
            " 97  HABILIT1    34711 non-null  object\n",
            " 98  HABILIT2    34711 non-null  object\n",
            "dtypes: object(99)\n",
            "memory usage: 26.5+ MB\n"
          ]
        }
      ]
    },
    {
      "cell_type": "code",
      "source": [
        "df['TOPO'].value_counts()"
      ],
      "metadata": {
        "colab": {
          "base_uri": "https://localhost:8080/"
        },
        "id": "SaJAgZP94d70",
        "outputId": "c23f5f73-28a4-4d2a-da1c-6623193ac2c6"
      },
      "execution_count": 18,
      "outputs": [
        {
          "output_type": "execute_result",
          "data": {
            "text/plain": [
              "C504    8842\n",
              "C509    8600\n",
              "C508    7727\n",
              "C502    2397\n",
              "C500    2013\n",
              "C501    1721\n",
              "C505    1705\n",
              "C503    1509\n",
              "C506     197\n",
              "Name: TOPO, dtype: int64"
            ]
          },
          "metadata": {},
          "execution_count": 18
        }
      ]
    },
    {
      "cell_type": "markdown",
      "source": [
        "A topografia mais comum (8842 registros) é a C50.4, que se refere ao câncer de mama no quadrante superior externo da mama, seguido pelo C50.9 que se refere a glândula mamária. A topografia menos comum é a C50.6, onde o tumor se localiza no prolongamento axilar da mama\n",
        "\n",
        "**C50 MAMA (exclui pele da mama C44.5)**\n",
        "\n",
        "**C50.0 Mamilo**\n",
        "Aréola\n",
        "\n",
        "**C50.1 Porção central da mama**\n",
        "\n",
        "**C50.2 Quadrante superior interno da mama**\n",
        "\n",
        "**C50.3 Quadrante inferior interno da mama**\n",
        "\n",
        "**C50.4 Quadrante superior externo da mama**\n",
        "\n",
        "**C50.5 Quadrante inferior externo da mama**\n",
        "\n",
        "**C50.6 Prolongamento axilar da mama**\n",
        "\n",
        "**C50.8 Lesão sobreposta da mama**\n",
        "(ver também nota página 61)\n",
        "Linha média da mama\n",
        "Mama externa\n",
        "Mama inferior\n",
        "Mama interna\n",
        "Mama superior\n",
        "\n",
        "**C50.9 Mama, SOE (exclui pele da mama\n",
        "C44.5)**\n",
        "Glândula mamária"
      ],
      "metadata": {
        "id": "hFCLuePi4fPI"
      }
    },
    {
      "cell_type": "markdown",
      "source": [
        "### Distribuição de idade e sexo"
      ],
      "metadata": {
        "id": "celJhvhv6xAn"
      }
    },
    {
      "cell_type": "markdown",
      "source": [
        "#### Idade"
      ],
      "metadata": {
        "id": "LLhpXLl_9K89"
      }
    },
    {
      "cell_type": "code",
      "source": [
        "df['IDADE'] = df['IDADE'].astype(int)"
      ],
      "metadata": {
        "id": "v6MeZ9xF5YaC"
      },
      "execution_count": 19,
      "outputs": []
    },
    {
      "cell_type": "code",
      "source": [
        "df['ANODIAG'] = df['ANODIAG'].astype(int)"
      ],
      "metadata": {
        "id": "bFdglAHfA0-B"
      },
      "execution_count": 20,
      "outputs": []
    },
    {
      "cell_type": "code",
      "source": [
        "df['SEXO'] = df['SEXO'].astype(int)"
      ],
      "metadata": {
        "id": "IHt8IkWBA_6S"
      },
      "execution_count": 21,
      "outputs": []
    },
    {
      "cell_type": "code",
      "source": [
        "sns.histplot(x=df['IDADE'], color='pink')"
      ],
      "metadata": {
        "colab": {
          "base_uri": "https://localhost:8080/",
          "height": 466
        },
        "id": "6P8LwE7a640u",
        "outputId": "dc14f20d-2f12-41f8-8d9e-383776bd3bb2"
      },
      "execution_count": 22,
      "outputs": [
        {
          "output_type": "execute_result",
          "data": {
            "text/plain": [
              "<Axes: xlabel='IDADE', ylabel='Count'>"
            ]
          },
          "metadata": {},
          "execution_count": 22
        },
        {
          "output_type": "display_data",
          "data": {
            "text/plain": [
              "<Figure size 640x480 with 1 Axes>"
            ],
            "image/png": "[encoded data removed]"
          },
          "metadata": {}
        }
      ]
    },
    {
      "cell_type": "markdown",
      "source": [
        "A distribuição de idade parece seguir um padrão próximo a distribuição normal. Entretanto é relevante notar que existem alguns pontos em algumas faixas de idade onde a frequência é quase ou mais do que o dobro dos pontos ao redor. Um exemplo é o ponto ao redor dos 50 anos. Isso pode acontecer porque o screening obrigatório para câncer de mama começa aos 40 anos e as chances de câncer aumentam com a idade."
      ],
      "metadata": {
        "id": "vAPcrq987Lne"
      }
    },
    {
      "cell_type": "code",
      "source": [
        "df['IDADE'].describe()"
      ],
      "metadata": {
        "colab": {
          "base_uri": "https://localhost:8080/"
        },
        "id": "pmra3H2d8UJ6",
        "outputId": "fda01df7-5e7e-4bfc-f5d6-c4b8f5437f8d"
      },
      "execution_count": 23,
      "outputs": [
        {
          "output_type": "execute_result",
          "data": {
            "text/plain": [
              "count    34711.000000\n",
              "mean        56.297571\n",
              "std         13.562862\n",
              "min          1.000000\n",
              "25%         46.000000\n",
              "50%         56.000000\n",
              "75%         66.000000\n",
              "max        102.000000\n",
              "Name: IDADE, dtype: float64"
            ]
          },
          "metadata": {},
          "execution_count": 23
        }
      ]
    },
    {
      "cell_type": "markdown",
      "source": [
        "* A **média** de idade dos pacientes é de 56 anos, com um desvio padrão de 13 anos, ou seja, gira em torno de 43 a 69 anos.\n",
        "\n",
        "* O **valor mínimo** é 1, o que pode ser um dado inserido incorretamente ou um caso de câncer infantil.\n",
        "\n",
        "* A **idade máxima** foi 102 anos."
      ],
      "metadata": {
        "id": "X7HOAyuf8ftQ"
      }
    },
    {
      "cell_type": "code",
      "source": [
        "plt.figure(figsize=(8, 6))\n",
        "bp = plt.boxplot(df['IDADE'], patch_artist=True)\n",
        "\n",
        "for box in bp['boxes']:\n",
        "    box.set(facecolor='pink')\n",
        "\n",
        "plt.grid(axis='y', linestyle='--', linewidth=0.8, alpha=0.5)\n",
        "\n",
        "plt.xlabel('Age')\n",
        "plt.ylabel('')\n",
        "plt.title('Boxplot of Age Distribution')\n",
        "\n",
        "plt.show()"
      ],
      "metadata": {
        "colab": {
          "base_uri": "https://localhost:8080/",
          "height": 564
        },
        "id": "vTkSCClS9JO5",
        "outputId": "737ee9d6-4f3f-4429-fd47-e0586be716fc"
      },
      "execution_count": 24,
      "outputs": [
        {
          "output_type": "display_data",
          "data": {
            "text/plain": [
              "<Figure size 800x600 with 1 Axes>"
            ],
            "image/png": "[encoded data removed]"
          },
          "metadata": {}
        }
      ]
    },
    {
      "cell_type": "markdown",
      "source": [
        "No boxplot é possível observar as informações descritas e que existem alguns outliers em idades < 20 e > 90, aproximadamente."
      ],
      "metadata": {
        "id": "vw3THB7FBVNI"
      }
    },
    {
      "cell_type": "code",
      "source": [
        "# Create a beautiful subdivided boxplot using sns.boxplot\n",
        "plt.figure(figsize=(8, 6))  # Set figure size\n",
        "sns.boxplot(x='TOPO', y='IDADE', data=df, palette=\"flare\")\n",
        "\n",
        "# Add labels and title\n",
        "plt.xlabel('TOPO')\n",
        "plt.ylabel('Age')\n",
        "plt.title('Boxplot da distribuição de idade subdividido pela classificação de topo')\n",
        "\n",
        "# Show the plot\n",
        "plt.show()"
      ],
      "metadata": {
        "colab": {
          "base_uri": "https://localhost:8080/",
          "height": 564
        },
        "id": "aN0z0EWJ_9Ae",
        "outputId": "6faf6e6f-59d5-4736-affd-36380307a56e"
      },
      "execution_count": 25,
      "outputs": [
        {
          "output_type": "display_data",
          "data": {
            "text/plain": [
              "<Figure size 800x600 with 1 Axes>"
            ],
            "image/png": "[encoded data removed]"
          },
          "metadata": {}
        }
      ]
    },
    {
      "cell_type": "code",
      "source": [
        "# Create a beautiful subdivided boxplot using sns.boxplot\n",
        "plt.figure(figsize=(8, 6))  # Set figure size\n",
        "sns.boxplot(x='ANODIAG', y='IDADE', data=df, palette=\"flare\")\n",
        "\n",
        "# Add labels and title\n",
        "plt.xlabel('Ano')\n",
        "plt.ylabel('Idade')\n",
        "plt.title('Boxplot da distribuição de idade subdividido pelo ano de diagnóstico')\n",
        "\n",
        "# Show the plot\n",
        "plt.show()"
      ],
      "metadata": {
        "colab": {
          "base_uri": "https://localhost:8080/",
          "height": 565
        },
        "id": "2OrVorwwAp49",
        "outputId": "ebdbcd01-f02d-4241-9677-f47dd625b346"
      },
      "execution_count": 26,
      "outputs": [
        {
          "output_type": "display_data",
          "data": {
            "text/plain": [
              "<Figure size 800x600 with 1 Axes>"
            ],
            "image/png": "[encoded data removed]"
          },
          "metadata": {}
        }
      ]
    },
    {
      "cell_type": "code",
      "source": [
        "# Create a beautiful subdivided boxplot using sns.boxplot\n",
        "plt.figure(figsize=(8, 6))  # Set figure size\n",
        "sns.boxplot(x='SEXO', y='IDADE', data=df, palette=\"flare\")\n",
        "\n",
        "# Add labels and title\n",
        "plt.xlabel('Sexo')\n",
        "plt.ylabel('Idade')\n",
        "plt.title('Boxplot de distribuição de idade subdividido pelo sexo')\n",
        "\n",
        "# Show the plot\n",
        "plt.show()"
      ],
      "metadata": {
        "colab": {
          "base_uri": "https://localhost:8080/",
          "height": 564
        },
        "id": "Jd2iNfvmA76F",
        "outputId": "0fdbe36a-65fe-445d-e9ab-fb3b5e32d1c4"
      },
      "execution_count": 27,
      "outputs": [
        {
          "output_type": "display_data",
          "data": {
            "text/plain": [
              "<Figure size 800x600 with 1 Axes>"
            ],
            "image/png": "[encoded data removed]"
          },
          "metadata": {}
        }
      ]
    },
    {
      "cell_type": "markdown",
      "source": [
        "A idade parece ser similar entre os diferentes subtipos tumorais e os diferentes anos de diagnóstico incluidos. Comparando a distribuição de idade entre câncer de mama feminino e masculino, é possível ver que o câncer de mama masculino (1) em geral se manifesta em uma idade mais elevada."
      ],
      "metadata": {
        "id": "gtrOM9RmAndG"
      }
    },
    {
      "cell_type": "markdown",
      "source": [
        "#### Sexo"
      ],
      "metadata": {
        "id": "E9I1CUOV9NQT"
      }
    },
    {
      "cell_type": "code",
      "source": [
        "df['SEXO'] = df['SEXO'].astype(int)"
      ],
      "metadata": {
        "id": "HOusKg8S7EoR"
      },
      "execution_count": 28,
      "outputs": []
    },
    {
      "cell_type": "code",
      "source": [
        "sns.histplot(x=df['SEXO'], color='pink')"
      ],
      "metadata": {
        "colab": {
          "base_uri": "https://localhost:8080/",
          "height": 466
        },
        "id": "BTeV4BqR7KZB",
        "outputId": "1bd9d90d-ff40-4bca-ad55-456697c6fbf1"
      },
      "execution_count": 29,
      "outputs": [
        {
          "output_type": "execute_result",
          "data": {
            "text/plain": [
              "<Axes: xlabel='SEXO', ylabel='Count'>"
            ]
          },
          "metadata": {},
          "execution_count": 29
        },
        {
          "output_type": "display_data",
          "data": {
            "text/plain": [
              "<Figure size 640x480 with 1 Axes>"
            ],
            "image/png": "[encoded data removed]"
          },
          "metadata": {}
        }
      ]
    },
    {
      "cell_type": "code",
      "source": [
        "df['SEXO'].value_counts()"
      ],
      "metadata": {
        "colab": {
          "base_uri": "https://localhost:8080/"
        },
        "id": "Mk9wWp6wmxDc",
        "outputId": "f50ee287-8c66-4f91-d487-644791262888"
      },
      "execution_count": 33,
      "outputs": [
        {
          "output_type": "execute_result",
          "data": {
            "text/plain": [
              "2    34387\n",
              "1      324\n",
              "Name: SEXO, dtype: int64"
            ]
          },
          "metadata": {},
          "execution_count": 33
        }
      ]
    },
    {
      "cell_type": "markdown",
      "source": [
        "Como esperado, a frequência para casos de câncer de mama no sexo feminino corresponde a maioria dos dados."
      ],
      "metadata": {
        "id": "UahmLX_p8Bqe"
      }
    },
    {
      "cell_type": "markdown",
      "source": [
        "### Categoria de atendimento\n",
        "\n",
        "1 - CONVENIO\n",
        "\n",
        "2 - SUS\n",
        "\n",
        "3 – PARTICULAR\n",
        "\n",
        "9 – SEM INFORMAÇÃO"
      ],
      "metadata": {
        "id": "Yqgda7GEm5Dv"
      }
    },
    {
      "cell_type": "code",
      "source": [
        "df['CATEATEND'] = df['CATEATEND'].astype(int)"
      ],
      "metadata": {
        "id": "VGaQDoC9m8Km"
      },
      "execution_count": 34,
      "outputs": []
    },
    {
      "cell_type": "code",
      "source": [
        "df['CATEATEND'].value_counts()"
      ],
      "metadata": {
        "colab": {
          "base_uri": "https://localhost:8080/"
        },
        "id": "MHWGnAbRnFwa",
        "outputId": "ed86d33f-f429-489a-e4d6-3f8d0644aa3e"
      },
      "execution_count": 35,
      "outputs": [
        {
          "output_type": "execute_result",
          "data": {
            "text/plain": [
              "2    27324\n",
              "1     7172\n",
              "3      215\n",
              "Name: CATEATEND, dtype: int64"
            ]
          },
          "metadata": {},
          "execution_count": 35
        }
      ]
    },
    {
      "cell_type": "markdown",
      "source": [
        "A grande maioria dos pacientes do banco de dados foram atendidos pelo SUS.\n",
        "\n",
        "20% dos registros são de pacientes com convênio e menos de 1% são de pacientes com atendimento ao diagnóstico particular"
      ],
      "metadata": {
        "id": "tv4fQiY9nPuV"
      }
    },
    {
      "cell_type": "markdown",
      "source": [
        "### Qual o período médio entre o diagnóstico e a recidiva"
      ],
      "metadata": {
        "id": "dOhS-D1jnKRS"
      }
    },
    {
      "cell_type": "markdown",
      "source": [
        "### Frequência da variável alvo\n",
        "\n",
        "Como queremos predizer a recidiva, nossa label será a variável 'RECNENHUM', que infoma se o paciente teve recidiva (1) ou se não teve recidiva (0)"
      ],
      "metadata": {
        "id": "Z3RsCR8DDJxQ"
      }
    },
    {
      "cell_type": "code",
      "source": [
        "df['RECNENHUM'] = df['RECNENHUM'].astype(int)"
      ],
      "metadata": {
        "id": "i8ZzNsb9oobh"
      },
      "execution_count": 36,
      "outputs": []
    },
    {
      "cell_type": "code",
      "source": [
        "df['RECNENHUM'].value_counts()"
      ],
      "metadata": {
        "colab": {
          "base_uri": "https://localhost:8080/"
        },
        "id": "gUyzpPmyoroX",
        "outputId": "8cf8b1d7-4595-4393-aeaf-3124a294d17f"
      },
      "execution_count": 37,
      "outputs": [
        {
          "output_type": "execute_result",
          "data": {
            "text/plain": [
              "1    32319\n",
              "0     2392\n",
              "Name: RECNENHUM, dtype: int64"
            ]
          },
          "metadata": {},
          "execution_count": 37
        }
      ]
    },
    {
      "cell_type": "markdown",
      "source": [
        "Podemos ver que o dataset é altamente desbalanceado, com apenas cerca de 7% dos casos com recidiva e ~93% sem recidiva"
      ],
      "metadata": {
        "id": "7i7rptNfo3IY"
      }
    },
    {
      "cell_type": "markdown",
      "source": [
        "Temos também as variáveis 'RECLOCAL', 'RECREGIO' e 'RECDIST' que informam se a recidiva foi local, regional ou a distância (metástase)"
      ],
      "metadata": {
        "id": "fAZ6Qa0zpHqU"
      }
    },
    {
      "cell_type": "code",
      "source": [
        "df['RECLOCAL'].value_counts()"
      ],
      "metadata": {
        "colab": {
          "base_uri": "https://localhost:8080/"
        },
        "id": "E3hKVBVBDPJy",
        "outputId": "a291baf0-2efa-4835-ebbf-b6a57f1befd1"
      },
      "execution_count": 30,
      "outputs": [
        {
          "output_type": "execute_result",
          "data": {
            "text/plain": [
              "0    34115\n",
              "1      596\n",
              "Name: RECLOCAL, dtype: int64"
            ]
          },
          "metadata": {},
          "execution_count": 30
        }
      ]
    },
    {
      "cell_type": "code",
      "source": [
        "df['RECREGIO'].value_counts()"
      ],
      "metadata": {
        "colab": {
          "base_uri": "https://localhost:8080/"
        },
        "id": "xHfw7nAaDY2I",
        "outputId": "5be817a9-f142-4a56-a490-46c8096773a7"
      },
      "execution_count": 31,
      "outputs": [
        {
          "output_type": "execute_result",
          "data": {
            "text/plain": [
              "0    34507\n",
              "1      204\n",
              "Name: RECREGIO, dtype: int64"
            ]
          },
          "metadata": {},
          "execution_count": 31
        }
      ]
    },
    {
      "cell_type": "code",
      "source": [
        "df['RECDIST'].value_counts()"
      ],
      "metadata": {
        "colab": {
          "base_uri": "https://localhost:8080/"
        },
        "id": "hVt3G-axDbIm",
        "outputId": "d33a9912-cc48-42de-b504-7c5701f148a0"
      },
      "execution_count": 32,
      "outputs": [
        {
          "output_type": "execute_result",
          "data": {
            "text/plain": [
              "0    32720\n",
              "1     1991\n",
              "Name: RECDIST, dtype: int64"
            ]
          },
          "metadata": {},
          "execution_count": 32
        }
      ]
    },
    {
      "cell_type": "markdown",
      "source": [
        "A frequência de recidiva regional é bastante baixa. A frequência de recidiva a distância compreende a maior parte dos casos."
      ],
      "metadata": {
        "id": "TX5QSFrcDmaI"
      }
    }
  ]
}