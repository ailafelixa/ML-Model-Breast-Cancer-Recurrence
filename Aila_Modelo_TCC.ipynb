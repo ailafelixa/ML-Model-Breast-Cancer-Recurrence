{
  "nbformat": 4,
  "nbformat_minor": 0,
  "metadata": {
    "colab": {
      "provenance": [],
      "authorship_tag": "ABX9TyNM3Z7wteLqtsSqsIGq/ANT",
      "include_colab_link": true
    },
    "kernelspec": {
      "name": "python3",
      "display_name": "Python 3"
    },
    "language_info": {
      "name": "python"
    }
  },
  "cells": [
    {
      "cell_type": "markdown",
      "metadata": {
        "id": "view-in-github",
        "colab_type": "text"
      },
      "source": [
        "<a href=\"https://colab.research.google.com/github/ailafelixa/Model-Breast-Cancer-Recurrence/blob/main/Aila_Modelo_TCC.ipynb\" target=\"_parent\"><img src=\"https://colab.research.google.com/assets/colab-badge.svg\" alt=\"Open In Colab\"/></a>"
      ]
    },
    {
      "cell_type": "markdown",
      "source": [
        "## Importando pacotes necessários\n",
        "\n"
      ],
      "metadata": {
        "id": "8YXE8v1iHpx9"
      }
    },
    {
      "cell_type": "code",
      "execution_count": 1,
      "metadata": {
        "colab": {
          "base_uri": "https://localhost:8080/"
        },
        "id": "c8A5WWXHTEnR",
        "outputId": "2f0c2421-ef5b-4a9c-c375-f2fcf6d6b074"
      },
      "outputs": [
        {
          "output_type": "stream",
          "name": "stdout",
          "text": [
            "Collecting dbfread\n",
            "  Downloading dbfread-2.0.7-py2.py3-none-any.whl (20 kB)\n",
            "Installing collected packages: dbfread\n",
            "Successfully installed dbfread-2.0.7\n"
          ]
        }
      ],
      "source": [
        "import pandas as pd\n",
        "import numpy as np\n",
        "!pip install dbfread\n",
        "from dbfread import DBF\n",
        "from copy import deepcopy\n",
        "import seaborn as sns\n",
        "import matplotlib.pyplot as plt\n",
        "from sklearn.preprocessing import OneHotEncoder\n",
        "from sklearn.model_selection import train_test_split"
      ]
    },
    {
      "cell_type": "code",
      "source": [
        "from google.colab import drive\n",
        "drive.mount('/content/drive')"
      ],
      "metadata": {
        "id": "-ox6c-jVJvwm",
        "colab": {
          "base_uri": "https://localhost:8080/"
        },
        "outputId": "081cd860-d3b6-4a0c-df6c-93156e177db2"
      },
      "execution_count": 2,
      "outputs": [
        {
          "output_type": "stream",
          "name": "stdout",
          "text": [
            "Mounted at /content/drive\n"
          ]
        }
      ]
    },
    {
      "cell_type": "markdown",
      "source": [
        "## Importando os dados originais"
      ],
      "metadata": {
        "id": "yY3oEPj4JEou"
      }
    },
    {
      "cell_type": "code",
      "source": [
        "path_all_data = '/content/drive/MyDrive/Graduação/Décimo semestre/TCC II/Raw data/filtered_df.csv'"
      ],
      "metadata": {
        "id": "ZSd709RQKXxg"
      },
      "execution_count": 3,
      "outputs": []
    },
    {
      "cell_type": "code",
      "source": [
        "df = pd.read_csv(path_all_data)"
      ],
      "metadata": {
        "id": "7hJWa3CzKlFO"
      },
      "execution_count": 4,
      "outputs": []
    },
    {
      "cell_type": "code",
      "source": [
        "df.head()"
      ],
      "metadata": {
        "id": "NTqUwCJTKjsi",
        "colab": {
          "base_uri": "https://localhost:8080/",
          "height": 0
        },
        "outputId": "8ad1f426-0c6e-4374-94c6-c65b049a246f"
      },
      "execution_count": 5,
      "outputs": [
        {
          "output_type": "execute_result",
          "data": {
            "text/plain": [
              "   ESCOLARI  IDADE  SEXO UFNASC UFRESID     IBGE  \\\n",
              "0         9     38     2     SP      SP  3543402   \n",
              "1         9     46     2     MG      SP  3524402   \n",
              "2         9     45     2     SP      SP  3548500   \n",
              "3         9     43     2     SP      SP  3543402   \n",
              "4         5     67     2     SP      SP  3548500   \n",
              "\n",
              "                                              CIDADE  CATEATEND  DTCONSULT  \\\n",
              "0  RIBEIRAO PRETO                                ...          2   20171206   \n",
              "1  JACAREI                                       ...          2   20171006   \n",
              "2  SANTOS                                        ...          2   20190320   \n",
              "3  RIBEIRAO PRETO                                ...          2   20190212   \n",
              "4  SANTOS                                        ...          1   20190702   \n",
              "\n",
              "   CLINICA  ...  REC02  REC03  REC04 IBGEATEN   CIDO  \\\n",
              "0       24  ...                       3543402  80001   \n",
              "1       33  ...                       3524402  80001   \n",
              "2       24  ...                       3548500  80001   \n",
              "3       24  ...                       3543402  80001   \n",
              "4       31  ...                       3548500  80001   \n",
              "\n",
              "                                             DSCCIDO  HABILIT  \\\n",
              "0  NEOPLASIA DE COMPORTAMENTO INCERTO SE BENIGNO ...        1   \n",
              "1  NEOPLASIA DE COMPORTAMENTO INCERTO SE BENIGNO ...        1   \n",
              "2  NEOPLASIA DE COMPORTAMENTO INCERTO SE BENIGNO ...        2   \n",
              "3  NEOPLASIA DE COMPORTAMENTO INCERTO SE BENIGNO ...        1   \n",
              "4  NEOPLASIA DE COMPORTAMENTO INCERTO SE BENIGNO ...        2   \n",
              "\n",
              "                                             HABIT11 HABILIT1 HABILIT2  \n",
              "0  UNACON                                        ...        1        1  \n",
              "1  UNACON                                        ...        1        1  \n",
              "2  UNACON com Servio de Radioterapia            ...        1        1  \n",
              "3  UNACON                                        ...        1        1  \n",
              "4  UNACON com Servio de Radioterapia            ...        1        1  \n",
              "\n",
              "[5 rows x 99 columns]"
            ],
            "text/html": [
              "\n",
              "  <div id=\"df-cdbc6e1b-1cc4-4fff-94ef-8639712c0fee\" class=\"colab-df-container\">\n",
              "    <div>\n",
              "<style scoped>\n",
              "    .dataframe tbody tr th:only-of-type {\n",
              "        vertical-align: middle;\n",
              "    }\n",
              "\n",
              "    .dataframe tbody tr th {\n",
              "        vertical-align: top;\n",
              "    }\n",
              "\n",
              "    .dataframe thead th {\n",
              "        text-align: right;\n",
              "    }\n",
              "</style>\n",
              "<table border=\"1\" class=\"dataframe\">\n",
              "  <thead>\n",
              "    <tr style=\"text-align: right;\">\n",
              "      <th></th>\n",
              "      <th>ESCOLARI</th>\n",
              "      <th>IDADE</th>\n",
              "      <th>SEXO</th>\n",
              "      <th>UFNASC</th>\n",
              "      <th>UFRESID</th>\n",
              "      <th>IBGE</th>\n",
              "      <th>CIDADE</th>\n",
              "      <th>CATEATEND</th>\n",
              "      <th>DTCONSULT</th>\n",
              "      <th>CLINICA</th>\n",
              "      <th>...</th>\n",
              "      <th>REC02</th>\n",
              "      <th>REC03</th>\n",
              "      <th>REC04</th>\n",
              "      <th>IBGEATEN</th>\n",
              "      <th>CIDO</th>\n",
              "      <th>DSCCIDO</th>\n",
              "      <th>HABILIT</th>\n",
              "      <th>HABIT11</th>\n",
              "      <th>HABILIT1</th>\n",
              "      <th>HABILIT2</th>\n",
              "    </tr>\n",
              "  </thead>\n",
              "  <tbody>\n",
              "    <tr>\n",
              "      <th>0</th>\n",
              "      <td>9</td>\n",
              "      <td>38</td>\n",
              "      <td>2</td>\n",
              "      <td>SP</td>\n",
              "      <td>SP</td>\n",
              "      <td>3543402</td>\n",
              "      <td>RIBEIRAO PRETO                                ...</td>\n",
              "      <td>2</td>\n",
              "      <td>20171206</td>\n",
              "      <td>24</td>\n",
              "      <td>...</td>\n",
              "      <td></td>\n",
              "      <td></td>\n",
              "      <td></td>\n",
              "      <td>3543402</td>\n",
              "      <td>80001</td>\n",
              "      <td>NEOPLASIA DE COMPORTAMENTO INCERTO SE BENIGNO ...</td>\n",
              "      <td>1</td>\n",
              "      <td>UNACON                                        ...</td>\n",
              "      <td>1</td>\n",
              "      <td>1</td>\n",
              "    </tr>\n",
              "    <tr>\n",
              "      <th>1</th>\n",
              "      <td>9</td>\n",
              "      <td>46</td>\n",
              "      <td>2</td>\n",
              "      <td>MG</td>\n",
              "      <td>SP</td>\n",
              "      <td>3524402</td>\n",
              "      <td>JACAREI                                       ...</td>\n",
              "      <td>2</td>\n",
              "      <td>20171006</td>\n",
              "      <td>33</td>\n",
              "      <td>...</td>\n",
              "      <td></td>\n",
              "      <td></td>\n",
              "      <td></td>\n",
              "      <td>3524402</td>\n",
              "      <td>80001</td>\n",
              "      <td>NEOPLASIA DE COMPORTAMENTO INCERTO SE BENIGNO ...</td>\n",
              "      <td>1</td>\n",
              "      <td>UNACON                                        ...</td>\n",
              "      <td>1</td>\n",
              "      <td>1</td>\n",
              "    </tr>\n",
              "    <tr>\n",
              "      <th>2</th>\n",
              "      <td>9</td>\n",
              "      <td>45</td>\n",
              "      <td>2</td>\n",
              "      <td>SP</td>\n",
              "      <td>SP</td>\n",
              "      <td>3548500</td>\n",
              "      <td>SANTOS                                        ...</td>\n",
              "      <td>2</td>\n",
              "      <td>20190320</td>\n",
              "      <td>24</td>\n",
              "      <td>...</td>\n",
              "      <td></td>\n",
              "      <td></td>\n",
              "      <td></td>\n",
              "      <td>3548500</td>\n",
              "      <td>80001</td>\n",
              "      <td>NEOPLASIA DE COMPORTAMENTO INCERTO SE BENIGNO ...</td>\n",
              "      <td>2</td>\n",
              "      <td>UNACON com Servio de Radioterapia            ...</td>\n",
              "      <td>1</td>\n",
              "      <td>1</td>\n",
              "    </tr>\n",
              "    <tr>\n",
              "      <th>3</th>\n",
              "      <td>9</td>\n",
              "      <td>43</td>\n",
              "      <td>2</td>\n",
              "      <td>SP</td>\n",
              "      <td>SP</td>\n",
              "      <td>3543402</td>\n",
              "      <td>RIBEIRAO PRETO                                ...</td>\n",
              "      <td>2</td>\n",
              "      <td>20190212</td>\n",
              "      <td>24</td>\n",
              "      <td>...</td>\n",
              "      <td></td>\n",
              "      <td></td>\n",
              "      <td></td>\n",
              "      <td>3543402</td>\n",
              "      <td>80001</td>\n",
              "      <td>NEOPLASIA DE COMPORTAMENTO INCERTO SE BENIGNO ...</td>\n",
              "      <td>1</td>\n",
              "      <td>UNACON                                        ...</td>\n",
              "      <td>1</td>\n",
              "      <td>1</td>\n",
              "    </tr>\n",
              "    <tr>\n",
              "      <th>4</th>\n",
              "      <td>5</td>\n",
              "      <td>67</td>\n",
              "      <td>2</td>\n",
              "      <td>SP</td>\n",
              "      <td>SP</td>\n",
              "      <td>3548500</td>\n",
              "      <td>SANTOS                                        ...</td>\n",
              "      <td>1</td>\n",
              "      <td>20190702</td>\n",
              "      <td>31</td>\n",
              "      <td>...</td>\n",
              "      <td></td>\n",
              "      <td></td>\n",
              "      <td></td>\n",
              "      <td>3548500</td>\n",
              "      <td>80001</td>\n",
              "      <td>NEOPLASIA DE COMPORTAMENTO INCERTO SE BENIGNO ...</td>\n",
              "      <td>2</td>\n",
              "      <td>UNACON com Servio de Radioterapia            ...</td>\n",
              "      <td>1</td>\n",
              "      <td>1</td>\n",
              "    </tr>\n",
              "  </tbody>\n",
              "</table>\n",
              "<p>5 rows × 99 columns</p>\n",
              "</div>\n",
              "    <div class=\"colab-df-buttons\">\n",
              "\n",
              "  <div class=\"colab-df-container\">\n",
              "    <button class=\"colab-df-convert\" onclick=\"convertToInteractive('df-cdbc6e1b-1cc4-4fff-94ef-8639712c0fee')\"\n",
              "            title=\"Convert this dataframe to an interactive table.\"\n",
              "            style=\"display:none;\">\n",
              "\n",
              "  <svg xmlns=\"http://www.w3.org/2000/svg\" height=\"24px\" viewBox=\"0 -960 960 960\">\n",
              "    <path d=\"M120-120v-720h720v720H120Zm60-500h600v-160H180v160Zm220 220h160v-160H400v160Zm0 220h160v-160H400v160ZM180-400h160v-160H180v160Zm440 0h160v-160H620v160ZM180-180h160v-160H180v160Zm440 0h160v-160H620v160Z\"/>\n",
              "  </svg>\n",
              "    </button>\n",
              "\n",
              "  <style>\n",
              "    .colab-df-container {\n",
              "      display:flex;\n",
              "      gap: 12px;\n",
              "    }\n",
              "\n",
              "    .colab-df-convert {\n",
              "      background-color: #E8F0FE;\n",
              "      border: none;\n",
              "      border-radius: 50%;\n",
              "      cursor: pointer;\n",
              "      display: none;\n",
              "      fill: #1967D2;\n",
              "      height: 32px;\n",
              "      padding: 0 0 0 0;\n",
              "      width: 32px;\n",
              "    }\n",
              "\n",
              "    .colab-df-convert:hover {\n",
              "      background-color: #E2EBFA;\n",
              "      box-shadow: 0px 1px 2px rgba(60, 64, 67, 0.3), 0px 1px 3px 1px rgba(60, 64, 67, 0.15);\n",
              "      fill: #174EA6;\n",
              "    }\n",
              "\n",
              "    .colab-df-buttons div {\n",
              "      margin-bottom: 4px;\n",
              "    }\n",
              "\n",
              "    [theme=dark] .colab-df-convert {\n",
              "      background-color: #3B4455;\n",
              "      fill: #D2E3FC;\n",
              "    }\n",
              "\n",
              "    [theme=dark] .colab-df-convert:hover {\n",
              "      background-color: #434B5C;\n",
              "      box-shadow: 0px 1px 3px 1px rgba(0, 0, 0, 0.15);\n",
              "      filter: drop-shadow(0px 1px 2px rgba(0, 0, 0, 0.3));\n",
              "      fill: #FFFFFF;\n",
              "    }\n",
              "  </style>\n",
              "\n",
              "    <script>\n",
              "      const buttonEl =\n",
              "        document.querySelector('#df-cdbc6e1b-1cc4-4fff-94ef-8639712c0fee button.colab-df-convert');\n",
              "      buttonEl.style.display =\n",
              "        google.colab.kernel.accessAllowed ? 'block' : 'none';\n",
              "\n",
              "      async function convertToInteractive(key) {\n",
              "        const element = document.querySelector('#df-cdbc6e1b-1cc4-4fff-94ef-8639712c0fee');\n",
              "        const dataTable =\n",
              "          await google.colab.kernel.invokeFunction('convertToInteractive',\n",
              "                                                    [key], {});\n",
              "        if (!dataTable) return;\n",
              "\n",
              "        const docLinkHtml = 'Like what you see? Visit the ' +\n",
              "          '<a target=\"_blank\" href=https://colab.research.google.com/notebooks/data_table.ipynb>data table notebook</a>'\n",
              "          + ' to learn more about interactive tables.';\n",
              "        element.innerHTML = '';\n",
              "        dataTable['output_type'] = 'display_data';\n",
              "        await google.colab.output.renderOutput(dataTable, element);\n",
              "        const docLink = document.createElement('div');\n",
              "        docLink.innerHTML = docLinkHtml;\n",
              "        element.appendChild(docLink);\n",
              "      }\n",
              "    </script>\n",
              "  </div>\n",
              "\n",
              "\n",
              "<div id=\"df-0d29a721-cd24-44e5-8e43-d2cab52ad693\">\n",
              "  <button class=\"colab-df-quickchart\" onclick=\"quickchart('df-0d29a721-cd24-44e5-8e43-d2cab52ad693')\"\n",
              "            title=\"Suggest charts.\"\n",
              "            style=\"display:none;\">\n",
              "\n",
              "<svg xmlns=\"http://www.w3.org/2000/svg\" height=\"24px\"viewBox=\"0 0 24 24\"\n",
              "     width=\"24px\">\n",
              "    <g>\n",
              "        <path d=\"M19 3H5c-1.1 0-2 .9-2 2v14c0 1.1.9 2 2 2h14c1.1 0 2-.9 2-2V5c0-1.1-.9-2-2-2zM9 17H7v-7h2v7zm4 0h-2V7h2v10zm4 0h-2v-4h2v4z\"/>\n",
              "    </g>\n",
              "</svg>\n",
              "  </button>\n",
              "\n",
              "<style>\n",
              "  .colab-df-quickchart {\n",
              "    background-color: #E8F0FE;\n",
              "    border: none;\n",
              "    border-radius: 50%;\n",
              "    cursor: pointer;\n",
              "    display: none;\n",
              "    fill: #1967D2;\n",
              "    height: 32px;\n",
              "    padding: 0 0 0 0;\n",
              "    width: 32px;\n",
              "  }\n",
              "\n",
              "  .colab-df-quickchart:hover {\n",
              "    background-color: #E2EBFA;\n",
              "    box-shadow: 0px 1px 2px rgba(60, 64, 67, 0.3), 0px 1px 3px 1px rgba(60, 64, 67, 0.15);\n",
              "    fill: #174EA6;\n",
              "  }\n",
              "\n",
              "  [theme=dark] .colab-df-quickchart {\n",
              "    background-color: #3B4455;\n",
              "    fill: #D2E3FC;\n",
              "  }\n",
              "\n",
              "  [theme=dark] .colab-df-quickchart:hover {\n",
              "    background-color: #434B5C;\n",
              "    box-shadow: 0px 1px 3px 1px rgba(0, 0, 0, 0.15);\n",
              "    filter: drop-shadow(0px 1px 2px rgba(0, 0, 0, 0.3));\n",
              "    fill: #FFFFFF;\n",
              "  }\n",
              "</style>\n",
              "\n",
              "  <script>\n",
              "    async function quickchart(key) {\n",
              "      const charts = await google.colab.kernel.invokeFunction(\n",
              "          'suggestCharts', [key], {});\n",
              "    }\n",
              "    (() => {\n",
              "      let quickchartButtonEl =\n",
              "        document.querySelector('#df-0d29a721-cd24-44e5-8e43-d2cab52ad693 button');\n",
              "      quickchartButtonEl.style.display =\n",
              "        google.colab.kernel.accessAllowed ? 'block' : 'none';\n",
              "    })();\n",
              "  </script>\n",
              "</div>\n",
              "    </div>\n",
              "  </div>\n"
            ]
          },
          "metadata": {},
          "execution_count": 5
        }
      ]
    },
    {
      "cell_type": "code",
      "source": [
        "df.columns"
      ],
      "metadata": {
        "id": "8eQc-iT0K95y",
        "colab": {
          "base_uri": "https://localhost:8080/"
        },
        "outputId": "5ca9306c-09dc-48af-eac1-712f477ad4e9"
      },
      "execution_count": 6,
      "outputs": [
        {
          "output_type": "execute_result",
          "data": {
            "text/plain": [
              "Index(['ESCOLARI', 'IDADE', 'SEXO', 'UFNASC', 'UFRESID', 'IBGE', 'CIDADE',\n",
              "       'CATEATEND', 'DTCONSULT', 'CLINICA', 'DIAGPREV', 'DTDIAG', 'BASEDIAG',\n",
              "       'TOPO', 'TOPOGRUP', 'DESCTOPO', 'MORFO', 'DESCMORFO', 'EC', 'ECGRUP',\n",
              "       'T', 'N', 'M', 'PT', 'PN', 'PM', 'S', 'G', 'LOCALTNM', 'IDMITOTIC',\n",
              "       'PSA', 'GLEASON', 'OUTRACLA', 'META01', 'META02', 'META03', 'META04',\n",
              "       'DTTRAT', 'NAOTRAT', 'TRATAMENTO', 'TRATHOSP', 'TRATFANTES',\n",
              "       'TRATFAPOS', 'NENHUM', 'CIRURGIA', 'RADIO', 'QUIMIO', 'HORMONIO', 'TMO',\n",
              "       'IMUNO', 'OUTROS', 'NENHUMANT', 'CIRURANT', 'RADIOANT', 'QUIMIOANT',\n",
              "       'HORMOANT', 'TMOANT', 'IMUNOANT', 'OUTROANT', 'NENHUMAPOS', 'CIRURAPOS',\n",
              "       'RADIOAPOS', 'QUIMIOAPOS', 'HORMOAPOS', 'TMOAPOS', 'IMUNOAPOS',\n",
              "       'OUTROAPOS', 'DTULTINFO', 'ULTINFO', 'CONSDIAG', 'TRATCONS', 'DIAGTRAT',\n",
              "       'ANODIAG', 'CICI', 'CICIGRUP', 'CICISUBGRU', 'FAIXAETAR', 'LATERALI',\n",
              "       'INSTORIG', 'DRS', 'RRAS', 'PERDASEG', 'ERRO', 'DTRECIDIVA',\n",
              "       'RECNENHUM', 'RECLOCAL', 'RECREGIO', 'RECDIST', 'REC01', 'REC02',\n",
              "       'REC03', 'REC04', 'IBGEATEN', 'CIDO', 'DSCCIDO', 'HABILIT', 'HABIT11',\n",
              "       'HABILIT1', 'HABILIT2'],\n",
              "      dtype='object')"
            ]
          },
          "metadata": {},
          "execution_count": 6
        }
      ]
    },
    {
      "cell_type": "code",
      "source": [
        "df['TOPOGRUP'].value_counts()"
      ],
      "metadata": {
        "id": "1nXzefQb3Jbw",
        "colab": {
          "base_uri": "https://localhost:8080/"
        },
        "outputId": "21db6a12-9860-4495-d32d-185c2c77ad80"
      },
      "execution_count": 7,
      "outputs": [
        {
          "output_type": "execute_result",
          "data": {
            "text/plain": [
              "C50    54217\n",
              "Name: TOPOGRUP, dtype: int64"
            ]
          },
          "metadata": {},
          "execution_count": 7
        }
      ]
    },
    {
      "cell_type": "markdown",
      "source": [
        "## Análise exploratória"
      ],
      "metadata": {
        "id": "MhTUeGl-Jgrz"
      }
    },
    {
      "cell_type": "markdown",
      "source": [
        "O conjunto de dados tem 99 variáveis diferentes. Todas elas estão mapeadas nessa planilha: [Mapeamento das features - Dados Fundação Oncocentro de São Paulo](https://docs.google.com/spreadsheets/d/1L2r1G277d4B9qrjMEpRDFxbuflEYIOLojrDajy)"
      ],
      "metadata": {
        "id": "DHGfSxS8mDr8"
      }
    },
    {
      "cell_type": "code",
      "source": [
        "df.info()"
      ],
      "metadata": {
        "id": "1yEyY3dxH_cv",
        "colab": {
          "base_uri": "https://localhost:8080/"
        },
        "outputId": "ec8aa776-0b52-4c5f-c4d2-95206fe01147"
      },
      "execution_count": 8,
      "outputs": [
        {
          "output_type": "stream",
          "name": "stdout",
          "text": [
            "<class 'pandas.core.frame.DataFrame'>\n",
            "RangeIndex: 54217 entries, 0 to 54216\n",
            "Data columns (total 99 columns):\n",
            " #   Column      Non-Null Count  Dtype \n",
            "---  ------      --------------  ----- \n",
            " 0   ESCOLARI    54217 non-null  int64 \n",
            " 1   IDADE       54217 non-null  int64 \n",
            " 2   SEXO        54217 non-null  int64 \n",
            " 3   UFNASC      54217 non-null  object\n",
            " 4   UFRESID     54217 non-null  object\n",
            " 5   IBGE        54217 non-null  int64 \n",
            " 6   CIDADE      54217 non-null  object\n",
            " 7   CATEATEND   54217 non-null  int64 \n",
            " 8   DTCONSULT   54217 non-null  int64 \n",
            " 9   CLINICA     54217 non-null  int64 \n",
            " 10  DIAGPREV    54217 non-null  int64 \n",
            " 11  DTDIAG      54217 non-null  int64 \n",
            " 12  BASEDIAG    54217 non-null  int64 \n",
            " 13  TOPO        54217 non-null  object\n",
            " 14  TOPOGRUP    54217 non-null  object\n",
            " 15  DESCTOPO    54217 non-null  object\n",
            " 16  MORFO       54217 non-null  int64 \n",
            " 17  DESCMORFO   54217 non-null  object\n",
            " 18  EC          54217 non-null  object\n",
            " 19  ECGRUP      54217 non-null  object\n",
            " 20  T           54217 non-null  object\n",
            " 21  N           54217 non-null  object\n",
            " 22  M           54217 non-null  object\n",
            " 23  PT          54217 non-null  object\n",
            " 24  PN          54217 non-null  object\n",
            " 25  PM          54217 non-null  object\n",
            " 26  S           54217 non-null  int64 \n",
            " 27  G           54217 non-null  int64 \n",
            " 28  LOCALTNM    54217 non-null  int64 \n",
            " 29  IDMITOTIC   54217 non-null  int64 \n",
            " 30  PSA         54217 non-null  int64 \n",
            " 31  GLEASON     54217 non-null  int64 \n",
            " 32  OUTRACLA    54217 non-null  object\n",
            " 33  META01      54217 non-null  object\n",
            " 34  META02      54217 non-null  object\n",
            " 35  META03      54217 non-null  object\n",
            " 36  META04      54217 non-null  object\n",
            " 37  DTTRAT      54217 non-null  object\n",
            " 38  NAOTRAT     54217 non-null  int64 \n",
            " 39  TRATAMENTO  54217 non-null  object\n",
            " 40  TRATHOSP    54217 non-null  object\n",
            " 41  TRATFANTES  54217 non-null  object\n",
            " 42  TRATFAPOS   54217 non-null  object\n",
            " 43  NENHUM      54217 non-null  int64 \n",
            " 44  CIRURGIA    54217 non-null  int64 \n",
            " 45  RADIO       54217 non-null  int64 \n",
            " 46  QUIMIO      54217 non-null  int64 \n",
            " 47  HORMONIO    54217 non-null  int64 \n",
            " 48  TMO         54217 non-null  int64 \n",
            " 49  IMUNO       54217 non-null  int64 \n",
            " 50  OUTROS      54217 non-null  int64 \n",
            " 51  NENHUMANT   54217 non-null  int64 \n",
            " 52  CIRURANT    54217 non-null  int64 \n",
            " 53  RADIOANT    54217 non-null  int64 \n",
            " 54  QUIMIOANT   54217 non-null  int64 \n",
            " 55  HORMOANT    54217 non-null  int64 \n",
            " 56  TMOANT      54217 non-null  int64 \n",
            " 57  IMUNOANT    54217 non-null  int64 \n",
            " 58  OUTROANT    54217 non-null  int64 \n",
            " 59  NENHUMAPOS  54217 non-null  int64 \n",
            " 60  CIRURAPOS   54217 non-null  int64 \n",
            " 61  RADIOAPOS   54217 non-null  int64 \n",
            " 62  QUIMIOAPOS  54217 non-null  int64 \n",
            " 63  HORMOAPOS   54217 non-null  int64 \n",
            " 64  TMOAPOS     54217 non-null  int64 \n",
            " 65  IMUNOAPOS   54217 non-null  int64 \n",
            " 66  OUTROAPOS   54217 non-null  int64 \n",
            " 67  DTULTINFO   54217 non-null  object\n",
            " 68  ULTINFO     54217 non-null  int64 \n",
            " 69  CONSDIAG    54217 non-null  object\n",
            " 70  TRATCONS    54217 non-null  object\n",
            " 71  DIAGTRAT    54217 non-null  object\n",
            " 72  ANODIAG     54217 non-null  int64 \n",
            " 73  CICI        54217 non-null  object\n",
            " 74  CICIGRUP    54217 non-null  object\n",
            " 75  CICISUBGRU  54217 non-null  object\n",
            " 76  FAIXAETAR   54217 non-null  object\n",
            " 77  LATERALI    54217 non-null  int64 \n",
            " 78  INSTORIG    54217 non-null  object\n",
            " 79  DRS         54217 non-null  object\n",
            " 80  RRAS        54217 non-null  int64 \n",
            " 81  PERDASEG    54217 non-null  int64 \n",
            " 82  ERRO        54217 non-null  int64 \n",
            " 83  DTRECIDIVA  54217 non-null  object\n",
            " 84  RECNENHUM   54217 non-null  int64 \n",
            " 85  RECLOCAL    54217 non-null  int64 \n",
            " 86  RECREGIO    54217 non-null  int64 \n",
            " 87  RECDIST     54217 non-null  int64 \n",
            " 88  REC01       54217 non-null  object\n",
            " 89  REC02       54217 non-null  object\n",
            " 90  REC03       54217 non-null  object\n",
            " 91  REC04       54217 non-null  object\n",
            " 92  IBGEATEN    54217 non-null  int64 \n",
            " 93  CIDO        54217 non-null  int64 \n",
            " 94  DSCCIDO     54217 non-null  object\n",
            " 95  HABILIT     54217 non-null  int64 \n",
            " 96  HABIT11     54217 non-null  object\n",
            " 97  HABILIT1    54217 non-null  int64 \n",
            " 98  HABILIT2    54217 non-null  int64 \n",
            "dtypes: int64(57), object(42)\n",
            "memory usage: 41.0+ MB\n"
          ]
        }
      ]
    },
    {
      "cell_type": "markdown",
      "source": [
        "#### Convertendo as colunas para os tipos corretos\n",
        "\n",
        "Todas as colunas estão como tipo 'object'. Para facilitar a análise exploratória, vamos converte-las para os tipos corretos."
      ],
      "metadata": {
        "id": "m9Z0CJHfH8aV"
      }
    },
    {
      "cell_type": "code",
      "source": [
        "## Convertendo colunas numéricas\n",
        "numeric_columns = []\n",
        "for col in df.columns:\n",
        "    try:\n",
        "        pd.to_numeric(df[col], downcast='integer', errors='raise')\n",
        "        numeric_columns.append(col)\n",
        "    except (ValueError, TypeError):\n",
        "        pass\n",
        "\n",
        "df[numeric_columns] = df[numeric_columns].astype(int)"
      ],
      "metadata": {
        "id": "cuR0sxnIIFix"
      },
      "execution_count": 9,
      "outputs": []
    },
    {
      "cell_type": "code",
      "source": [
        "df.head()"
      ],
      "metadata": {
        "id": "63CQLPMOaY_6",
        "colab": {
          "base_uri": "https://localhost:8080/",
          "height": 409
        },
        "outputId": "16da1c9d-2913-4ee6-8ff5-3d740597a566"
      },
      "execution_count": 10,
      "outputs": [
        {
          "output_type": "execute_result",
          "data": {
            "text/plain": [
              "   ESCOLARI  IDADE  SEXO UFNASC UFRESID     IBGE  \\\n",
              "0         9     38     2     SP      SP  3543402   \n",
              "1         9     46     2     MG      SP  3524402   \n",
              "2         9     45     2     SP      SP  3548500   \n",
              "3         9     43     2     SP      SP  3543402   \n",
              "4         5     67     2     SP      SP  3548500   \n",
              "\n",
              "                                              CIDADE  CATEATEND  DTCONSULT  \\\n",
              "0  RIBEIRAO PRETO                                ...          2   20171206   \n",
              "1  JACAREI                                       ...          2   20171006   \n",
              "2  SANTOS                                        ...          2   20190320   \n",
              "3  RIBEIRAO PRETO                                ...          2   20190212   \n",
              "4  SANTOS                                        ...          1   20190702   \n",
              "\n",
              "   CLINICA  ...  REC02  REC03  REC04 IBGEATEN   CIDO  \\\n",
              "0       24  ...                       3543402  80001   \n",
              "1       33  ...                       3524402  80001   \n",
              "2       24  ...                       3548500  80001   \n",
              "3       24  ...                       3543402  80001   \n",
              "4       31  ...                       3548500  80001   \n",
              "\n",
              "                                             DSCCIDO  HABILIT  \\\n",
              "0  NEOPLASIA DE COMPORTAMENTO INCERTO SE BENIGNO ...        1   \n",
              "1  NEOPLASIA DE COMPORTAMENTO INCERTO SE BENIGNO ...        1   \n",
              "2  NEOPLASIA DE COMPORTAMENTO INCERTO SE BENIGNO ...        2   \n",
              "3  NEOPLASIA DE COMPORTAMENTO INCERTO SE BENIGNO ...        1   \n",
              "4  NEOPLASIA DE COMPORTAMENTO INCERTO SE BENIGNO ...        2   \n",
              "\n",
              "                                             HABIT11 HABILIT1 HABILIT2  \n",
              "0  UNACON                                        ...        1        1  \n",
              "1  UNACON                                        ...        1        1  \n",
              "2  UNACON com Servio de Radioterapia            ...        1        1  \n",
              "3  UNACON                                        ...        1        1  \n",
              "4  UNACON com Servio de Radioterapia            ...        1        1  \n",
              "\n",
              "[5 rows x 99 columns]"
            ],
            "text/html": [
              "\n",
              "  <div id=\"df-44088788-f74a-4b36-8c14-96bf59eaf424\" class=\"colab-df-container\">\n",
              "    <div>\n",
              "<style scoped>\n",
              "    .dataframe tbody tr th:only-of-type {\n",
              "        vertical-align: middle;\n",
              "    }\n",
              "\n",
              "    .dataframe tbody tr th {\n",
              "        vertical-align: top;\n",
              "    }\n",
              "\n",
              "    .dataframe thead th {\n",
              "        text-align: right;\n",
              "    }\n",
              "</style>\n",
              "<table border=\"1\" class=\"dataframe\">\n",
              "  <thead>\n",
              "    <tr style=\"text-align: right;\">\n",
              "      <th></th>\n",
              "      <th>ESCOLARI</th>\n",
              "      <th>IDADE</th>\n",
              "      <th>SEXO</th>\n",
              "      <th>UFNASC</th>\n",
              "      <th>UFRESID</th>\n",
              "      <th>IBGE</th>\n",
              "      <th>CIDADE</th>\n",
              "      <th>CATEATEND</th>\n",
              "      <th>DTCONSULT</th>\n",
              "      <th>CLINICA</th>\n",
              "      <th>...</th>\n",
              "      <th>REC02</th>\n",
              "      <th>REC03</th>\n",
              "      <th>REC04</th>\n",
              "      <th>IBGEATEN</th>\n",
              "      <th>CIDO</th>\n",
              "      <th>DSCCIDO</th>\n",
              "      <th>HABILIT</th>\n",
              "      <th>HABIT11</th>\n",
              "      <th>HABILIT1</th>\n",
              "      <th>HABILIT2</th>\n",
              "    </tr>\n",
              "  </thead>\n",
              "  <tbody>\n",
              "    <tr>\n",
              "      <th>0</th>\n",
              "      <td>9</td>\n",
              "      <td>38</td>\n",
              "      <td>2</td>\n",
              "      <td>SP</td>\n",
              "      <td>SP</td>\n",
              "      <td>3543402</td>\n",
              "      <td>RIBEIRAO PRETO                                ...</td>\n",
              "      <td>2</td>\n",
              "      <td>20171206</td>\n",
              "      <td>24</td>\n",
              "      <td>...</td>\n",
              "      <td></td>\n",
              "      <td></td>\n",
              "      <td></td>\n",
              "      <td>3543402</td>\n",
              "      <td>80001</td>\n",
              "      <td>NEOPLASIA DE COMPORTAMENTO INCERTO SE BENIGNO ...</td>\n",
              "      <td>1</td>\n",
              "      <td>UNACON                                        ...</td>\n",
              "      <td>1</td>\n",
              "      <td>1</td>\n",
              "    </tr>\n",
              "    <tr>\n",
              "      <th>1</th>\n",
              "      <td>9</td>\n",
              "      <td>46</td>\n",
              "      <td>2</td>\n",
              "      <td>MG</td>\n",
              "      <td>SP</td>\n",
              "      <td>3524402</td>\n",
              "      <td>JACAREI                                       ...</td>\n",
              "      <td>2</td>\n",
              "      <td>20171006</td>\n",
              "      <td>33</td>\n",
              "      <td>...</td>\n",
              "      <td></td>\n",
              "      <td></td>\n",
              "      <td></td>\n",
              "      <td>3524402</td>\n",
              "      <td>80001</td>\n",
              "      <td>NEOPLASIA DE COMPORTAMENTO INCERTO SE BENIGNO ...</td>\n",
              "      <td>1</td>\n",
              "      <td>UNACON                                        ...</td>\n",
              "      <td>1</td>\n",
              "      <td>1</td>\n",
              "    </tr>\n",
              "    <tr>\n",
              "      <th>2</th>\n",
              "      <td>9</td>\n",
              "      <td>45</td>\n",
              "      <td>2</td>\n",
              "      <td>SP</td>\n",
              "      <td>SP</td>\n",
              "      <td>3548500</td>\n",
              "      <td>SANTOS                                        ...</td>\n",
              "      <td>2</td>\n",
              "      <td>20190320</td>\n",
              "      <td>24</td>\n",
              "      <td>...</td>\n",
              "      <td></td>\n",
              "      <td></td>\n",
              "      <td></td>\n",
              "      <td>3548500</td>\n",
              "      <td>80001</td>\n",
              "      <td>NEOPLASIA DE COMPORTAMENTO INCERTO SE BENIGNO ...</td>\n",
              "      <td>2</td>\n",
              "      <td>UNACON com Servio de Radioterapia            ...</td>\n",
              "      <td>1</td>\n",
              "      <td>1</td>\n",
              "    </tr>\n",
              "    <tr>\n",
              "      <th>3</th>\n",
              "      <td>9</td>\n",
              "      <td>43</td>\n",
              "      <td>2</td>\n",
              "      <td>SP</td>\n",
              "      <td>SP</td>\n",
              "      <td>3543402</td>\n",
              "      <td>RIBEIRAO PRETO                                ...</td>\n",
              "      <td>2</td>\n",
              "      <td>20190212</td>\n",
              "      <td>24</td>\n",
              "      <td>...</td>\n",
              "      <td></td>\n",
              "      <td></td>\n",
              "      <td></td>\n",
              "      <td>3543402</td>\n",
              "      <td>80001</td>\n",
              "      <td>NEOPLASIA DE COMPORTAMENTO INCERTO SE BENIGNO ...</td>\n",
              "      <td>1</td>\n",
              "      <td>UNACON                                        ...</td>\n",
              "      <td>1</td>\n",
              "      <td>1</td>\n",
              "    </tr>\n",
              "    <tr>\n",
              "      <th>4</th>\n",
              "      <td>5</td>\n",
              "      <td>67</td>\n",
              "      <td>2</td>\n",
              "      <td>SP</td>\n",
              "      <td>SP</td>\n",
              "      <td>3548500</td>\n",
              "      <td>SANTOS                                        ...</td>\n",
              "      <td>1</td>\n",
              "      <td>20190702</td>\n",
              "      <td>31</td>\n",
              "      <td>...</td>\n",
              "      <td></td>\n",
              "      <td></td>\n",
              "      <td></td>\n",
              "      <td>3548500</td>\n",
              "      <td>80001</td>\n",
              "      <td>NEOPLASIA DE COMPORTAMENTO INCERTO SE BENIGNO ...</td>\n",
              "      <td>2</td>\n",
              "      <td>UNACON com Servio de Radioterapia            ...</td>\n",
              "      <td>1</td>\n",
              "      <td>1</td>\n",
              "    </tr>\n",
              "  </tbody>\n",
              "</table>\n",
              "<p>5 rows × 99 columns</p>\n",
              "</div>\n",
              "    <div class=\"colab-df-buttons\">\n",
              "\n",
              "  <div class=\"colab-df-container\">\n",
              "    <button class=\"colab-df-convert\" onclick=\"convertToInteractive('df-44088788-f74a-4b36-8c14-96bf59eaf424')\"\n",
              "            title=\"Convert this dataframe to an interactive table.\"\n",
              "            style=\"display:none;\">\n",
              "\n",
              "  <svg xmlns=\"http://www.w3.org/2000/svg\" height=\"24px\" viewBox=\"0 -960 960 960\">\n",
              "    <path d=\"M120-120v-720h720v720H120Zm60-500h600v-160H180v160Zm220 220h160v-160H400v160Zm0 220h160v-160H400v160ZM180-400h160v-160H180v160Zm440 0h160v-160H620v160ZM180-180h160v-160H180v160Zm440 0h160v-160H620v160Z\"/>\n",
              "  </svg>\n",
              "    </button>\n",
              "\n",
              "  <style>\n",
              "    .colab-df-container {\n",
              "      display:flex;\n",
              "      gap: 12px;\n",
              "    }\n",
              "\n",
              "    .colab-df-convert {\n",
              "      background-color: #E8F0FE;\n",
              "      border: none;\n",
              "      border-radius: 50%;\n",
              "      cursor: pointer;\n",
              "      display: none;\n",
              "      fill: #1967D2;\n",
              "      height: 32px;\n",
              "      padding: 0 0 0 0;\n",
              "      width: 32px;\n",
              "    }\n",
              "\n",
              "    .colab-df-convert:hover {\n",
              "      background-color: #E2EBFA;\n",
              "      box-shadow: 0px 1px 2px rgba(60, 64, 67, 0.3), 0px 1px 3px 1px rgba(60, 64, 67, 0.15);\n",
              "      fill: #174EA6;\n",
              "    }\n",
              "\n",
              "    .colab-df-buttons div {\n",
              "      margin-bottom: 4px;\n",
              "    }\n",
              "\n",
              "    [theme=dark] .colab-df-convert {\n",
              "      background-color: #3B4455;\n",
              "      fill: #D2E3FC;\n",
              "    }\n",
              "\n",
              "    [theme=dark] .colab-df-convert:hover {\n",
              "      background-color: #434B5C;\n",
              "      box-shadow: 0px 1px 3px 1px rgba(0, 0, 0, 0.15);\n",
              "      filter: drop-shadow(0px 1px 2px rgba(0, 0, 0, 0.3));\n",
              "      fill: #FFFFFF;\n",
              "    }\n",
              "  </style>\n",
              "\n",
              "    <script>\n",
              "      const buttonEl =\n",
              "        document.querySelector('#df-44088788-f74a-4b36-8c14-96bf59eaf424 button.colab-df-convert');\n",
              "      buttonEl.style.display =\n",
              "        google.colab.kernel.accessAllowed ? 'block' : 'none';\n",
              "\n",
              "      async function convertToInteractive(key) {\n",
              "        const element = document.querySelector('#df-44088788-f74a-4b36-8c14-96bf59eaf424');\n",
              "        const dataTable =\n",
              "          await google.colab.kernel.invokeFunction('convertToInteractive',\n",
              "                                                    [key], {});\n",
              "        if (!dataTable) return;\n",
              "\n",
              "        const docLinkHtml = 'Like what you see? Visit the ' +\n",
              "          '<a target=\"_blank\" href=https://colab.research.google.com/notebooks/data_table.ipynb>data table notebook</a>'\n",
              "          + ' to learn more about interactive tables.';\n",
              "        element.innerHTML = '';\n",
              "        dataTable['output_type'] = 'display_data';\n",
              "        await google.colab.output.renderOutput(dataTable, element);\n",
              "        const docLink = document.createElement('div');\n",
              "        docLink.innerHTML = docLinkHtml;\n",
              "        element.appendChild(docLink);\n",
              "      }\n",
              "    </script>\n",
              "  </div>\n",
              "\n",
              "\n",
              "<div id=\"df-39701087-9e0b-4107-9280-0a4c095b95e3\">\n",
              "  <button class=\"colab-df-quickchart\" onclick=\"quickchart('df-39701087-9e0b-4107-9280-0a4c095b95e3')\"\n",
              "            title=\"Suggest charts.\"\n",
              "            style=\"display:none;\">\n",
              "\n",
              "<svg xmlns=\"http://www.w3.org/2000/svg\" height=\"24px\"viewBox=\"0 0 24 24\"\n",
              "     width=\"24px\">\n",
              "    <g>\n",
              "        <path d=\"M19 3H5c-1.1 0-2 .9-2 2v14c0 1.1.9 2 2 2h14c1.1 0 2-.9 2-2V5c0-1.1-.9-2-2-2zM9 17H7v-7h2v7zm4 0h-2V7h2v10zm4 0h-2v-4h2v4z\"/>\n",
              "    </g>\n",
              "</svg>\n",
              "  </button>\n",
              "\n",
              "<style>\n",
              "  .colab-df-quickchart {\n",
              "    background-color: #E8F0FE;\n",
              "    border: none;\n",
              "    border-radius: 50%;\n",
              "    cursor: pointer;\n",
              "    display: none;\n",
              "    fill: #1967D2;\n",
              "    height: 32px;\n",
              "    padding: 0 0 0 0;\n",
              "    width: 32px;\n",
              "  }\n",
              "\n",
              "  .colab-df-quickchart:hover {\n",
              "    background-color: #E2EBFA;\n",
              "    box-shadow: 0px 1px 2px rgba(60, 64, 67, 0.3), 0px 1px 3px 1px rgba(60, 64, 67, 0.15);\n",
              "    fill: #174EA6;\n",
              "  }\n",
              "\n",
              "  [theme=dark] .colab-df-quickchart {\n",
              "    background-color: #3B4455;\n",
              "    fill: #D2E3FC;\n",
              "  }\n",
              "\n",
              "  [theme=dark] .colab-df-quickchart:hover {\n",
              "    background-color: #434B5C;\n",
              "    box-shadow: 0px 1px 3px 1px rgba(0, 0, 0, 0.15);\n",
              "    filter: drop-shadow(0px 1px 2px rgba(0, 0, 0, 0.3));\n",
              "    fill: #FFFFFF;\n",
              "  }\n",
              "</style>\n",
              "\n",
              "  <script>\n",
              "    async function quickchart(key) {\n",
              "      const charts = await google.colab.kernel.invokeFunction(\n",
              "          'suggestCharts', [key], {});\n",
              "    }\n",
              "    (() => {\n",
              "      let quickchartButtonEl =\n",
              "        document.querySelector('#df-39701087-9e0b-4107-9280-0a4c095b95e3 button');\n",
              "      quickchartButtonEl.style.display =\n",
              "        google.colab.kernel.accessAllowed ? 'block' : 'none';\n",
              "    })();\n",
              "  </script>\n",
              "</div>\n",
              "    </div>\n",
              "  </div>\n"
            ]
          },
          "metadata": {},
          "execution_count": 10
        }
      ]
    },
    {
      "cell_type": "code",
      "source": [
        "df.DTCONSULT.head()"
      ],
      "metadata": {
        "id": "tJhqr5Fmb3Zx",
        "colab": {
          "base_uri": "https://localhost:8080/"
        },
        "outputId": "ceed7948-c7fb-4f93-f770-334b02c1fa60"
      },
      "execution_count": 11,
      "outputs": [
        {
          "output_type": "execute_result",
          "data": {
            "text/plain": [
              "0    20171206\n",
              "1    20171006\n",
              "2    20190320\n",
              "3    20190212\n",
              "4    20190702\n",
              "Name: DTCONSULT, dtype: int64"
            ]
          },
          "metadata": {},
          "execution_count": 11
        }
      ]
    },
    {
      "cell_type": "code",
      "source": [
        "df.DTDIAG.head()"
      ],
      "metadata": {
        "id": "t-Rh7jDMb6Mf",
        "colab": {
          "base_uri": "https://localhost:8080/"
        },
        "outputId": "23b6b405-1c26-4100-fd3a-2bae965107fb"
      },
      "execution_count": 12,
      "outputs": [
        {
          "output_type": "execute_result",
          "data": {
            "text/plain": [
              "0    20171122\n",
              "1    20170914\n",
              "2    20160602\n",
              "3    20190115\n",
              "4    20190702\n",
              "Name: DTDIAG, dtype: int64"
            ]
          },
          "metadata": {},
          "execution_count": 12
        }
      ]
    },
    {
      "cell_type": "code",
      "source": [
        "df.DTULTINFO.head()"
      ],
      "metadata": {
        "id": "BnKWzb3Ub891",
        "colab": {
          "base_uri": "https://localhost:8080/"
        },
        "outputId": "e43fed39-92b3-4c7e-a8e8-a030c2311c02"
      },
      "execution_count": 13,
      "outputs": [
        {
          "output_type": "execute_result",
          "data": {
            "text/plain": [
              "0    10/04/2018\n",
              "1    27/07/2022\n",
              "2    09/05/2019\n",
              "3    21/11/2019\n",
              "4    13/08/2019\n",
              "Name: DTULTINFO, dtype: object"
            ]
          },
          "metadata": {},
          "execution_count": 13
        }
      ]
    },
    {
      "cell_type": "code",
      "source": [
        "## Convertendo datas; os valores com data tem strings (******) onde a data não está disponível, então é necessário antes converter isso para NA\n",
        "\n",
        "date_columns = ['DTCONSULT', 'DTDIAG', 'DTULTINFO', 'DTRECIDIVA']\n",
        "df[date_columns] = df[date_columns].replace('********', np.nan)\n",
        "\n",
        "# A coluna 'DTULTINFO' tem uma formatação diferente de data\n",
        "date_formats = {\n",
        "    'DTCONSULT': '%Y%m%d',\n",
        "    'DTDIAG': '%Y%m%d',\n",
        "    'DTULTINFO': '%d/%m/%Y',\n",
        "    'DTRECIDIVA': '%Y%m%d'\n",
        "}\n",
        "\n",
        "for col in date_columns:\n",
        "    df[col] = pd.to_datetime(df[col], format=date_formats[col])"
      ],
      "metadata": {
        "id": "5dpTh6DfJRIF"
      },
      "execution_count": 14,
      "outputs": []
    },
    {
      "cell_type": "code",
      "source": [
        "df.head()"
      ],
      "metadata": {
        "id": "bvJZeSK9bccM",
        "colab": {
          "base_uri": "https://localhost:8080/",
          "height": 409
        },
        "outputId": "3eb10293-5408-44c3-90ae-a6cfae84894c"
      },
      "execution_count": 15,
      "outputs": [
        {
          "output_type": "execute_result",
          "data": {
            "text/plain": [
              "   ESCOLARI  IDADE  SEXO UFNASC UFRESID     IBGE  \\\n",
              "0         9     38     2     SP      SP  3543402   \n",
              "1         9     46     2     MG      SP  3524402   \n",
              "2         9     45     2     SP      SP  3548500   \n",
              "3         9     43     2     SP      SP  3543402   \n",
              "4         5     67     2     SP      SP  3548500   \n",
              "\n",
              "                                              CIDADE  CATEATEND  DTCONSULT  \\\n",
              "0  RIBEIRAO PRETO                                ...          2 2017-12-06   \n",
              "1  JACAREI                                       ...          2 2017-10-06   \n",
              "2  SANTOS                                        ...          2 2019-03-20   \n",
              "3  RIBEIRAO PRETO                                ...          2 2019-02-12   \n",
              "4  SANTOS                                        ...          1 2019-07-02   \n",
              "\n",
              "   CLINICA  ...  REC02 REC03  REC04 IBGEATEN   CIDO  \\\n",
              "0       24  ...                      3543402  80001   \n",
              "1       33  ...                      3524402  80001   \n",
              "2       24  ...                      3548500  80001   \n",
              "3       24  ...                      3543402  80001   \n",
              "4       31  ...                      3548500  80001   \n",
              "\n",
              "                                             DSCCIDO  HABILIT  \\\n",
              "0  NEOPLASIA DE COMPORTAMENTO INCERTO SE BENIGNO ...        1   \n",
              "1  NEOPLASIA DE COMPORTAMENTO INCERTO SE BENIGNO ...        1   \n",
              "2  NEOPLASIA DE COMPORTAMENTO INCERTO SE BENIGNO ...        2   \n",
              "3  NEOPLASIA DE COMPORTAMENTO INCERTO SE BENIGNO ...        1   \n",
              "4  NEOPLASIA DE COMPORTAMENTO INCERTO SE BENIGNO ...        2   \n",
              "\n",
              "                                             HABIT11 HABILIT1 HABILIT2  \n",
              "0  UNACON                                        ...        1        1  \n",
              "1  UNACON                                        ...        1        1  \n",
              "2  UNACON com Servio de Radioterapia            ...        1        1  \n",
              "3  UNACON                                        ...        1        1  \n",
              "4  UNACON com Servio de Radioterapia            ...        1        1  \n",
              "\n",
              "[5 rows x 99 columns]"
            ],
            "text/html": [
              "\n",
              "  <div id=\"df-8330b60a-fdce-45ae-83c6-4c980defabce\" class=\"colab-df-container\">\n",
              "    <div>\n",
              "<style scoped>\n",
              "    .dataframe tbody tr th:only-of-type {\n",
              "        vertical-align: middle;\n",
              "    }\n",
              "\n",
              "    .dataframe tbody tr th {\n",
              "        vertical-align: top;\n",
              "    }\n",
              "\n",
              "    .dataframe thead th {\n",
              "        text-align: right;\n",
              "    }\n",
              "</style>\n",
              "<table border=\"1\" class=\"dataframe\">\n",
              "  <thead>\n",
              "    <tr style=\"text-align: right;\">\n",
              "      <th></th>\n",
              "      <th>ESCOLARI</th>\n",
              "      <th>IDADE</th>\n",
              "      <th>SEXO</th>\n",
              "      <th>UFNASC</th>\n",
              "      <th>UFRESID</th>\n",
              "      <th>IBGE</th>\n",
              "      <th>CIDADE</th>\n",
              "      <th>CATEATEND</th>\n",
              "      <th>DTCONSULT</th>\n",
              "      <th>CLINICA</th>\n",
              "      <th>...</th>\n",
              "      <th>REC02</th>\n",
              "      <th>REC03</th>\n",
              "      <th>REC04</th>\n",
              "      <th>IBGEATEN</th>\n",
              "      <th>CIDO</th>\n",
              "      <th>DSCCIDO</th>\n",
              "      <th>HABILIT</th>\n",
              "      <th>HABIT11</th>\n",
              "      <th>HABILIT1</th>\n",
              "      <th>HABILIT2</th>\n",
              "    </tr>\n",
              "  </thead>\n",
              "  <tbody>\n",
              "    <tr>\n",
              "      <th>0</th>\n",
              "      <td>9</td>\n",
              "      <td>38</td>\n",
              "      <td>2</td>\n",
              "      <td>SP</td>\n",
              "      <td>SP</td>\n",
              "      <td>3543402</td>\n",
              "      <td>RIBEIRAO PRETO                                ...</td>\n",
              "      <td>2</td>\n",
              "      <td>2017-12-06</td>\n",
              "      <td>24</td>\n",
              "      <td>...</td>\n",
              "      <td></td>\n",
              "      <td></td>\n",
              "      <td></td>\n",
              "      <td>3543402</td>\n",
              "      <td>80001</td>\n",
              "      <td>NEOPLASIA DE COMPORTAMENTO INCERTO SE BENIGNO ...</td>\n",
              "      <td>1</td>\n",
              "      <td>UNACON                                        ...</td>\n",
              "      <td>1</td>\n",
              "      <td>1</td>\n",
              "    </tr>\n",
              "    <tr>\n",
              "      <th>1</th>\n",
              "      <td>9</td>\n",
              "      <td>46</td>\n",
              "      <td>2</td>\n",
              "      <td>MG</td>\n",
              "      <td>SP</td>\n",
              "      <td>3524402</td>\n",
              "      <td>JACAREI                                       ...</td>\n",
              "      <td>2</td>\n",
              "      <td>2017-10-06</td>\n",
              "      <td>33</td>\n",
              "      <td>...</td>\n",
              "      <td></td>\n",
              "      <td></td>\n",
              "      <td></td>\n",
              "      <td>3524402</td>\n",
              "      <td>80001</td>\n",
              "      <td>NEOPLASIA DE COMPORTAMENTO INCERTO SE BENIGNO ...</td>\n",
              "      <td>1</td>\n",
              "      <td>UNACON                                        ...</td>\n",
              "      <td>1</td>\n",
              "      <td>1</td>\n",
              "    </tr>\n",
              "    <tr>\n",
              "      <th>2</th>\n",
              "      <td>9</td>\n",
              "      <td>45</td>\n",
              "      <td>2</td>\n",
              "      <td>SP</td>\n",
              "      <td>SP</td>\n",
              "      <td>3548500</td>\n",
              "      <td>SANTOS                                        ...</td>\n",
              "      <td>2</td>\n",
              "      <td>2019-03-20</td>\n",
              "      <td>24</td>\n",
              "      <td>...</td>\n",
              "      <td></td>\n",
              "      <td></td>\n",
              "      <td></td>\n",
              "      <td>3548500</td>\n",
              "      <td>80001</td>\n",
              "      <td>NEOPLASIA DE COMPORTAMENTO INCERTO SE BENIGNO ...</td>\n",
              "      <td>2</td>\n",
              "      <td>UNACON com Servio de Radioterapia            ...</td>\n",
              "      <td>1</td>\n",
              "      <td>1</td>\n",
              "    </tr>\n",
              "    <tr>\n",
              "      <th>3</th>\n",
              "      <td>9</td>\n",
              "      <td>43</td>\n",
              "      <td>2</td>\n",
              "      <td>SP</td>\n",
              "      <td>SP</td>\n",
              "      <td>3543402</td>\n",
              "      <td>RIBEIRAO PRETO                                ...</td>\n",
              "      <td>2</td>\n",
              "      <td>2019-02-12</td>\n",
              "      <td>24</td>\n",
              "      <td>...</td>\n",
              "      <td></td>\n",
              "      <td></td>\n",
              "      <td></td>\n",
              "      <td>3543402</td>\n",
              "      <td>80001</td>\n",
              "      <td>NEOPLASIA DE COMPORTAMENTO INCERTO SE BENIGNO ...</td>\n",
              "      <td>1</td>\n",
              "      <td>UNACON                                        ...</td>\n",
              "      <td>1</td>\n",
              "      <td>1</td>\n",
              "    </tr>\n",
              "    <tr>\n",
              "      <th>4</th>\n",
              "      <td>5</td>\n",
              "      <td>67</td>\n",
              "      <td>2</td>\n",
              "      <td>SP</td>\n",
              "      <td>SP</td>\n",
              "      <td>3548500</td>\n",
              "      <td>SANTOS                                        ...</td>\n",
              "      <td>1</td>\n",
              "      <td>2019-07-02</td>\n",
              "      <td>31</td>\n",
              "      <td>...</td>\n",
              "      <td></td>\n",
              "      <td></td>\n",
              "      <td></td>\n",
              "      <td>3548500</td>\n",
              "      <td>80001</td>\n",
              "      <td>NEOPLASIA DE COMPORTAMENTO INCERTO SE BENIGNO ...</td>\n",
              "      <td>2</td>\n",
              "      <td>UNACON com Servio de Radioterapia            ...</td>\n",
              "      <td>1</td>\n",
              "      <td>1</td>\n",
              "    </tr>\n",
              "  </tbody>\n",
              "</table>\n",
              "<p>5 rows × 99 columns</p>\n",
              "</div>\n",
              "    <div class=\"colab-df-buttons\">\n",
              "\n",
              "  <div class=\"colab-df-container\">\n",
              "    <button class=\"colab-df-convert\" onclick=\"convertToInteractive('df-8330b60a-fdce-45ae-83c6-4c980defabce')\"\n",
              "            title=\"Convert this dataframe to an interactive table.\"\n",
              "            style=\"display:none;\">\n",
              "\n",
              "  <svg xmlns=\"http://www.w3.org/2000/svg\" height=\"24px\" viewBox=\"0 -960 960 960\">\n",
              "    <path d=\"M120-120v-720h720v720H120Zm60-500h600v-160H180v160Zm220 220h160v-160H400v160Zm0 220h160v-160H400v160ZM180-400h160v-160H180v160Zm440 0h160v-160H620v160ZM180-180h160v-160H180v160Zm440 0h160v-160H620v160Z\"/>\n",
              "  </svg>\n",
              "    </button>\n",
              "\n",
              "  <style>\n",
              "    .colab-df-container {\n",
              "      display:flex;\n",
              "      gap: 12px;\n",
              "    }\n",
              "\n",
              "    .colab-df-convert {\n",
              "      background-color: #E8F0FE;\n",
              "      border: none;\n",
              "      border-radius: 50%;\n",
              "      cursor: pointer;\n",
              "      display: none;\n",
              "      fill: #1967D2;\n",
              "      height: 32px;\n",
              "      padding: 0 0 0 0;\n",
              "      width: 32px;\n",
              "    }\n",
              "\n",
              "    .colab-df-convert:hover {\n",
              "      background-color: #E2EBFA;\n",
              "      box-shadow: 0px 1px 2px rgba(60, 64, 67, 0.3), 0px 1px 3px 1px rgba(60, 64, 67, 0.15);\n",
              "      fill: #174EA6;\n",
              "    }\n",
              "\n",
              "    .colab-df-buttons div {\n",
              "      margin-bottom: 4px;\n",
              "    }\n",
              "\n",
              "    [theme=dark] .colab-df-convert {\n",
              "      background-color: #3B4455;\n",
              "      fill: #D2E3FC;\n",
              "    }\n",
              "\n",
              "    [theme=dark] .colab-df-convert:hover {\n",
              "      background-color: #434B5C;\n",
              "      box-shadow: 0px 1px 3px 1px rgba(0, 0, 0, 0.15);\n",
              "      filter: drop-shadow(0px 1px 2px rgba(0, 0, 0, 0.3));\n",
              "      fill: #FFFFFF;\n",
              "    }\n",
              "  </style>\n",
              "\n",
              "    <script>\n",
              "      const buttonEl =\n",
              "        document.querySelector('#df-8330b60a-fdce-45ae-83c6-4c980defabce button.colab-df-convert');\n",
              "      buttonEl.style.display =\n",
              "        google.colab.kernel.accessAllowed ? 'block' : 'none';\n",
              "\n",
              "      async function convertToInteractive(key) {\n",
              "        const element = document.querySelector('#df-8330b60a-fdce-45ae-83c6-4c980defabce');\n",
              "        const dataTable =\n",
              "          await google.colab.kernel.invokeFunction('convertToInteractive',\n",
              "                                                    [key], {});\n",
              "        if (!dataTable) return;\n",
              "\n",
              "        const docLinkHtml = 'Like what you see? Visit the ' +\n",
              "          '<a target=\"_blank\" href=https://colab.research.google.com/notebooks/data_table.ipynb>data table notebook</a>'\n",
              "          + ' to learn more about interactive tables.';\n",
              "        element.innerHTML = '';\n",
              "        dataTable['output_type'] = 'display_data';\n",
              "        await google.colab.output.renderOutput(dataTable, element);\n",
              "        const docLink = document.createElement('div');\n",
              "        docLink.innerHTML = docLinkHtml;\n",
              "        element.appendChild(docLink);\n",
              "      }\n",
              "    </script>\n",
              "  </div>\n",
              "\n",
              "\n",
              "<div id=\"df-29b34936-0491-4997-ae3e-6a942fc55be5\">\n",
              "  <button class=\"colab-df-quickchart\" onclick=\"quickchart('df-29b34936-0491-4997-ae3e-6a942fc55be5')\"\n",
              "            title=\"Suggest charts.\"\n",
              "            style=\"display:none;\">\n",
              "\n",
              "<svg xmlns=\"http://www.w3.org/2000/svg\" height=\"24px\"viewBox=\"0 0 24 24\"\n",
              "     width=\"24px\">\n",
              "    <g>\n",
              "        <path d=\"M19 3H5c-1.1 0-2 .9-2 2v14c0 1.1.9 2 2 2h14c1.1 0 2-.9 2-2V5c0-1.1-.9-2-2-2zM9 17H7v-7h2v7zm4 0h-2V7h2v10zm4 0h-2v-4h2v4z\"/>\n",
              "    </g>\n",
              "</svg>\n",
              "  </button>\n",
              "\n",
              "<style>\n",
              "  .colab-df-quickchart {\n",
              "    background-color: #E8F0FE;\n",
              "    border: none;\n",
              "    border-radius: 50%;\n",
              "    cursor: pointer;\n",
              "    display: none;\n",
              "    fill: #1967D2;\n",
              "    height: 32px;\n",
              "    padding: 0 0 0 0;\n",
              "    width: 32px;\n",
              "  }\n",
              "\n",
              "  .colab-df-quickchart:hover {\n",
              "    background-color: #E2EBFA;\n",
              "    box-shadow: 0px 1px 2px rgba(60, 64, 67, 0.3), 0px 1px 3px 1px rgba(60, 64, 67, 0.15);\n",
              "    fill: #174EA6;\n",
              "  }\n",
              "\n",
              "  [theme=dark] .colab-df-quickchart {\n",
              "    background-color: #3B4455;\n",
              "    fill: #D2E3FC;\n",
              "  }\n",
              "\n",
              "  [theme=dark] .colab-df-quickchart:hover {\n",
              "    background-color: #434B5C;\n",
              "    box-shadow: 0px 1px 3px 1px rgba(0, 0, 0, 0.15);\n",
              "    filter: drop-shadow(0px 1px 2px rgba(0, 0, 0, 0.3));\n",
              "    fill: #FFFFFF;\n",
              "  }\n",
              "</style>\n",
              "\n",
              "  <script>\n",
              "    async function quickchart(key) {\n",
              "      const charts = await google.colab.kernel.invokeFunction(\n",
              "          'suggestCharts', [key], {});\n",
              "    }\n",
              "    (() => {\n",
              "      let quickchartButtonEl =\n",
              "        document.querySelector('#df-29b34936-0491-4997-ae3e-6a942fc55be5 button');\n",
              "      quickchartButtonEl.style.display =\n",
              "        google.colab.kernel.accessAllowed ? 'block' : 'none';\n",
              "    })();\n",
              "  </script>\n",
              "</div>\n",
              "    </div>\n",
              "  </div>\n"
            ]
          },
          "metadata": {},
          "execution_count": 15
        }
      ]
    },
    {
      "cell_type": "code",
      "source": [
        "df.info()"
      ],
      "metadata": {
        "id": "L9rYmDRxKb1G",
        "colab": {
          "base_uri": "https://localhost:8080/"
        },
        "outputId": "93ea96dc-c5b4-4d5c-8fd6-d94a0ffa697c"
      },
      "execution_count": 16,
      "outputs": [
        {
          "output_type": "stream",
          "name": "stdout",
          "text": [
            "<class 'pandas.core.frame.DataFrame'>\n",
            "RangeIndex: 54217 entries, 0 to 54216\n",
            "Data columns (total 99 columns):\n",
            " #   Column      Non-Null Count  Dtype         \n",
            "---  ------      --------------  -----         \n",
            " 0   ESCOLARI    54217 non-null  int64         \n",
            " 1   IDADE       54217 non-null  int64         \n",
            " 2   SEXO        54217 non-null  int64         \n",
            " 3   UFNASC      54217 non-null  object        \n",
            " 4   UFRESID     54217 non-null  object        \n",
            " 5   IBGE        54217 non-null  int64         \n",
            " 6   CIDADE      54217 non-null  object        \n",
            " 7   CATEATEND   54217 non-null  int64         \n",
            " 8   DTCONSULT   54217 non-null  datetime64[ns]\n",
            " 9   CLINICA     54217 non-null  int64         \n",
            " 10  DIAGPREV    54217 non-null  int64         \n",
            " 11  DTDIAG      54217 non-null  datetime64[ns]\n",
            " 12  BASEDIAG    54217 non-null  int64         \n",
            " 13  TOPO        54217 non-null  object        \n",
            " 14  TOPOGRUP    54217 non-null  object        \n",
            " 15  DESCTOPO    54217 non-null  object        \n",
            " 16  MORFO       54217 non-null  int64         \n",
            " 17  DESCMORFO   54217 non-null  object        \n",
            " 18  EC          54217 non-null  object        \n",
            " 19  ECGRUP      54217 non-null  object        \n",
            " 20  T           54217 non-null  object        \n",
            " 21  N           54217 non-null  object        \n",
            " 22  M           54217 non-null  object        \n",
            " 23  PT          54217 non-null  object        \n",
            " 24  PN          54217 non-null  object        \n",
            " 25  PM          54217 non-null  object        \n",
            " 26  S           54217 non-null  int64         \n",
            " 27  G           54217 non-null  int64         \n",
            " 28  LOCALTNM    54217 non-null  int64         \n",
            " 29  IDMITOTIC   54217 non-null  int64         \n",
            " 30  PSA         54217 non-null  int64         \n",
            " 31  GLEASON     54217 non-null  int64         \n",
            " 32  OUTRACLA    54217 non-null  object        \n",
            " 33  META01      54217 non-null  object        \n",
            " 34  META02      54217 non-null  object        \n",
            " 35  META03      54217 non-null  object        \n",
            " 36  META04      54217 non-null  object        \n",
            " 37  DTTRAT      54217 non-null  object        \n",
            " 38  NAOTRAT     54217 non-null  int64         \n",
            " 39  TRATAMENTO  54217 non-null  object        \n",
            " 40  TRATHOSP    54217 non-null  object        \n",
            " 41  TRATFANTES  54217 non-null  object        \n",
            " 42  TRATFAPOS   54217 non-null  object        \n",
            " 43  NENHUM      54217 non-null  int64         \n",
            " 44  CIRURGIA    54217 non-null  int64         \n",
            " 45  RADIO       54217 non-null  int64         \n",
            " 46  QUIMIO      54217 non-null  int64         \n",
            " 47  HORMONIO    54217 non-null  int64         \n",
            " 48  TMO         54217 non-null  int64         \n",
            " 49  IMUNO       54217 non-null  int64         \n",
            " 50  OUTROS      54217 non-null  int64         \n",
            " 51  NENHUMANT   54217 non-null  int64         \n",
            " 52  CIRURANT    54217 non-null  int64         \n",
            " 53  RADIOANT    54217 non-null  int64         \n",
            " 54  QUIMIOANT   54217 non-null  int64         \n",
            " 55  HORMOANT    54217 non-null  int64         \n",
            " 56  TMOANT      54217 non-null  int64         \n",
            " 57  IMUNOANT    54217 non-null  int64         \n",
            " 58  OUTROANT    54217 non-null  int64         \n",
            " 59  NENHUMAPOS  54217 non-null  int64         \n",
            " 60  CIRURAPOS   54217 non-null  int64         \n",
            " 61  RADIOAPOS   54217 non-null  int64         \n",
            " 62  QUIMIOAPOS  54217 non-null  int64         \n",
            " 63  HORMOAPOS   54217 non-null  int64         \n",
            " 64  TMOAPOS     54217 non-null  int64         \n",
            " 65  IMUNOAPOS   54217 non-null  int64         \n",
            " 66  OUTROAPOS   54217 non-null  int64         \n",
            " 67  DTULTINFO   54217 non-null  datetime64[ns]\n",
            " 68  ULTINFO     54217 non-null  int64         \n",
            " 69  CONSDIAG    54217 non-null  object        \n",
            " 70  TRATCONS    54217 non-null  object        \n",
            " 71  DIAGTRAT    54217 non-null  object        \n",
            " 72  ANODIAG     54217 non-null  int64         \n",
            " 73  CICI        54217 non-null  object        \n",
            " 74  CICIGRUP    54217 non-null  object        \n",
            " 75  CICISUBGRU  54217 non-null  object        \n",
            " 76  FAIXAETAR   54217 non-null  object        \n",
            " 77  LATERALI    54217 non-null  int64         \n",
            " 78  INSTORIG    54217 non-null  object        \n",
            " 79  DRS         54217 non-null  object        \n",
            " 80  RRAS        54217 non-null  int64         \n",
            " 81  PERDASEG    54217 non-null  int64         \n",
            " 82  ERRO        54217 non-null  int64         \n",
            " 83  DTRECIDIVA  6183 non-null   datetime64[ns]\n",
            " 84  RECNENHUM   54217 non-null  int64         \n",
            " 85  RECLOCAL    54217 non-null  int64         \n",
            " 86  RECREGIO    54217 non-null  int64         \n",
            " 87  RECDIST     54217 non-null  int64         \n",
            " 88  REC01       54217 non-null  object        \n",
            " 89  REC02       54217 non-null  object        \n",
            " 90  REC03       54217 non-null  object        \n",
            " 91  REC04       54217 non-null  object        \n",
            " 92  IBGEATEN    54217 non-null  int64         \n",
            " 93  CIDO        54217 non-null  int64         \n",
            " 94  DSCCIDO     54217 non-null  object        \n",
            " 95  HABILIT     54217 non-null  int64         \n",
            " 96  HABIT11     54217 non-null  object        \n",
            " 97  HABILIT1    54217 non-null  int64         \n",
            " 98  HABILIT2    54217 non-null  int64         \n",
            "dtypes: datetime64[ns](4), int64(55), object(40)\n",
            "memory usage: 41.0+ MB\n"
          ]
        }
      ]
    },
    {
      "cell_type": "markdown",
      "source": [
        "### Quantidade de linhas, colunas e primeiros e últimos registros da tabela\n",
        "\n"
      ],
      "metadata": {
        "id": "vQqmK7SNK0Lt"
      }
    },
    {
      "cell_type": "code",
      "source": [
        "len(df)"
      ],
      "metadata": {
        "id": "xpMhaeq34JDf",
        "colab": {
          "base_uri": "https://localhost:8080/"
        },
        "outputId": "0e35e50f-7637-4d6b-ed9a-86a68fc731c1"
      },
      "execution_count": 17,
      "outputs": [
        {
          "output_type": "execute_result",
          "data": {
            "text/plain": [
              "54217"
            ]
          },
          "metadata": {},
          "execution_count": 17
        }
      ]
    },
    {
      "cell_type": "markdown",
      "source": [
        "Após a filtragem específica para câncer de mama, ficamos com 34.711 registros"
      ],
      "metadata": {
        "id": "lsWmdzyB0wLE"
      }
    },
    {
      "cell_type": "code",
      "source": [
        "df.head()"
      ],
      "metadata": {
        "id": "Hq8l9iCxGTAW",
        "colab": {
          "base_uri": "https://localhost:8080/",
          "height": 409
        },
        "outputId": "164f7039-f144-4d61-90b6-c984c7214c02"
      },
      "execution_count": 18,
      "outputs": [
        {
          "output_type": "execute_result",
          "data": {
            "text/plain": [
              "   ESCOLARI  IDADE  SEXO UFNASC UFRESID     IBGE  \\\n",
              "0         9     38     2     SP      SP  3543402   \n",
              "1         9     46     2     MG      SP  3524402   \n",
              "2         9     45     2     SP      SP  3548500   \n",
              "3         9     43     2     SP      SP  3543402   \n",
              "4         5     67     2     SP      SP  3548500   \n",
              "\n",
              "                                              CIDADE  CATEATEND  DTCONSULT  \\\n",
              "0  RIBEIRAO PRETO                                ...          2 2017-12-06   \n",
              "1  JACAREI                                       ...          2 2017-10-06   \n",
              "2  SANTOS                                        ...          2 2019-03-20   \n",
              "3  RIBEIRAO PRETO                                ...          2 2019-02-12   \n",
              "4  SANTOS                                        ...          1 2019-07-02   \n",
              "\n",
              "   CLINICA  ...  REC02 REC03  REC04 IBGEATEN   CIDO  \\\n",
              "0       24  ...                      3543402  80001   \n",
              "1       33  ...                      3524402  80001   \n",
              "2       24  ...                      3548500  80001   \n",
              "3       24  ...                      3543402  80001   \n",
              "4       31  ...                      3548500  80001   \n",
              "\n",
              "                                             DSCCIDO  HABILIT  \\\n",
              "0  NEOPLASIA DE COMPORTAMENTO INCERTO SE BENIGNO ...        1   \n",
              "1  NEOPLASIA DE COMPORTAMENTO INCERTO SE BENIGNO ...        1   \n",
              "2  NEOPLASIA DE COMPORTAMENTO INCERTO SE BENIGNO ...        2   \n",
              "3  NEOPLASIA DE COMPORTAMENTO INCERTO SE BENIGNO ...        1   \n",
              "4  NEOPLASIA DE COMPORTAMENTO INCERTO SE BENIGNO ...        2   \n",
              "\n",
              "                                             HABIT11 HABILIT1 HABILIT2  \n",
              "0  UNACON                                        ...        1        1  \n",
              "1  UNACON                                        ...        1        1  \n",
              "2  UNACON com Servio de Radioterapia            ...        1        1  \n",
              "3  UNACON                                        ...        1        1  \n",
              "4  UNACON com Servio de Radioterapia            ...        1        1  \n",
              "\n",
              "[5 rows x 99 columns]"
            ],
            "text/html": [
              "\n",
              "  <div id=\"df-e12133b3-cf70-4687-8d3e-df91cf88ccc7\" class=\"colab-df-container\">\n",
              "    <div>\n",
              "<style scoped>\n",
              "    .dataframe tbody tr th:only-of-type {\n",
              "        vertical-align: middle;\n",
              "    }\n",
              "\n",
              "    .dataframe tbody tr th {\n",
              "        vertical-align: top;\n",
              "    }\n",
              "\n",
              "    .dataframe thead th {\n",
              "        text-align: right;\n",
              "    }\n",
              "</style>\n",
              "<table border=\"1\" class=\"dataframe\">\n",
              "  <thead>\n",
              "    <tr style=\"text-align: right;\">\n",
              "      <th></th>\n",
              "      <th>ESCOLARI</th>\n",
              "      <th>IDADE</th>\n",
              "      <th>SEXO</th>\n",
              "      <th>UFNASC</th>\n",
              "      <th>UFRESID</th>\n",
              "      <th>IBGE</th>\n",
              "      <th>CIDADE</th>\n",
              "      <th>CATEATEND</th>\n",
              "      <th>DTCONSULT</th>\n",
              "      <th>CLINICA</th>\n",
              "      <th>...</th>\n",
              "      <th>REC02</th>\n",
              "      <th>REC03</th>\n",
              "      <th>REC04</th>\n",
              "      <th>IBGEATEN</th>\n",
              "      <th>CIDO</th>\n",
              "      <th>DSCCIDO</th>\n",
              "      <th>HABILIT</th>\n",
              "      <th>HABIT11</th>\n",
              "      <th>HABILIT1</th>\n",
              "      <th>HABILIT2</th>\n",
              "    </tr>\n",
              "  </thead>\n",
              "  <tbody>\n",
              "    <tr>\n",
              "      <th>0</th>\n",
              "      <td>9</td>\n",
              "      <td>38</td>\n",
              "      <td>2</td>\n",
              "      <td>SP</td>\n",
              "      <td>SP</td>\n",
              "      <td>3543402</td>\n",
              "      <td>RIBEIRAO PRETO                                ...</td>\n",
              "      <td>2</td>\n",
              "      <td>2017-12-06</td>\n",
              "      <td>24</td>\n",
              "      <td>...</td>\n",
              "      <td></td>\n",
              "      <td></td>\n",
              "      <td></td>\n",
              "      <td>3543402</td>\n",
              "      <td>80001</td>\n",
              "      <td>NEOPLASIA DE COMPORTAMENTO INCERTO SE BENIGNO ...</td>\n",
              "      <td>1</td>\n",
              "      <td>UNACON                                        ...</td>\n",
              "      <td>1</td>\n",
              "      <td>1</td>\n",
              "    </tr>\n",
              "    <tr>\n",
              "      <th>1</th>\n",
              "      <td>9</td>\n",
              "      <td>46</td>\n",
              "      <td>2</td>\n",
              "      <td>MG</td>\n",
              "      <td>SP</td>\n",
              "      <td>3524402</td>\n",
              "      <td>JACAREI                                       ...</td>\n",
              "      <td>2</td>\n",
              "      <td>2017-10-06</td>\n",
              "      <td>33</td>\n",
              "      <td>...</td>\n",
              "      <td></td>\n",
              "      <td></td>\n",
              "      <td></td>\n",
              "      <td>3524402</td>\n",
              "      <td>80001</td>\n",
              "      <td>NEOPLASIA DE COMPORTAMENTO INCERTO SE BENIGNO ...</td>\n",
              "      <td>1</td>\n",
              "      <td>UNACON                                        ...</td>\n",
              "      <td>1</td>\n",
              "      <td>1</td>\n",
              "    </tr>\n",
              "    <tr>\n",
              "      <th>2</th>\n",
              "      <td>9</td>\n",
              "      <td>45</td>\n",
              "      <td>2</td>\n",
              "      <td>SP</td>\n",
              "      <td>SP</td>\n",
              "      <td>3548500</td>\n",
              "      <td>SANTOS                                        ...</td>\n",
              "      <td>2</td>\n",
              "      <td>2019-03-20</td>\n",
              "      <td>24</td>\n",
              "      <td>...</td>\n",
              "      <td></td>\n",
              "      <td></td>\n",
              "      <td></td>\n",
              "      <td>3548500</td>\n",
              "      <td>80001</td>\n",
              "      <td>NEOPLASIA DE COMPORTAMENTO INCERTO SE BENIGNO ...</td>\n",
              "      <td>2</td>\n",
              "      <td>UNACON com Servio de Radioterapia            ...</td>\n",
              "      <td>1</td>\n",
              "      <td>1</td>\n",
              "    </tr>\n",
              "    <tr>\n",
              "      <th>3</th>\n",
              "      <td>9</td>\n",
              "      <td>43</td>\n",
              "      <td>2</td>\n",
              "      <td>SP</td>\n",
              "      <td>SP</td>\n",
              "      <td>3543402</td>\n",
              "      <td>RIBEIRAO PRETO                                ...</td>\n",
              "      <td>2</td>\n",
              "      <td>2019-02-12</td>\n",
              "      <td>24</td>\n",
              "      <td>...</td>\n",
              "      <td></td>\n",
              "      <td></td>\n",
              "      <td></td>\n",
              "      <td>3543402</td>\n",
              "      <td>80001</td>\n",
              "      <td>NEOPLASIA DE COMPORTAMENTO INCERTO SE BENIGNO ...</td>\n",
              "      <td>1</td>\n",
              "      <td>UNACON                                        ...</td>\n",
              "      <td>1</td>\n",
              "      <td>1</td>\n",
              "    </tr>\n",
              "    <tr>\n",
              "      <th>4</th>\n",
              "      <td>5</td>\n",
              "      <td>67</td>\n",
              "      <td>2</td>\n",
              "      <td>SP</td>\n",
              "      <td>SP</td>\n",
              "      <td>3548500</td>\n",
              "      <td>SANTOS                                        ...</td>\n",
              "      <td>1</td>\n",
              "      <td>2019-07-02</td>\n",
              "      <td>31</td>\n",
              "      <td>...</td>\n",
              "      <td></td>\n",
              "      <td></td>\n",
              "      <td></td>\n",
              "      <td>3548500</td>\n",
              "      <td>80001</td>\n",
              "      <td>NEOPLASIA DE COMPORTAMENTO INCERTO SE BENIGNO ...</td>\n",
              "      <td>2</td>\n",
              "      <td>UNACON com Servio de Radioterapia            ...</td>\n",
              "      <td>1</td>\n",
              "      <td>1</td>\n",
              "    </tr>\n",
              "  </tbody>\n",
              "</table>\n",
              "<p>5 rows × 99 columns</p>\n",
              "</div>\n",
              "    <div class=\"colab-df-buttons\">\n",
              "\n",
              "  <div class=\"colab-df-container\">\n",
              "    <button class=\"colab-df-convert\" onclick=\"convertToInteractive('df-e12133b3-cf70-4687-8d3e-df91cf88ccc7')\"\n",
              "            title=\"Convert this dataframe to an interactive table.\"\n",
              "            style=\"display:none;\">\n",
              "\n",
              "  <svg xmlns=\"http://www.w3.org/2000/svg\" height=\"24px\" viewBox=\"0 -960 960 960\">\n",
              "    <path d=\"M120-120v-720h720v720H120Zm60-500h600v-160H180v160Zm220 220h160v-160H400v160Zm0 220h160v-160H400v160ZM180-400h160v-160H180v160Zm440 0h160v-160H620v160ZM180-180h160v-160H180v160Zm440 0h160v-160H620v160Z\"/>\n",
              "  </svg>\n",
              "    </button>\n",
              "\n",
              "  <style>\n",
              "    .colab-df-container {\n",
              "      display:flex;\n",
              "      gap: 12px;\n",
              "    }\n",
              "\n",
              "    .colab-df-convert {\n",
              "      background-color: #E8F0FE;\n",
              "      border: none;\n",
              "      border-radius: 50%;\n",
              "      cursor: pointer;\n",
              "      display: none;\n",
              "      fill: #1967D2;\n",
              "      height: 32px;\n",
              "      padding: 0 0 0 0;\n",
              "      width: 32px;\n",
              "    }\n",
              "\n",
              "    .colab-df-convert:hover {\n",
              "      background-color: #E2EBFA;\n",
              "      box-shadow: 0px 1px 2px rgba(60, 64, 67, 0.3), 0px 1px 3px 1px rgba(60, 64, 67, 0.15);\n",
              "      fill: #174EA6;\n",
              "    }\n",
              "\n",
              "    .colab-df-buttons div {\n",
              "      margin-bottom: 4px;\n",
              "    }\n",
              "\n",
              "    [theme=dark] .colab-df-convert {\n",
              "      background-color: #3B4455;\n",
              "      fill: #D2E3FC;\n",
              "    }\n",
              "\n",
              "    [theme=dark] .colab-df-convert:hover {\n",
              "      background-color: #434B5C;\n",
              "      box-shadow: 0px 1px 3px 1px rgba(0, 0, 0, 0.15);\n",
              "      filter: drop-shadow(0px 1px 2px rgba(0, 0, 0, 0.3));\n",
              "      fill: #FFFFFF;\n",
              "    }\n",
              "  </style>\n",
              "\n",
              "    <script>\n",
              "      const buttonEl =\n",
              "        document.querySelector('#df-e12133b3-cf70-4687-8d3e-df91cf88ccc7 button.colab-df-convert');\n",
              "      buttonEl.style.display =\n",
              "        google.colab.kernel.accessAllowed ? 'block' : 'none';\n",
              "\n",
              "      async function convertToInteractive(key) {\n",
              "        const element = document.querySelector('#df-e12133b3-cf70-4687-8d3e-df91cf88ccc7');\n",
              "        const dataTable =\n",
              "          await google.colab.kernel.invokeFunction('convertToInteractive',\n",
              "                                                    [key], {});\n",
              "        if (!dataTable) return;\n",
              "\n",
              "        const docLinkHtml = 'Like what you see? Visit the ' +\n",
              "          '<a target=\"_blank\" href=https://colab.research.google.com/notebooks/data_table.ipynb>data table notebook</a>'\n",
              "          + ' to learn more about interactive tables.';\n",
              "        element.innerHTML = '';\n",
              "        dataTable['output_type'] = 'display_data';\n",
              "        await google.colab.output.renderOutput(dataTable, element);\n",
              "        const docLink = document.createElement('div');\n",
              "        docLink.innerHTML = docLinkHtml;\n",
              "        element.appendChild(docLink);\n",
              "      }\n",
              "    </script>\n",
              "  </div>\n",
              "\n",
              "\n",
              "<div id=\"df-dd4e386c-92cd-495e-a4e4-87f1439b637b\">\n",
              "  <button class=\"colab-df-quickchart\" onclick=\"quickchart('df-dd4e386c-92cd-495e-a4e4-87f1439b637b')\"\n",
              "            title=\"Suggest charts.\"\n",
              "            style=\"display:none;\">\n",
              "\n",
              "<svg xmlns=\"http://www.w3.org/2000/svg\" height=\"24px\"viewBox=\"0 0 24 24\"\n",
              "     width=\"24px\">\n",
              "    <g>\n",
              "        <path d=\"M19 3H5c-1.1 0-2 .9-2 2v14c0 1.1.9 2 2 2h14c1.1 0 2-.9 2-2V5c0-1.1-.9-2-2-2zM9 17H7v-7h2v7zm4 0h-2V7h2v10zm4 0h-2v-4h2v4z\"/>\n",
              "    </g>\n",
              "</svg>\n",
              "  </button>\n",
              "\n",
              "<style>\n",
              "  .colab-df-quickchart {\n",
              "    background-color: #E8F0FE;\n",
              "    border: none;\n",
              "    border-radius: 50%;\n",
              "    cursor: pointer;\n",
              "    display: none;\n",
              "    fill: #1967D2;\n",
              "    height: 32px;\n",
              "    padding: 0 0 0 0;\n",
              "    width: 32px;\n",
              "  }\n",
              "\n",
              "  .colab-df-quickchart:hover {\n",
              "    background-color: #E2EBFA;\n",
              "    box-shadow: 0px 1px 2px rgba(60, 64, 67, 0.3), 0px 1px 3px 1px rgba(60, 64, 67, 0.15);\n",
              "    fill: #174EA6;\n",
              "  }\n",
              "\n",
              "  [theme=dark] .colab-df-quickchart {\n",
              "    background-color: #3B4455;\n",
              "    fill: #D2E3FC;\n",
              "  }\n",
              "\n",
              "  [theme=dark] .colab-df-quickchart:hover {\n",
              "    background-color: #434B5C;\n",
              "    box-shadow: 0px 1px 3px 1px rgba(0, 0, 0, 0.15);\n",
              "    filter: drop-shadow(0px 1px 2px rgba(0, 0, 0, 0.3));\n",
              "    fill: #FFFFFF;\n",
              "  }\n",
              "</style>\n",
              "\n",
              "  <script>\n",
              "    async function quickchart(key) {\n",
              "      const charts = await google.colab.kernel.invokeFunction(\n",
              "          'suggestCharts', [key], {});\n",
              "    }\n",
              "    (() => {\n",
              "      let quickchartButtonEl =\n",
              "        document.querySelector('#df-dd4e386c-92cd-495e-a4e4-87f1439b637b button');\n",
              "      quickchartButtonEl.style.display =\n",
              "        google.colab.kernel.accessAllowed ? 'block' : 'none';\n",
              "    })();\n",
              "  </script>\n",
              "</div>\n",
              "    </div>\n",
              "  </div>\n"
            ]
          },
          "metadata": {},
          "execution_count": 18
        }
      ]
    },
    {
      "cell_type": "code",
      "source": [
        "df.tail()"
      ],
      "metadata": {
        "id": "Frt-KOmuGbJW",
        "colab": {
          "base_uri": "https://localhost:8080/",
          "height": 357
        },
        "outputId": "6a20198e-6b67-4e77-9a01-a0e1aa4be308"
      },
      "execution_count": 19,
      "outputs": [
        {
          "output_type": "execute_result",
          "data": {
            "text/plain": [
              "       ESCOLARI  IDADE  SEXO UFNASC UFRESID     IBGE  \\\n",
              "54212         2     33     2     SP      SP  3513801   \n",
              "54213         3     65     2     SP      SP  3556453   \n",
              "54214         9     48     2     SP      SP  3554102   \n",
              "54215         9     47     2     SP      SP  3524402   \n",
              "54216         9     64     2     RN      SP  3518701   \n",
              "\n",
              "                                                  CIDADE  CATEATEND  \\\n",
              "54212  DIADEMA                                       ...          2   \n",
              "54213  VARGEM GRANDE PAULISTA                        ...          2   \n",
              "54214  TAUBATE                                       ...          2   \n",
              "54215  JACAREI                                       ...          2   \n",
              "54216  GUARUJA                                       ...          2   \n",
              "\n",
              "       DTCONSULT  CLINICA  ...  REC02 REC03  REC04 IBGEATEN   CIDO  \\\n",
              "54212 2019-07-29       33  ...                      3550308  97193   \n",
              "54213 2018-12-17       15  ...    C77   C42    C74  3550308  97193   \n",
              "54214 2017-10-17       24  ...                      3554102  97283   \n",
              "54215 2017-12-18       33  ...                      3524402  97401   \n",
              "54216 2018-05-09       24  ...                      3518701  97401   \n",
              "\n",
              "                                                 DSCCIDO  HABILIT  \\\n",
              "54212  LINFOMA NASAL E TIPO NASAL DE CELULAS TNK     ...        6   \n",
              "54213  LINFOMA NASAL E TIPO NASAL DE CELULAS TNK     ...        6   \n",
              "54214  LINFOMA LINFOBLASTICO DE CELULAS PRECURSORAS B...        9   \n",
              "54215  MASTOCITOMA SOE                               ...        1   \n",
              "54216  MASTOCITOMA SOE                               ...        1   \n",
              "\n",
              "                                                 HABIT11 HABILIT1 HABILIT2  \n",
              "54212  CACON                                         ...        3        2  \n",
              "54213  CACON                                         ...        3        2  \n",
              "54214  UNACON com Servios de Radioterapia e de Hemat...        1        1  \n",
              "54215  UNACON                                        ...        1        1  \n",
              "54216  UNACON                                        ...        1        1  \n",
              "\n",
              "[5 rows x 99 columns]"
            ],
            "text/html": [
              "\n",
              "  <div id=\"df-3c6b5190-f52d-45e6-a29d-999b7fc84eb6\" class=\"colab-df-container\">\n",
              "    <div>\n",
              "<style scoped>\n",
              "    .dataframe tbody tr th:only-of-type {\n",
              "        vertical-align: middle;\n",
              "    }\n",
              "\n",
              "    .dataframe tbody tr th {\n",
              "        vertical-align: top;\n",
              "    }\n",
              "\n",
              "    .dataframe thead th {\n",
              "        text-align: right;\n",
              "    }\n",
              "</style>\n",
              "<table border=\"1\" class=\"dataframe\">\n",
              "  <thead>\n",
              "    <tr style=\"text-align: right;\">\n",
              "      <th></th>\n",
              "      <th>ESCOLARI</th>\n",
              "      <th>IDADE</th>\n",
              "      <th>SEXO</th>\n",
              "      <th>UFNASC</th>\n",
              "      <th>UFRESID</th>\n",
              "      <th>IBGE</th>\n",
              "      <th>CIDADE</th>\n",
              "      <th>CATEATEND</th>\n",
              "      <th>DTCONSULT</th>\n",
              "      <th>CLINICA</th>\n",
              "      <th>...</th>\n",
              "      <th>REC02</th>\n",
              "      <th>REC03</th>\n",
              "      <th>REC04</th>\n",
              "      <th>IBGEATEN</th>\n",
              "      <th>CIDO</th>\n",
              "      <th>DSCCIDO</th>\n",
              "      <th>HABILIT</th>\n",
              "      <th>HABIT11</th>\n",
              "      <th>HABILIT1</th>\n",
              "      <th>HABILIT2</th>\n",
              "    </tr>\n",
              "  </thead>\n",
              "  <tbody>\n",
              "    <tr>\n",
              "      <th>54212</th>\n",
              "      <td>2</td>\n",
              "      <td>33</td>\n",
              "      <td>2</td>\n",
              "      <td>SP</td>\n",
              "      <td>SP</td>\n",
              "      <td>3513801</td>\n",
              "      <td>DIADEMA                                       ...</td>\n",
              "      <td>2</td>\n",
              "      <td>2019-07-29</td>\n",
              "      <td>33</td>\n",
              "      <td>...</td>\n",
              "      <td></td>\n",
              "      <td></td>\n",
              "      <td></td>\n",
              "      <td>3550308</td>\n",
              "      <td>97193</td>\n",
              "      <td>LINFOMA NASAL E TIPO NASAL DE CELULAS TNK     ...</td>\n",
              "      <td>6</td>\n",
              "      <td>CACON                                         ...</td>\n",
              "      <td>3</td>\n",
              "      <td>2</td>\n",
              "    </tr>\n",
              "    <tr>\n",
              "      <th>54213</th>\n",
              "      <td>3</td>\n",
              "      <td>65</td>\n",
              "      <td>2</td>\n",
              "      <td>SP</td>\n",
              "      <td>SP</td>\n",
              "      <td>3556453</td>\n",
              "      <td>VARGEM GRANDE PAULISTA                        ...</td>\n",
              "      <td>2</td>\n",
              "      <td>2018-12-17</td>\n",
              "      <td>15</td>\n",
              "      <td>...</td>\n",
              "      <td>C77</td>\n",
              "      <td>C42</td>\n",
              "      <td>C74</td>\n",
              "      <td>3550308</td>\n",
              "      <td>97193</td>\n",
              "      <td>LINFOMA NASAL E TIPO NASAL DE CELULAS TNK     ...</td>\n",
              "      <td>6</td>\n",
              "      <td>CACON                                         ...</td>\n",
              "      <td>3</td>\n",
              "      <td>2</td>\n",
              "    </tr>\n",
              "    <tr>\n",
              "      <th>54214</th>\n",
              "      <td>9</td>\n",
              "      <td>48</td>\n",
              "      <td>2</td>\n",
              "      <td>SP</td>\n",
              "      <td>SP</td>\n",
              "      <td>3554102</td>\n",
              "      <td>TAUBATE                                       ...</td>\n",
              "      <td>2</td>\n",
              "      <td>2017-10-17</td>\n",
              "      <td>24</td>\n",
              "      <td>...</td>\n",
              "      <td></td>\n",
              "      <td></td>\n",
              "      <td></td>\n",
              "      <td>3554102</td>\n",
              "      <td>97283</td>\n",
              "      <td>LINFOMA LINFOBLASTICO DE CELULAS PRECURSORAS B...</td>\n",
              "      <td>9</td>\n",
              "      <td>UNACON com Servios de Radioterapia e de Hemat...</td>\n",
              "      <td>1</td>\n",
              "      <td>1</td>\n",
              "    </tr>\n",
              "    <tr>\n",
              "      <th>54215</th>\n",
              "      <td>9</td>\n",
              "      <td>47</td>\n",
              "      <td>2</td>\n",
              "      <td>SP</td>\n",
              "      <td>SP</td>\n",
              "      <td>3524402</td>\n",
              "      <td>JACAREI                                       ...</td>\n",
              "      <td>2</td>\n",
              "      <td>2017-12-18</td>\n",
              "      <td>33</td>\n",
              "      <td>...</td>\n",
              "      <td></td>\n",
              "      <td></td>\n",
              "      <td></td>\n",
              "      <td>3524402</td>\n",
              "      <td>97401</td>\n",
              "      <td>MASTOCITOMA SOE                               ...</td>\n",
              "      <td>1</td>\n",
              "      <td>UNACON                                        ...</td>\n",
              "      <td>1</td>\n",
              "      <td>1</td>\n",
              "    </tr>\n",
              "    <tr>\n",
              "      <th>54216</th>\n",
              "      <td>9</td>\n",
              "      <td>64</td>\n",
              "      <td>2</td>\n",
              "      <td>RN</td>\n",
              "      <td>SP</td>\n",
              "      <td>3518701</td>\n",
              "      <td>GUARUJA                                       ...</td>\n",
              "      <td>2</td>\n",
              "      <td>2018-05-09</td>\n",
              "      <td>24</td>\n",
              "      <td>...</td>\n",
              "      <td></td>\n",
              "      <td></td>\n",
              "      <td></td>\n",
              "      <td>3518701</td>\n",
              "      <td>97401</td>\n",
              "      <td>MASTOCITOMA SOE                               ...</td>\n",
              "      <td>1</td>\n",
              "      <td>UNACON                                        ...</td>\n",
              "      <td>1</td>\n",
              "      <td>1</td>\n",
              "    </tr>\n",
              "  </tbody>\n",
              "</table>\n",
              "<p>5 rows × 99 columns</p>\n",
              "</div>\n",
              "    <div class=\"colab-df-buttons\">\n",
              "\n",
              "  <div class=\"colab-df-container\">\n",
              "    <button class=\"colab-df-convert\" onclick=\"convertToInteractive('df-3c6b5190-f52d-45e6-a29d-999b7fc84eb6')\"\n",
              "            title=\"Convert this dataframe to an interactive table.\"\n",
              "            style=\"display:none;\">\n",
              "\n",
              "  <svg xmlns=\"http://www.w3.org/2000/svg\" height=\"24px\" viewBox=\"0 -960 960 960\">\n",
              "    <path d=\"M120-120v-720h720v720H120Zm60-500h600v-160H180v160Zm220 220h160v-160H400v160Zm0 220h160v-160H400v160ZM180-400h160v-160H180v160Zm440 0h160v-160H620v160ZM180-180h160v-160H180v160Zm440 0h160v-160H620v160Z\"/>\n",
              "  </svg>\n",
              "    </button>\n",
              "\n",
              "  <style>\n",
              "    .colab-df-container {\n",
              "      display:flex;\n",
              "      gap: 12px;\n",
              "    }\n",
              "\n",
              "    .colab-df-convert {\n",
              "      background-color: #E8F0FE;\n",
              "      border: none;\n",
              "      border-radius: 50%;\n",
              "      cursor: pointer;\n",
              "      display: none;\n",
              "      fill: #1967D2;\n",
              "      height: 32px;\n",
              "      padding: 0 0 0 0;\n",
              "      width: 32px;\n",
              "    }\n",
              "\n",
              "    .colab-df-convert:hover {\n",
              "      background-color: #E2EBFA;\n",
              "      box-shadow: 0px 1px 2px rgba(60, 64, 67, 0.3), 0px 1px 3px 1px rgba(60, 64, 67, 0.15);\n",
              "      fill: #174EA6;\n",
              "    }\n",
              "\n",
              "    .colab-df-buttons div {\n",
              "      margin-bottom: 4px;\n",
              "    }\n",
              "\n",
              "    [theme=dark] .colab-df-convert {\n",
              "      background-color: #3B4455;\n",
              "      fill: #D2E3FC;\n",
              "    }\n",
              "\n",
              "    [theme=dark] .colab-df-convert:hover {\n",
              "      background-color: #434B5C;\n",
              "      box-shadow: 0px 1px 3px 1px rgba(0, 0, 0, 0.15);\n",
              "      filter: drop-shadow(0px 1px 2px rgba(0, 0, 0, 0.3));\n",
              "      fill: #FFFFFF;\n",
              "    }\n",
              "  </style>\n",
              "\n",
              "    <script>\n",
              "      const buttonEl =\n",
              "        document.querySelector('#df-3c6b5190-f52d-45e6-a29d-999b7fc84eb6 button.colab-df-convert');\n",
              "      buttonEl.style.display =\n",
              "        google.colab.kernel.accessAllowed ? 'block' : 'none';\n",
              "\n",
              "      async function convertToInteractive(key) {\n",
              "        const element = document.querySelector('#df-3c6b5190-f52d-45e6-a29d-999b7fc84eb6');\n",
              "        const dataTable =\n",
              "          await google.colab.kernel.invokeFunction('convertToInteractive',\n",
              "                                                    [key], {});\n",
              "        if (!dataTable) return;\n",
              "\n",
              "        const docLinkHtml = 'Like what you see? Visit the ' +\n",
              "          '<a target=\"_blank\" href=https://colab.research.google.com/notebooks/data_table.ipynb>data table notebook</a>'\n",
              "          + ' to learn more about interactive tables.';\n",
              "        element.innerHTML = '';\n",
              "        dataTable['output_type'] = 'display_data';\n",
              "        await google.colab.output.renderOutput(dataTable, element);\n",
              "        const docLink = document.createElement('div');\n",
              "        docLink.innerHTML = docLinkHtml;\n",
              "        element.appendChild(docLink);\n",
              "      }\n",
              "    </script>\n",
              "  </div>\n",
              "\n",
              "\n",
              "<div id=\"df-0deae728-ee77-4fff-b181-96dce8a75434\">\n",
              "  <button class=\"colab-df-quickchart\" onclick=\"quickchart('df-0deae728-ee77-4fff-b181-96dce8a75434')\"\n",
              "            title=\"Suggest charts.\"\n",
              "            style=\"display:none;\">\n",
              "\n",
              "<svg xmlns=\"http://www.w3.org/2000/svg\" height=\"24px\"viewBox=\"0 0 24 24\"\n",
              "     width=\"24px\">\n",
              "    <g>\n",
              "        <path d=\"M19 3H5c-1.1 0-2 .9-2 2v14c0 1.1.9 2 2 2h14c1.1 0 2-.9 2-2V5c0-1.1-.9-2-2-2zM9 17H7v-7h2v7zm4 0h-2V7h2v10zm4 0h-2v-4h2v4z\"/>\n",
              "    </g>\n",
              "</svg>\n",
              "  </button>\n",
              "\n",
              "<style>\n",
              "  .colab-df-quickchart {\n",
              "    background-color: #E8F0FE;\n",
              "    border: none;\n",
              "    border-radius: 50%;\n",
              "    cursor: pointer;\n",
              "    display: none;\n",
              "    fill: #1967D2;\n",
              "    height: 32px;\n",
              "    padding: 0 0 0 0;\n",
              "    width: 32px;\n",
              "  }\n",
              "\n",
              "  .colab-df-quickchart:hover {\n",
              "    background-color: #E2EBFA;\n",
              "    box-shadow: 0px 1px 2px rgba(60, 64, 67, 0.3), 0px 1px 3px 1px rgba(60, 64, 67, 0.15);\n",
              "    fill: #174EA6;\n",
              "  }\n",
              "\n",
              "  [theme=dark] .colab-df-quickchart {\n",
              "    background-color: #3B4455;\n",
              "    fill: #D2E3FC;\n",
              "  }\n",
              "\n",
              "  [theme=dark] .colab-df-quickchart:hover {\n",
              "    background-color: #434B5C;\n",
              "    box-shadow: 0px 1px 3px 1px rgba(0, 0, 0, 0.15);\n",
              "    filter: drop-shadow(0px 1px 2px rgba(0, 0, 0, 0.3));\n",
              "    fill: #FFFFFF;\n",
              "  }\n",
              "</style>\n",
              "\n",
              "  <script>\n",
              "    async function quickchart(key) {\n",
              "      const charts = await google.colab.kernel.invokeFunction(\n",
              "          'suggestCharts', [key], {});\n",
              "    }\n",
              "    (() => {\n",
              "      let quickchartButtonEl =\n",
              "        document.querySelector('#df-0deae728-ee77-4fff-b181-96dce8a75434 button');\n",
              "      quickchartButtonEl.style.display =\n",
              "        google.colab.kernel.accessAllowed ? 'block' : 'none';\n",
              "    })();\n",
              "  </script>\n",
              "</div>\n",
              "    </div>\n",
              "  </div>\n"
            ]
          },
          "metadata": {},
          "execution_count": 19
        }
      ]
    },
    {
      "cell_type": "code",
      "source": [
        "df.shape"
      ],
      "metadata": {
        "id": "9Xb98d2yGm84",
        "colab": {
          "base_uri": "https://localhost:8080/"
        },
        "outputId": "a7e6f839-d1e3-453b-a29d-5d192f2cbb06"
      },
      "execution_count": 20,
      "outputs": [
        {
          "output_type": "execute_result",
          "data": {
            "text/plain": [
              "(54217, 99)"
            ]
          },
          "metadata": {},
          "execution_count": 20
        }
      ]
    },
    {
      "cell_type": "code",
      "source": [
        "df.info()"
      ],
      "metadata": {
        "id": "0aerEwhXGvuj",
        "colab": {
          "base_uri": "https://localhost:8080/"
        },
        "outputId": "df4539e5-95dc-4aaf-f755-8ba98f48a2ed"
      },
      "execution_count": 21,
      "outputs": [
        {
          "output_type": "stream",
          "name": "stdout",
          "text": [
            "<class 'pandas.core.frame.DataFrame'>\n",
            "RangeIndex: 54217 entries, 0 to 54216\n",
            "Data columns (total 99 columns):\n",
            " #   Column      Non-Null Count  Dtype         \n",
            "---  ------      --------------  -----         \n",
            " 0   ESCOLARI    54217 non-null  int64         \n",
            " 1   IDADE       54217 non-null  int64         \n",
            " 2   SEXO        54217 non-null  int64         \n",
            " 3   UFNASC      54217 non-null  object        \n",
            " 4   UFRESID     54217 non-null  object        \n",
            " 5   IBGE        54217 non-null  int64         \n",
            " 6   CIDADE      54217 non-null  object        \n",
            " 7   CATEATEND   54217 non-null  int64         \n",
            " 8   DTCONSULT   54217 non-null  datetime64[ns]\n",
            " 9   CLINICA     54217 non-null  int64         \n",
            " 10  DIAGPREV    54217 non-null  int64         \n",
            " 11  DTDIAG      54217 non-null  datetime64[ns]\n",
            " 12  BASEDIAG    54217 non-null  int64         \n",
            " 13  TOPO        54217 non-null  object        \n",
            " 14  TOPOGRUP    54217 non-null  object        \n",
            " 15  DESCTOPO    54217 non-null  object        \n",
            " 16  MORFO       54217 non-null  int64         \n",
            " 17  DESCMORFO   54217 non-null  object        \n",
            " 18  EC          54217 non-null  object        \n",
            " 19  ECGRUP      54217 non-null  object        \n",
            " 20  T           54217 non-null  object        \n",
            " 21  N           54217 non-null  object        \n",
            " 22  M           54217 non-null  object        \n",
            " 23  PT          54217 non-null  object        \n",
            " 24  PN          54217 non-null  object        \n",
            " 25  PM          54217 non-null  object        \n",
            " 26  S           54217 non-null  int64         \n",
            " 27  G           54217 non-null  int64         \n",
            " 28  LOCALTNM    54217 non-null  int64         \n",
            " 29  IDMITOTIC   54217 non-null  int64         \n",
            " 30  PSA         54217 non-null  int64         \n",
            " 31  GLEASON     54217 non-null  int64         \n",
            " 32  OUTRACLA    54217 non-null  object        \n",
            " 33  META01      54217 non-null  object        \n",
            " 34  META02      54217 non-null  object        \n",
            " 35  META03      54217 non-null  object        \n",
            " 36  META04      54217 non-null  object        \n",
            " 37  DTTRAT      54217 non-null  object        \n",
            " 38  NAOTRAT     54217 non-null  int64         \n",
            " 39  TRATAMENTO  54217 non-null  object        \n",
            " 40  TRATHOSP    54217 non-null  object        \n",
            " 41  TRATFANTES  54217 non-null  object        \n",
            " 42  TRATFAPOS   54217 non-null  object        \n",
            " 43  NENHUM      54217 non-null  int64         \n",
            " 44  CIRURGIA    54217 non-null  int64         \n",
            " 45  RADIO       54217 non-null  int64         \n",
            " 46  QUIMIO      54217 non-null  int64         \n",
            " 47  HORMONIO    54217 non-null  int64         \n",
            " 48  TMO         54217 non-null  int64         \n",
            " 49  IMUNO       54217 non-null  int64         \n",
            " 50  OUTROS      54217 non-null  int64         \n",
            " 51  NENHUMANT   54217 non-null  int64         \n",
            " 52  CIRURANT    54217 non-null  int64         \n",
            " 53  RADIOANT    54217 non-null  int64         \n",
            " 54  QUIMIOANT   54217 non-null  int64         \n",
            " 55  HORMOANT    54217 non-null  int64         \n",
            " 56  TMOANT      54217 non-null  int64         \n",
            " 57  IMUNOANT    54217 non-null  int64         \n",
            " 58  OUTROANT    54217 non-null  int64         \n",
            " 59  NENHUMAPOS  54217 non-null  int64         \n",
            " 60  CIRURAPOS   54217 non-null  int64         \n",
            " 61  RADIOAPOS   54217 non-null  int64         \n",
            " 62  QUIMIOAPOS  54217 non-null  int64         \n",
            " 63  HORMOAPOS   54217 non-null  int64         \n",
            " 64  TMOAPOS     54217 non-null  int64         \n",
            " 65  IMUNOAPOS   54217 non-null  int64         \n",
            " 66  OUTROAPOS   54217 non-null  int64         \n",
            " 67  DTULTINFO   54217 non-null  datetime64[ns]\n",
            " 68  ULTINFO     54217 non-null  int64         \n",
            " 69  CONSDIAG    54217 non-null  object        \n",
            " 70  TRATCONS    54217 non-null  object        \n",
            " 71  DIAGTRAT    54217 non-null  object        \n",
            " 72  ANODIAG     54217 non-null  int64         \n",
            " 73  CICI        54217 non-null  object        \n",
            " 74  CICIGRUP    54217 non-null  object        \n",
            " 75  CICISUBGRU  54217 non-null  object        \n",
            " 76  FAIXAETAR   54217 non-null  object        \n",
            " 77  LATERALI    54217 non-null  int64         \n",
            " 78  INSTORIG    54217 non-null  object        \n",
            " 79  DRS         54217 non-null  object        \n",
            " 80  RRAS        54217 non-null  int64         \n",
            " 81  PERDASEG    54217 non-null  int64         \n",
            " 82  ERRO        54217 non-null  int64         \n",
            " 83  DTRECIDIVA  6183 non-null   datetime64[ns]\n",
            " 84  RECNENHUM   54217 non-null  int64         \n",
            " 85  RECLOCAL    54217 non-null  int64         \n",
            " 86  RECREGIO    54217 non-null  int64         \n",
            " 87  RECDIST     54217 non-null  int64         \n",
            " 88  REC01       54217 non-null  object        \n",
            " 89  REC02       54217 non-null  object        \n",
            " 90  REC03       54217 non-null  object        \n",
            " 91  REC04       54217 non-null  object        \n",
            " 92  IBGEATEN    54217 non-null  int64         \n",
            " 93  CIDO        54217 non-null  int64         \n",
            " 94  DSCCIDO     54217 non-null  object        \n",
            " 95  HABILIT     54217 non-null  int64         \n",
            " 96  HABIT11     54217 non-null  object        \n",
            " 97  HABILIT1    54217 non-null  int64         \n",
            " 98  HABILIT2    54217 non-null  int64         \n",
            "dtypes: datetime64[ns](4), int64(55), object(40)\n",
            "memory usage: 41.0+ MB\n"
          ]
        }
      ]
    },
    {
      "cell_type": "code",
      "source": [
        "#Verificando se existem linhas duplicadas\n",
        "df.duplicated().sum()"
      ],
      "metadata": {
        "id": "kSzHtwBOL_6k",
        "colab": {
          "base_uri": "https://localhost:8080/"
        },
        "outputId": "ac56737c-766a-48b4-ddda-16c902049911"
      },
      "execution_count": 22,
      "outputs": [
        {
          "output_type": "execute_result",
          "data": {
            "text/plain": [
              "2"
            ]
          },
          "metadata": {},
          "execution_count": 22
        }
      ]
    },
    {
      "cell_type": "markdown",
      "source": [
        "### Frequência da variável alvo\n",
        "\n",
        "Como queremos predizer a recidiva, nossa label será a variável 'RECNENHUM', que infoma se o paciente teve recidiva (0) ou se não teve recidiva (1)."
      ],
      "metadata": {
        "id": "Z3RsCR8DDJxQ"
      }
    },
    {
      "cell_type": "code",
      "source": [
        "df['RECNENHUM'].value_counts()"
      ],
      "metadata": {
        "id": "gUyzpPmyoroX",
        "colab": {
          "base_uri": "https://localhost:8080/"
        },
        "outputId": "75d07eb0-d9a2-4cb2-fd37-abf295921195"
      },
      "execution_count": 23,
      "outputs": [
        {
          "output_type": "execute_result",
          "data": {
            "text/plain": [
              "1    48047\n",
              "0     6170\n",
              "Name: RECNENHUM, dtype: int64"
            ]
          },
          "metadata": {},
          "execution_count": 23
        }
      ]
    },
    {
      "cell_type": "markdown",
      "source": [
        "Para facilitar a interpretação e deixar os casos positivos codificados como 1 e os negativos como zero, vamos criar uma nova coluna chamada 'REC'."
      ],
      "metadata": {
        "id": "cLxE_WFWQmt4"
      }
    },
    {
      "cell_type": "code",
      "source": [
        "df['REC'] = df['RECNENHUM'].apply(lambda x: 1 if x == 0 else 0)"
      ],
      "metadata": {
        "id": "GdW5vXeJQi-h"
      },
      "execution_count": 24,
      "outputs": []
    },
    {
      "cell_type": "code",
      "source": [
        "df['REC'].value_counts()"
      ],
      "metadata": {
        "id": "euUxlmNcQn6k",
        "colab": {
          "base_uri": "https://localhost:8080/"
        },
        "outputId": "38b5721c-3cc2-4c14-82d7-41b25390d282"
      },
      "execution_count": 25,
      "outputs": [
        {
          "output_type": "execute_result",
          "data": {
            "text/plain": [
              "0    48047\n",
              "1     6170\n",
              "Name: REC, dtype: int64"
            ]
          },
          "metadata": {},
          "execution_count": 25
        }
      ]
    },
    {
      "cell_type": "code",
      "source": [
        "df['N'].value_counts()"
      ],
      "metadata": {
        "id": "J276pZOZ7kg5",
        "colab": {
          "base_uri": "https://localhost:8080/"
        },
        "outputId": "ed3a1af5-72eb-4365-cac0-108df20d3390"
      },
      "execution_count": 26,
      "outputs": [
        {
          "output_type": "execute_result",
          "data": {
            "text/plain": [
              "0        28598\n",
              "1        14876\n",
              "2         4621\n",
              "X         1601\n",
              "2A        1354\n",
              "3         1254\n",
              "3A         581\n",
              "Y          488\n",
              "3C         476\n",
              "3B         192\n",
              "2B         176\n",
              "Name: N, dtype: int64"
            ]
          },
          "metadata": {},
          "execution_count": 26
        }
      ]
    },
    {
      "cell_type": "code",
      "source": [
        "df['EC'].loc[df['REC']==1].value_counts()"
      ],
      "metadata": {
        "id": "U3a498_G74sR",
        "colab": {
          "base_uri": "https://localhost:8080/"
        },
        "outputId": "7e00563e-9d07-46b0-d16a-6508e117d930"
      },
      "execution_count": 27,
      "outputs": [
        {
          "output_type": "execute_result",
          "data": {
            "text/plain": [
              "IV       1565\n",
              "IIIB     1176\n",
              "IIIA     1010\n",
              "IIB       780\n",
              "IIA       697\n",
              "IIIC      393\n",
              "IA        306\n",
              "0          95\n",
              "X          68\n",
              "Y          57\n",
              "IB         23\n",
              "Name: EC, dtype: int64"
            ]
          },
          "metadata": {},
          "execution_count": 27
        }
      ]
    },
    {
      "cell_type": "code",
      "source": [
        "df['EC'].loc[df['REC']==0].value_counts()"
      ],
      "metadata": {
        "id": "FWjtCh078CDk",
        "colab": {
          "base_uri": "https://localhost:8080/"
        },
        "outputId": "c2c572d0-4c91-4b27-adc2-b028a31d7382"
      },
      "execution_count": 28,
      "outputs": [
        {
          "output_type": "execute_result",
          "data": {
            "text/plain": [
              "IA       11344\n",
              "IIA       9901\n",
              "IIB       6139\n",
              "IIIA      5110\n",
              "0         4719\n",
              "IV        3950\n",
              "IIIB      3616\n",
              "IIIC      1147\n",
              "X          846\n",
              "IB         844\n",
              "Y          431\n",
              "Name: EC, dtype: int64"
            ]
          },
          "metadata": {},
          "execution_count": 28
        }
      ]
    },
    {
      "cell_type": "code",
      "source": [
        "cross_tab = pd.crosstab(df['EC'], df['REC'], normalize='index')\n",
        "\n",
        "plt.figure(figsize=(10, 6))\n",
        "cross_tab.plot(kind='bar', stacked=True, cmap='viridis')\n",
        "plt.xlabel('EC')\n",
        "plt.ylabel('Proporção')\n",
        "plt.title('Relação entre EC e REC')\n",
        "plt.xticks(rotation=90)\n",
        "plt.legend(title='REC', labels=['False', 'True'])\n",
        "plt.tight_layout()\n",
        "plt.show()"
      ],
      "metadata": {
        "id": "WC0g5H5QK8eF",
        "colab": {
          "base_uri": "https://localhost:8080/",
          "height": 504
        },
        "outputId": "39141420-7640-43df-fb29-3a81d8f0c14f"
      },
      "execution_count": 29,
      "outputs": [
        {
          "output_type": "display_data",
          "data": {
            "text/plain": [
              "<Figure size 1000x600 with 0 Axes>"
            ]
          },
          "metadata": {}
        },
        {
          "output_type": "display_data",
          "data": {
            "text/plain": [
              "<Figure size 640x480 with 1 Axes>"
            ],
            "image/png": "[encoded data removed]"
          },
          "metadata": {}
        }
      ]
    },
    {
      "cell_type": "code",
      "source": [
        "df['RECNENHUM'].value_counts(normalize=True)"
      ],
      "metadata": {
        "id": "Y6CrXyHBNYt9",
        "colab": {
          "base_uri": "https://localhost:8080/"
        },
        "outputId": "0f1c1fb7-c7f6-413b-a161-eece9886a610"
      },
      "execution_count": 30,
      "outputs": [
        {
          "output_type": "execute_result",
          "data": {
            "text/plain": [
              "1    0.886198\n",
              "0    0.113802\n",
              "Name: RECNENHUM, dtype: float64"
            ]
          },
          "metadata": {},
          "execution_count": 30
        }
      ]
    },
    {
      "cell_type": "markdown",
      "source": [
        "Podemos ver que o dataset é altamente desbalanceado, com apenas cerca de 7% dos casos com recidiva e ~93% sem recidiva"
      ],
      "metadata": {
        "id": "7i7rptNfo3IY"
      }
    },
    {
      "cell_type": "markdown",
      "source": [
        "Temos também as variáveis 'RECLOCAL', 'RECREGIO' e 'RECDIST' que informam se a recidiva foi local, regional ou a distância (metástase)"
      ],
      "metadata": {
        "id": "fAZ6Qa0zpHqU"
      }
    },
    {
      "cell_type": "code",
      "source": [
        "df['RECLOCAL'].value_counts()"
      ],
      "metadata": {
        "id": "E3hKVBVBDPJy",
        "colab": {
          "base_uri": "https://localhost:8080/"
        },
        "outputId": "243672b4-ac35-4fae-9568-acb6fde78e9d"
      },
      "execution_count": 31,
      "outputs": [
        {
          "output_type": "execute_result",
          "data": {
            "text/plain": [
              "0    52810\n",
              "1     1407\n",
              "Name: RECLOCAL, dtype: int64"
            ]
          },
          "metadata": {},
          "execution_count": 31
        }
      ]
    },
    {
      "cell_type": "code",
      "source": [
        "df['RECREGIO'].value_counts()"
      ],
      "metadata": {
        "id": "xHfw7nAaDY2I",
        "colab": {
          "base_uri": "https://localhost:8080/"
        },
        "outputId": "d9dde39a-4b80-4f09-d094-a9776b9b9cec"
      },
      "execution_count": 32,
      "outputs": [
        {
          "output_type": "execute_result",
          "data": {
            "text/plain": [
              "0    53636\n",
              "1      581\n",
              "Name: RECREGIO, dtype: int64"
            ]
          },
          "metadata": {},
          "execution_count": 32
        }
      ]
    },
    {
      "cell_type": "code",
      "source": [
        "df['RECDIST'].value_counts()"
      ],
      "metadata": {
        "id": "hVt3G-axDbIm",
        "colab": {
          "base_uri": "https://localhost:8080/"
        },
        "outputId": "57d2e67c-e3bc-4293-eee3-f7c9d52c8b43"
      },
      "execution_count": 33,
      "outputs": [
        {
          "output_type": "execute_result",
          "data": {
            "text/plain": [
              "0    49108\n",
              "1     5109\n",
              "Name: RECDIST, dtype: int64"
            ]
          },
          "metadata": {},
          "execution_count": 33
        }
      ]
    },
    {
      "cell_type": "code",
      "source": [
        "df['RECLOCAL'].loc[(df['RECDIST']==0) & (df['RECREGIO']==0)].value_counts()"
      ],
      "metadata": {
        "id": "ciTFlWBt5wRD",
        "colab": {
          "base_uri": "https://localhost:8080/"
        },
        "outputId": "9ff0eccb-965f-4562-e8fa-86ec54db75f6"
      },
      "execution_count": 34,
      "outputs": [
        {
          "output_type": "execute_result",
          "data": {
            "text/plain": [
              "0    48048\n",
              "1      769\n",
              "Name: RECLOCAL, dtype: int64"
            ]
          },
          "metadata": {},
          "execution_count": 34
        }
      ]
    },
    {
      "cell_type": "markdown",
      "source": [
        "A frequência de recidiva regional é bastante baixa. A frequência de recidiva a distância compreende a maior parte dos casos."
      ],
      "metadata": {
        "id": "TX5QSFrcDmaI"
      }
    },
    {
      "cell_type": "markdown",
      "source": [
        "#### Quantidade de dados por ano"
      ],
      "metadata": {
        "id": "iZ3BLkxKMN8j"
      }
    },
    {
      "cell_type": "code",
      "source": [
        "df['ANODIAG'].value_counts()"
      ],
      "metadata": {
        "id": "2d4Gcfgfzxd4",
        "colab": {
          "base_uri": "https://localhost:8080/"
        },
        "outputId": "686a2c81-3745-43fd-9f31-cb048e98118a"
      },
      "execution_count": 35,
      "outputs": [
        {
          "output_type": "execute_result",
          "data": {
            "text/plain": [
              "2014    9719\n",
              "2015    9225\n",
              "2016    9059\n",
              "2019    8820\n",
              "2018    8797\n",
              "2017    8597\n",
              "Name: ANODIAG, dtype: int64"
            ]
          },
          "metadata": {},
          "execution_count": 35
        }
      ]
    },
    {
      "cell_type": "markdown",
      "source": [
        "A maior parte dos registros é de 2019, seguido por 2019, 2020, 2021 e 2022, o último com apenas 3766 registros."
      ],
      "metadata": {
        "id": "M-B5FOR800CP"
      }
    },
    {
      "cell_type": "code",
      "source": [
        "recurrence_counts = df.groupby('ANODIAG')['REC'].sum().reset_index()\n",
        "\n",
        "plt.figure(figsize=(10, 6))\n",
        "sns.barplot(x='ANODIAG', y='REC', data=recurrence_counts)\n",
        "plt.title('Número de recidivas por ano')\n",
        "plt.xlabel('Ano de diagnóstico')\n",
        "plt.ylabel('Número de recidivas')\n",
        "plt.show()"
      ],
      "metadata": {
        "id": "bV3K_TGSOYUR",
        "colab": {
          "base_uri": "https://localhost:8080/",
          "height": 565
        },
        "outputId": "f1d59d15-12b1-4c60-d3ef-8e18cb838409"
      },
      "execution_count": 36,
      "outputs": [
        {
          "output_type": "display_data",
          "data": {
            "text/plain": [
              "<Figure size 1000x600 with 1 Axes>"
            ],
            "image/png": "[encoded data removed]"
          },
          "metadata": {}
        }
      ]
    },
    {
      "cell_type": "markdown",
      "source": [
        "A maior parte dos casos de recidiva que temos é de 2018. Isso porque, de acordo com a fundação oncocentro, os casos após 2018 ainda estão com registros em andamento."
      ],
      "metadata": {
        "id": "hmk5XspSQwWz"
      }
    },
    {
      "cell_type": "markdown",
      "source": [
        "#### Quantidade de topografias distintas"
      ],
      "metadata": {
        "id": "dfWU9QfBMrFo"
      }
    },
    {
      "cell_type": "code",
      "source": [
        "df['TOPO'].value_counts()"
      ],
      "metadata": {
        "id": "SaJAgZP94d70",
        "colab": {
          "base_uri": "https://localhost:8080/"
        },
        "outputId": "d1330bd2-03cd-4741-d098-aabdcfbdc123"
      },
      "execution_count": 37,
      "outputs": [
        {
          "output_type": "execute_result",
          "data": {
            "text/plain": [
              "C504    15402\n",
              "C508    12547\n",
              "C509    11189\n",
              "C502     3947\n",
              "C501     3260\n",
              "C505     2884\n",
              "C503     2369\n",
              "C500     2078\n",
              "C506      541\n",
              "Name: TOPO, dtype: int64"
            ]
          },
          "metadata": {},
          "execution_count": 37
        }
      ]
    },
    {
      "cell_type": "markdown",
      "source": [
        "A topografia mais comum (8842 registros) é a C50.4, que se refere ao câncer de mama no quadrante superior externo da mama, seguido pelo C50.9 que se refere a glândula mamária. A topografia menos comum é a C50.6, onde o tumor se localiza no prolongamento axilar da mama\n",
        "\n",
        "**C50 MAMA (exclui pele da mama C44.5)**\n",
        "\n",
        "**C50.0 Mamilo**\n",
        "Aréola\n",
        "\n",
        "**C50.1 Porção central da mama**\n",
        "\n",
        "**C50.2 Quadrante superior interno da mama**\n",
        "\n",
        "**C50.3 Quadrante inferior interno da mama**\n",
        "\n",
        "**C50.4 Quadrante superior externo da mama**\n",
        "\n",
        "**C50.5 Quadrante inferior externo da mama**\n",
        "\n",
        "**C50.6 Prolongamento axilar da mama**\n",
        "\n",
        "**C50.8 Lesão sobreposta da mama**\n",
        "\n",
        "Linha média da mama\n",
        "\n",
        "Mama externa\n",
        "\n",
        "Mama inferior\n",
        "\n",
        "Mama interna\n",
        "\n",
        "Mama superior\n",
        "\n",
        "**C50.9 Mama, SOE (exclui pele da mama\n",
        "C44.5)**\n",
        "Glândula mamária"
      ],
      "metadata": {
        "id": "hFCLuePi4fPI"
      }
    },
    {
      "cell_type": "code",
      "source": [
        "topo_recurrence_counts = df.groupby('TOPO')['REC'].sum().reset_index()\n",
        "\n",
        "plt.figure(figsize=(10, 6))\n",
        "sns.barplot(x='TOPO', y='REC', data=topo_recurrence_counts)\n",
        "plt.title('Número de recidivas por topografia')\n",
        "plt.xlabel('TOPO')\n",
        "plt.ylabel('Número de recidivas')\n",
        "plt.show()"
      ],
      "metadata": {
        "id": "zRa_hOfFRAmn",
        "colab": {
          "base_uri": "https://localhost:8080/",
          "height": 565
        },
        "outputId": "99e6cfc6-c941-427f-d3a3-d73079453561"
      },
      "execution_count": 38,
      "outputs": [
        {
          "output_type": "display_data",
          "data": {
            "text/plain": [
              "<Figure size 1000x600 with 1 Axes>"
            ],
            "image/png": "[encoded data removed]"
          },
          "metadata": {}
        }
      ]
    },
    {
      "cell_type": "markdown",
      "source": [
        "A topografia C50.4 parece estar presente na maior parte dos casos de recidiva"
      ],
      "metadata": {
        "id": "qI0u8UCXRbT4"
      }
    },
    {
      "cell_type": "markdown",
      "source": [
        "### Distribuição de idade e sexo"
      ],
      "metadata": {
        "id": "celJhvhv6xAn"
      }
    },
    {
      "cell_type": "markdown",
      "source": [
        "#### Idade"
      ],
      "metadata": {
        "id": "LLhpXLl_9K89"
      }
    },
    {
      "cell_type": "code",
      "source": [
        "sns.histplot(x=df['IDADE'], color='pink')"
      ],
      "metadata": {
        "id": "6P8LwE7a640u",
        "colab": {
          "base_uri": "https://localhost:8080/",
          "height": 466
        },
        "outputId": "e695521e-e7f5-4c9e-a9ad-0551cc366ca0"
      },
      "execution_count": 39,
      "outputs": [
        {
          "output_type": "execute_result",
          "data": {
            "text/plain": [
              "<Axes: xlabel='IDADE', ylabel='Count'>"
            ]
          },
          "metadata": {},
          "execution_count": 39
        },
        {
          "output_type": "display_data",
          "data": {
            "text/plain": [
              "<Figure size 640x480 with 1 Axes>"
            ],
            "image/png": "[encoded data removed]"
          },
          "metadata": {}
        }
      ]
    },
    {
      "cell_type": "markdown",
      "source": [
        "A distribuição de idade parece seguir um padrão próximo a distribuição normal. Entretanto é relevante notar que existem alguns pontos em algumas faixas de idade onde a frequência é quase ou mais do que o dobro dos pontos ao redor. Um exemplo é o ponto ao redor dos 50 anos. Isso pode acontecer porque o screening obrigatório para câncer de mama começa aos 40 anos e as chances de câncer aumentam com a idade."
      ],
      "metadata": {
        "id": "vAPcrq987Lne"
      }
    },
    {
      "cell_type": "code",
      "source": [
        "df['IDADE'].describe()"
      ],
      "metadata": {
        "id": "pmra3H2d8UJ6",
        "colab": {
          "base_uri": "https://localhost:8080/"
        },
        "outputId": "8b9c82ba-9456-4bf4-9334-2fdea638c6e1"
      },
      "execution_count": 40,
      "outputs": [
        {
          "output_type": "execute_result",
          "data": {
            "text/plain": [
              "count    54217.000000\n",
              "mean        56.270948\n",
              "std         13.444375\n",
              "min          1.000000\n",
              "25%         46.000000\n",
              "50%         56.000000\n",
              "75%         66.000000\n",
              "max        103.000000\n",
              "Name: IDADE, dtype: float64"
            ]
          },
          "metadata": {},
          "execution_count": 40
        }
      ]
    },
    {
      "cell_type": "markdown",
      "source": [
        "* A **média** de idade dos pacientes é de 56 anos, com um desvio padrão de 13 anos, ou seja, gira em torno de 43 a 69 anos.\n",
        "\n",
        "* O **valor mínimo** é 1, o que pode ser um dado inserido incorretamente ou um caso de câncer infantil.\n",
        "\n",
        "* A **idade máxima** foi 102 anos."
      ],
      "metadata": {
        "id": "X7HOAyuf8ftQ"
      }
    },
    {
      "cell_type": "code",
      "source": [
        "plt.figure(figsize=(8, 6))\n",
        "bp = plt.boxplot(df['IDADE'], patch_artist=True)\n",
        "\n",
        "for box in bp['boxes']:\n",
        "    box.set(facecolor='pink')\n",
        "\n",
        "plt.grid(axis='y', linestyle='--', linewidth=0.8, alpha=0.5)\n",
        "\n",
        "plt.xlabel('Age')\n",
        "plt.ylabel('')\n",
        "plt.title('Boxplot of Age Distribution')\n",
        "\n",
        "plt.show()"
      ],
      "metadata": {
        "id": "vTkSCClS9JO5",
        "colab": {
          "base_uri": "https://localhost:8080/",
          "height": 564
        },
        "outputId": "f9c5b818-e360-4fcd-b329-28e88d22b0b2"
      },
      "execution_count": 41,
      "outputs": [
        {
          "output_type": "display_data",
          "data": {
            "text/plain": [
              "<Figure size 800x600 with 1 Axes>"
            ],
            "image/png": "[encoded data removed]"
          },
          "metadata": {}
        }
      ]
    },
    {
      "cell_type": "markdown",
      "source": [
        "No boxplot é possível observar as informações descritas e que existem alguns outliers em idades < 20 e > 90, aproximadamente."
      ],
      "metadata": {
        "id": "vw3THB7FBVNI"
      }
    },
    {
      "cell_type": "code",
      "source": [
        "plt.figure(figsize=(8, 6))  # Set figure size\n",
        "sns.boxplot(x='REC', y='IDADE', data=df, palette=\"flare\")\n",
        "\n",
        "# Add labels and title\n",
        "plt.xlabel('Recidiva')\n",
        "plt.ylabel('Age')\n",
        "plt.title('Boxplot da distribuição de idade subdividido pela classificação recidiva')\n",
        "\n",
        "# Show the plot\n",
        "plt.show()"
      ],
      "metadata": {
        "id": "3Pvpxt-PRzTW",
        "colab": {
          "base_uri": "https://localhost:8080/",
          "height": 564
        },
        "outputId": "7634ace7-062f-47f2-caa8-9b463721c5de"
      },
      "execution_count": 42,
      "outputs": [
        {
          "output_type": "display_data",
          "data": {
            "text/plain": [
              "<Figure size 800x600 with 1 Axes>"
            ],
            "image/png": "[encoded data removed]"
          },
          "metadata": {}
        }
      ]
    },
    {
      "cell_type": "markdown",
      "source": [
        "Pacientes que tiveram recidiva possuem a faixa de idade parecida, apesar de levemente inferior, a dos pacientes  que não tiveram recidiva"
      ],
      "metadata": {
        "id": "Ua8E0sEzSDPn"
      }
    },
    {
      "cell_type": "code",
      "source": [
        "plt.figure(figsize=(8, 6))  # Set figure size\n",
        "sns.boxplot(x='SEXO', y='IDADE', data=df, palette=\"flare\")\n",
        "\n",
        "# Add labels and title\n",
        "plt.xlabel('Sexo')\n",
        "plt.ylabel('Idade')\n",
        "plt.title('Boxplot de distribuição de idade subdividido pelo sexo')\n",
        "\n",
        "# Show the plot\n",
        "plt.show()"
      ],
      "metadata": {
        "id": "Jd2iNfvmA76F",
        "colab": {
          "base_uri": "https://localhost:8080/",
          "height": 564
        },
        "outputId": "9309cce8-26a4-4b2a-c671-51de3dfc9f7e"
      },
      "execution_count": 43,
      "outputs": [
        {
          "output_type": "display_data",
          "data": {
            "text/plain": [
              "<Figure size 800x600 with 1 Axes>"
            ],
            "image/png": "[encoded data removed]"
          },
          "metadata": {}
        }
      ]
    },
    {
      "cell_type": "markdown",
      "source": [
        "A idade parece ser similar entre os diferentes subtipos tumorais e os diferentes anos de diagnóstico incluidos. Comparando a distribuição de idade entre câncer de mama feminino e masculino, é possível ver que o câncer de mama masculino (1) em geral se manifesta em uma idade mais elevada."
      ],
      "metadata": {
        "id": "gtrOM9RmAndG"
      }
    },
    {
      "cell_type": "markdown",
      "source": [
        "#### Sexo"
      ],
      "metadata": {
        "id": "E9I1CUOV9NQT"
      }
    },
    {
      "cell_type": "code",
      "source": [
        "df['SEXO'] = df['SEXO'].astype(int)"
      ],
      "metadata": {
        "id": "HOusKg8S7EoR"
      },
      "execution_count": 44,
      "outputs": []
    },
    {
      "cell_type": "code",
      "source": [
        "df['SEXO'].value_counts()"
      ],
      "metadata": {
        "id": "Mk9wWp6wmxDc",
        "colab": {
          "base_uri": "https://localhost:8080/"
        },
        "outputId": "1ca084b1-1ed3-40f0-8e11-2323c9454137"
      },
      "execution_count": 45,
      "outputs": [
        {
          "output_type": "execute_result",
          "data": {
            "text/plain": [
              "2    53842\n",
              "1      375\n",
              "Name: SEXO, dtype: int64"
            ]
          },
          "metadata": {},
          "execution_count": 45
        }
      ]
    },
    {
      "cell_type": "markdown",
      "source": [
        "Como esperado, a frequência para casos de câncer de mama no sexo feminino corresponde a maioria dos dados."
      ],
      "metadata": {
        "id": "UahmLX_p8Bqe"
      }
    },
    {
      "cell_type": "code",
      "source": [
        "proporcao_recidiva_feminina = (df[(df['SEXO'] == 2) & (df['REC'] == 1)].shape[0] / df[df['SEXO'] == 2].shape[0])*100\n",
        "print(f\"A proporção de pacientes femininas com recidiva é: {proporcao_recidiva_feminina:.2f}%\")"
      ],
      "metadata": {
        "id": "sGavypRrS3B0",
        "colab": {
          "base_uri": "https://localhost:8080/"
        },
        "outputId": "391c4b1d-2dd2-4a2c-c8f4-51876f5da453"
      },
      "execution_count": 46,
      "outputs": [
        {
          "output_type": "stream",
          "name": "stdout",
          "text": [
            "A proporção de pacientes femininas com recidiva é: 11.39%\n"
          ]
        }
      ]
    },
    {
      "cell_type": "code",
      "source": [
        "proporcao_recidiva_masculina = (df[(df['SEXO'] == 1) & (df['REC'] == 1)].shape[0] / df[df['SEXO'] == 1].shape[0])*100\n",
        "print(f\"A proporção de pacientes masculinos com recidiva é: {proporcao_recidiva_masculina:.2f}%\")"
      ],
      "metadata": {
        "id": "YXF67hceS8OL",
        "colab": {
          "base_uri": "https://localhost:8080/"
        },
        "outputId": "66237d11-4b7d-479a-8f1e-4583ad0ad5c9"
      },
      "execution_count": 47,
      "outputs": [
        {
          "output_type": "stream",
          "name": "stdout",
          "text": [
            "A proporção de pacientes masculinos com recidiva é: 9.87%\n"
          ]
        }
      ]
    },
    {
      "cell_type": "markdown",
      "source": [
        "A frequêcia de recidiva nesse caso também é proporcionalmente maior na população feminina do que na população masculina"
      ],
      "metadata": {
        "id": "nZPhU6JETOwV"
      }
    },
    {
      "cell_type": "markdown",
      "source": [
        "### Categoria de atendimento\n",
        "\n",
        "1 - CONVENIO\n",
        "\n",
        "2 - SUS\n",
        "\n",
        "3 – PARTICULAR\n",
        "\n",
        "9 – SEM INFORMAÇÃO"
      ],
      "metadata": {
        "id": "Yqgda7GEm5Dv"
      }
    },
    {
      "cell_type": "code",
      "source": [
        "df['CATEATEND'] = df['CATEATEND'].astype(int)"
      ],
      "metadata": {
        "id": "VGaQDoC9m8Km"
      },
      "execution_count": 48,
      "outputs": []
    },
    {
      "cell_type": "code",
      "source": [
        "df['CATEATEND'].value_counts()"
      ],
      "metadata": {
        "id": "MHWGnAbRnFwa",
        "colab": {
          "base_uri": "https://localhost:8080/"
        },
        "outputId": "b9c9c639-956c-4479-9dfc-4b05ba3560fe"
      },
      "execution_count": 49,
      "outputs": [
        {
          "output_type": "execute_result",
          "data": {
            "text/plain": [
              "2    44051\n",
              "1     9583\n",
              "3      583\n",
              "Name: CATEATEND, dtype: int64"
            ]
          },
          "metadata": {},
          "execution_count": 49
        }
      ]
    },
    {
      "cell_type": "markdown",
      "source": [
        "A grande maioria dos pacientes do banco de dados foram atendidos pelo SUS.\n",
        "\n",
        "20% dos registros são de pacientes com convênio e menos de 1% são de pacientes com atendimento ao diagnóstico particular"
      ],
      "metadata": {
        "id": "tv4fQiY9nPuV"
      }
    },
    {
      "cell_type": "code",
      "source": [
        "cateatend_recurrence_counts = df.groupby('CATEATEND')['REC'].sum().reset_index()\n",
        "\n",
        "plt.figure(figsize=(10, 6))\n",
        "sns.barplot(x='CATEATEND', y='REC', data=cateatend_recurrence_counts)\n",
        "plt.title('Número de recidivas por categoria de atendimento')\n",
        "plt.xlabel('CATEATEND')\n",
        "plt.ylabel('Número de recidivas')\n",
        "plt.show()"
      ],
      "metadata": {
        "id": "wnrzO83KTV9m",
        "colab": {
          "base_uri": "https://localhost:8080/",
          "height": 565
        },
        "outputId": "60f978d1-3878-4e19-9069-def5f8302191"
      },
      "execution_count": 50,
      "outputs": [
        {
          "output_type": "display_data",
          "data": {
            "text/plain": [
              "<Figure size 1000x600 with 1 Axes>"
            ],
            "image/png": "[encoded data removed]"
          },
          "metadata": {}
        }
      ]
    },
    {
      "cell_type": "code",
      "source": [
        "proporcao_recidiva_sus = (df[(df['CATEATEND'] == 2) & (df['REC'] == 1)].shape[0] / df[df['CATEATEND'] == 2].shape[0])*100\n",
        "print(f\"Proporção de recidiva em pacientes SUS: {proporcao_recidiva_sus:.2f}%\")"
      ],
      "metadata": {
        "id": "mzO6knVcTrY7",
        "colab": {
          "base_uri": "https://localhost:8080/"
        },
        "outputId": "1f6b62a0-6f6c-4475-b026-0983304e0bcf"
      },
      "execution_count": 51,
      "outputs": [
        {
          "output_type": "stream",
          "name": "stdout",
          "text": [
            "Proporção de recidiva em pacientes SUS: 12.87%\n"
          ]
        }
      ]
    },
    {
      "cell_type": "code",
      "source": [
        "proporcao_recidiva_convenio = (df[(df['CATEATEND'] == 1) & (df['REC'] == 1)].shape[0] / df[df['CATEATEND'] == 1].shape[0])*100\n",
        "print(f\"Proporção de recidiva em pacientes Convenio: {proporcao_recidiva_convenio:.2f}%\")"
      ],
      "metadata": {
        "id": "Ff1yZFLPT1tT",
        "colab": {
          "base_uri": "https://localhost:8080/"
        },
        "outputId": "9199934f-c740-4fbc-94ac-b3572cf10f38"
      },
      "execution_count": 52,
      "outputs": [
        {
          "output_type": "stream",
          "name": "stdout",
          "text": [
            "Proporção de recidiva em pacientes Convenio: 4.97%\n"
          ]
        }
      ]
    },
    {
      "cell_type": "code",
      "source": [
        "proporcao_recidiva_particular = (df[(df['CATEATEND'] == 3) & (df['REC'] == 1)].shape[0] / df[df['CATEATEND'] == 3].shape[0])*100\n",
        "print(f\"Proporção de recidiva em pacientes Particular: {proporcao_recidiva_particular:.2f}%\")"
      ],
      "metadata": {
        "id": "ThS_eFETT-Pv",
        "colab": {
          "base_uri": "https://localhost:8080/"
        },
        "outputId": "1474a3f5-5efc-4ccf-b1d9-b1b95c59ee79"
      },
      "execution_count": 53,
      "outputs": [
        {
          "output_type": "stream",
          "name": "stdout",
          "text": [
            "Proporção de recidiva em pacientes Particular: 3.95%\n"
          ]
        }
      ]
    },
    {
      "cell_type": "markdown",
      "source": [
        "Como a maior parte dos dados do dataset são de pacientes SUS, a maior parte das recidivas também são representadas por esses pacientes."
      ],
      "metadata": {
        "id": "H6d65iJWUMfV"
      }
    },
    {
      "cell_type": "markdown",
      "source": [
        "### Escolaridade\n",
        "\n",
        "1 – ANALFABETO\n",
        "\n",
        "2 – ENS. FUND. INCOMPLETO\n",
        "\n",
        "3 – ENS. FUND. COMPLETO\n",
        "\n",
        "4 – ENSINO MÉDIO\n",
        "\n",
        "5 – SUPERIOR\n",
        "\n",
        "9 – IGNORADA"
      ],
      "metadata": {
        "id": "AWRck-Rxmhs0"
      }
    },
    {
      "cell_type": "code",
      "source": [
        "df['ESCOLARI'].value_counts()"
      ],
      "metadata": {
        "id": "0ZR8OkZamrfG",
        "colab": {
          "base_uri": "https://localhost:8080/"
        },
        "outputId": "be7746ee-e994-441c-a1b4-deab80411154"
      },
      "execution_count": 54,
      "outputs": [
        {
          "output_type": "execute_result",
          "data": {
            "text/plain": [
              "2    13151\n",
              "4    11311\n",
              "9    11012\n",
              "3     9686\n",
              "5     7542\n",
              "1     1515\n",
              "Name: ESCOLARI, dtype: int64"
            ]
          },
          "metadata": {},
          "execution_count": 54
        }
      ]
    },
    {
      "cell_type": "markdown",
      "source": [
        "A maior parte dos pacientes tem apenas Ensino Médio ou escolaridade ignorada. Pacientes que possuem apenas ensino fundamental completo ou que são analfabetos estão em menor quantidade no conjunto de dados."
      ],
      "metadata": {
        "id": "kEZv6UoTmz0T"
      }
    },
    {
      "cell_type": "code",
      "source": [
        "escolaridade_recurrence_counts = df.groupby('ESCOLARI')['REC'].sum().reset_index()\n",
        "\n",
        "plt.figure(figsize=(10, 6))\n",
        "sns.barplot(x='ESCOLARI', y='REC', data=escolaridade_recurrence_counts)\n",
        "plt.title('Número de recidivas por escolaridade')\n",
        "plt.xlabel('ESCOLARI')\n",
        "plt.ylabel('Número de recidivas')\n",
        "plt.show()"
      ],
      "metadata": {
        "id": "8ObKkNYsmucC",
        "colab": {
          "base_uri": "https://localhost:8080/",
          "height": 565
        },
        "outputId": "84ccb57e-8f10-412d-d1f0-1c3a8084ea77"
      },
      "execution_count": 55,
      "outputs": [
        {
          "output_type": "display_data",
          "data": {
            "text/plain": [
              "<Figure size 1000x600 with 1 Axes>"
            ],
            "image/png": "[encoded data removed]"
          },
          "metadata": {}
        }
      ]
    },
    {
      "cell_type": "code",
      "source": [
        "proporcao_recidiva_1 = (df[(df['ESCOLARI'] == 1) & (df['REC'] == 1)].shape[0] / df[df['ESCOLARI'] == 1].shape[0])*100\n",
        "print(f\"Proporção de recidiva em pacientes analfabetos: {proporcao_recidiva_1:.2f}%\")"
      ],
      "metadata": {
        "id": "GZ-vGNZ5U35C",
        "colab": {
          "base_uri": "https://localhost:8080/"
        },
        "outputId": "582811c6-de6c-423b-ddb0-2c36e7f0a19b"
      },
      "execution_count": 56,
      "outputs": [
        {
          "output_type": "stream",
          "name": "stdout",
          "text": [
            "Proporção de recidiva em pacientes analfabetos: 11.82%\n"
          ]
        }
      ]
    },
    {
      "cell_type": "code",
      "source": [
        "proporcao_recidiva_2 = (df[(df['ESCOLARI'] == 2) & (df['REC'] == 1)].shape[0] / df[df['ESCOLARI'] == 2].shape[0])*100\n",
        "print(f\"Proporção de recidiva em pacientes fund. incompleto: {proporcao_recidiva_2:.2f}%\")"
      ],
      "metadata": {
        "id": "z6F6KUccVA7Q",
        "colab": {
          "base_uri": "https://localhost:8080/"
        },
        "outputId": "3adccc48-8fe0-4f41-cd41-c1cb241b505e"
      },
      "execution_count": 57,
      "outputs": [
        {
          "output_type": "stream",
          "name": "stdout",
          "text": [
            "Proporção de recidiva em pacientes fund. incompleto: 13.03%\n"
          ]
        }
      ]
    },
    {
      "cell_type": "code",
      "source": [
        "proporcao_recidiva_3 = (df[(df['ESCOLARI'] == 3) & (df['REC'] == 1)].shape[0] / df[df['ESCOLARI'] == 3].shape[0])*100\n",
        "print(f\"Proporção de recidiva em pacientes fund. completo: {proporcao_recidiva_3:.2f}%\")"
      ],
      "metadata": {
        "id": "CoaKr90lVJeZ",
        "colab": {
          "base_uri": "https://localhost:8080/"
        },
        "outputId": "cca88379-7997-46a0-bc3d-b254ee1c9c01"
      },
      "execution_count": 58,
      "outputs": [
        {
          "output_type": "stream",
          "name": "stdout",
          "text": [
            "Proporção de recidiva em pacientes fund. completo: 10.94%\n"
          ]
        }
      ]
    },
    {
      "cell_type": "code",
      "source": [
        "proporcao_recidiva_4 = (df[(df['ESCOLARI'] == 4) & (df['REC'] == 1)].shape[0] / df[df['ESCOLARI'] == 4].shape[0])*100\n",
        "print(f\"Proporção de recidiva em pacientes com ensino médio: {proporcao_recidiva_4:.2f}%\")"
      ],
      "metadata": {
        "id": "ZiRdLNxiVPYC",
        "colab": {
          "base_uri": "https://localhost:8080/"
        },
        "outputId": "3fdec40f-ba30-4fdf-e114-9370b8bbc896"
      },
      "execution_count": 59,
      "outputs": [
        {
          "output_type": "stream",
          "name": "stdout",
          "text": [
            "Proporção de recidiva em pacientes com ensino médio: 12.13%\n"
          ]
        }
      ]
    },
    {
      "cell_type": "code",
      "source": [
        "proporcao_recidiva_5 = (df[(df['ESCOLARI'] == 5) & (df['REC'] == 1)].shape[0] / df[df['ESCOLARI'] == 5].shape[0])*100\n",
        "print(f\"Proporção de recidiva em pacientes com ensino superior: {proporcao_recidiva_5:.2f}%\")"
      ],
      "metadata": {
        "id": "LVM_u3bDVYmn",
        "colab": {
          "base_uri": "https://localhost:8080/"
        },
        "outputId": "c1b254e8-fe79-4cac-ada0-378fc22727c8"
      },
      "execution_count": 60,
      "outputs": [
        {
          "output_type": "stream",
          "name": "stdout",
          "text": [
            "Proporção de recidiva em pacientes com ensino superior: 8.86%\n"
          ]
        }
      ]
    },
    {
      "cell_type": "code",
      "source": [
        "proporcao_recidiva_9 = (df[(df['ESCOLARI'] == 9) & (df['REC'] == 1)].shape[0] / df[df['ESCOLARI'] == 9].shape[0])*100\n",
        "print(f\"Proporção de recidiva em pacientes com escolaridade ignorada: {proporcao_recidiva_9:.2f}%\")"
      ],
      "metadata": {
        "id": "I0tFWVU1VfNL",
        "colab": {
          "base_uri": "https://localhost:8080/"
        },
        "outputId": "73c2914b-e556-474d-cad5-46a48e468c90"
      },
      "execution_count": 61,
      "outputs": [
        {
          "output_type": "stream",
          "name": "stdout",
          "text": [
            "Proporção de recidiva em pacientes com escolaridade ignorada: 10.70%\n"
          ]
        }
      ]
    },
    {
      "cell_type": "markdown",
      "source": [
        "A maior proporção de recidivas parece acontecer em pacientes analfabetos e com ensino fundamentos incompleto. Isso pode estar associado a condições de renda e acesso a saúde que podem ser fatores de risco em relação ao câncer"
      ],
      "metadata": {
        "id": "yWKREw-OVo_L"
      }
    },
    {
      "cell_type": "markdown",
      "source": [
        "### Como os tipos de estadiamento se relacionam com a variável alvo?\n",
        "\n",
        "![image.png](data:image/png;base64,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)"
      ],
      "metadata": {
        "id": "wqMuLM6Onpfg"
      }
    },
    {
      "cell_type": "code",
      "source": [
        "df.ECGRUP.value_counts()"
      ],
      "metadata": {
        "id": "4XLAzH3cV3Ll",
        "colab": {
          "base_uri": "https://localhost:8080/"
        },
        "outputId": "42479580-2ed3-4c5c-a7e2-560afe5d0815"
      },
      "execution_count": 62,
      "outputs": [
        {
          "output_type": "execute_result",
          "data": {
            "text/plain": [
              "II     17517\n",
              "I      12517\n",
              "III    12452\n",
              "IV      5515\n",
              "0       4814\n",
              "X        914\n",
              "Y        488\n",
              "Name: ECGRUP, dtype: int64"
            ]
          },
          "metadata": {},
          "execution_count": 62
        }
      ]
    },
    {
      "cell_type": "markdown",
      "source": [
        "A maior parte dos pacientes está no estadiamente IA, onde existe um carcinoma in situ mas não existe metástase para linfonodos regionais ou a distância."
      ],
      "metadata": {
        "id": "IQy5FWgRWW0k"
      }
    },
    {
      "cell_type": "code",
      "source": [
        "estadiamento_recurrence_counts = df.groupby('ECGRUP')['REC'].sum().reset_index()\n",
        "\n",
        "plt.figure(figsize=(10, 6))\n",
        "sns.barplot(x='ECGRUP', y='REC', data=estadiamento_recurrence_counts)\n",
        "plt.title('Número de recidivas por estadiamento')\n",
        "plt.xlabel('ECGRUP')\n",
        "plt.ylabel('Número de recidivas')\n",
        "plt.show()"
      ],
      "metadata": {
        "id": "zIUMV8YdWhwq",
        "colab": {
          "base_uri": "https://localhost:8080/",
          "height": 565
        },
        "outputId": "16d4ddcd-96b9-4d38-b74f-4e1a3c9d72eb"
      },
      "execution_count": 63,
      "outputs": [
        {
          "output_type": "display_data",
          "data": {
            "text/plain": [
              "<Figure size 1000x600 with 1 Axes>"
            ],
            "image/png": "[encoded data removed]"
          },
          "metadata": {}
        }
      ]
    },
    {
      "cell_type": "markdown",
      "source": [
        "A maior parte dos pacientes que tiveram recidiva tinham tumores nos grupos de estadiamento III e IV."
      ],
      "metadata": {
        "id": "tT3iga3tXBZE"
      }
    },
    {
      "cell_type": "markdown",
      "source": [
        "### RRAS\n",
        "\n",
        "As RRAS são as Redes Regionais de Atenção à Saúde do Estado de São Paulo e servem para organizar o cuidado ao câncer no Estado. Ao todo existem 17 RRAS, sendo que a maior parte dos serviços oncológicos se localizam na cidade de São Paulo (RRAS06)."
      ],
      "metadata": {
        "id": "8LiuRj4tdScL"
      }
    },
    {
      "cell_type": "code",
      "source": [
        "df['RRAS'].value_counts()"
      ],
      "metadata": {
        "id": "d1gZQIi8d10p",
        "colab": {
          "base_uri": "https://localhost:8080/"
        },
        "outputId": "be78e8cf-bb5b-47ef-a5d7-6d8dafff2971"
      },
      "execution_count": 64,
      "outputs": [
        {
          "output_type": "execute_result",
          "data": {
            "text/plain": [
              "6     16179\n",
              "13     4557\n",
              "12     4115\n",
              "15     3725\n",
              "99     3085\n",
              "9      2873\n",
              "1      2684\n",
              "2      2443\n",
              "5      1948\n",
              "8      1939\n",
              "10     1828\n",
              "14     1792\n",
              "7      1740\n",
              "17     1552\n",
              "16     1408\n",
              "4      1105\n",
              "11      883\n",
              "3       361\n",
              "Name: RRAS, dtype: int64"
            ]
          },
          "metadata": {},
          "execution_count": 64
        }
      ]
    },
    {
      "cell_type": "markdown",
      "source": [
        "De fato, a maior parte dos registros se localiza na RRAS 06 que compreende o município de São Paulo, seguida pela RRAS 12 que compreende as regiões de Araçatuba e São José do Rio Preto."
      ],
      "metadata": {
        "id": "FmrQnrEBeBG7"
      }
    },
    {
      "cell_type": "code",
      "source": [
        "rras_recurrence_counts = df.groupby('RRAS')['REC'].mean().reset_index()\n",
        "\n",
        "# Criando o gráfico de barras\n",
        "plt.figure(figsize=(10, 6))\n",
        "sns.barplot(x='RRAS', y='REC', data=rras_recurrence_counts)\n",
        "plt.title('Proporção de recidivas por RRAS')\n",
        "plt.xlabel('RRAS')\n",
        "plt.ylabel('Proporção de recidivas (REC=1)')\n",
        "plt.ylim(0, 1)  # Define o limite do eixo Y para valores entre 0 e 1\n",
        "plt.show()"
      ],
      "metadata": {
        "id": "Q-0jb9fHeeNd",
        "colab": {
          "base_uri": "https://localhost:8080/",
          "height": 564
        },
        "outputId": "494b238a-5e13-41de-d820-3edccc84f1a8"
      },
      "execution_count": 65,
      "outputs": [
        {
          "output_type": "display_data",
          "data": {
            "text/plain": [
              "<Figure size 1000x600 with 1 Axes>"
            ],
            "image/png": "[encoded data removed]"
          },
          "metadata": {}
        }
      ]
    },
    {
      "cell_type": "markdown",
      "source": [
        "A média de recidivas é maior na RRAS 3, 4 e 5. É interessante salientar que até outubro de 2020 a RRAS 03\n",
        "e a RRAS 05, que é a região de saúde de Franco da Rocha e da rota dos bandeirantes, respectivamente, não possuiam nenhum serviço oncológico, o que ressalta a desigualdade de acesso a saúde no Estado de São Paulo. Já a RRAS04, que compreende 8 municípios da região de saúde 'Mananciais' possuia apenas 2 serviços oncológicos até 2020.\n",
        "\n",
        "Fontes: [Termo de Referência para a estruturação de Redes Regionais de Atenção à Saúde no Estado de São Paulo](http://saude.sp.gov.br/resources/ses/perfil/gestor/homepage/redes-regionais-de-atencao-a-saude-no-estado-de-sao-paulo/redes-regionais-de-atencao-a-saude-rras/termo_de_referencia_redes_regionais.pdf)\n",
        "\n",
        "[PLANO DE ATENÇÃO ONCOLÓGICA\n",
        "DO ESTADO DE SÃO PAULO](https://www.saude.sp.gov.br/resources/ses/perfil/gestor/documentos-de-planejamento-em-saude/plano_estadual_de_oncologia_do_estado_de_sao_paulo-2020.pdf)"
      ],
      "metadata": {
        "id": "nQn3y6jQfrP9"
      }
    },
    {
      "cell_type": "markdown",
      "source": [
        "### Qual o período médio entre o diagnóstico e a recidiva"
      ],
      "metadata": {
        "id": "dOhS-D1jnKRS"
      }
    },
    {
      "cell_type": "code",
      "source": [
        "df['DTRECIDIVA'].value_counts()"
      ],
      "metadata": {
        "id": "WPYbIueLq2h3",
        "colab": {
          "base_uri": "https://localhost:8080/"
        },
        "outputId": "5c247ac4-435b-4747-a606-99db9727b4d5"
      },
      "execution_count": 66,
      "outputs": [
        {
          "output_type": "execute_result",
          "data": {
            "text/plain": [
              "2018-08-01    13\n",
              "2018-01-15    11\n",
              "2020-03-16    11\n",
              "2021-02-02    11\n",
              "2019-08-16    10\n",
              "              ..\n",
              "2018-11-11     1\n",
              "2016-03-30     1\n",
              "2014-04-22     1\n",
              "2015-07-06     1\n",
              "2022-06-07     1\n",
              "Name: DTRECIDIVA, Length: 2161, dtype: int64"
            ]
          },
          "metadata": {},
          "execution_count": 66
        }
      ]
    },
    {
      "cell_type": "code",
      "source": [
        "df['DATEDIFF_DIAG_REC'] = np.where(df['RECNENHUM'] == 0, (df['DTRECIDIVA'] - df['DTDIAG']).dt.days, np.nan)"
      ],
      "metadata": {
        "id": "d6-vc5ZJtrKO"
      },
      "execution_count": 67,
      "outputs": []
    },
    {
      "cell_type": "code",
      "source": [
        "df[['ESCOLARI', 'IDADE', 'SEXO', 'RECNENHUM', 'DTDIAG', 'DTRECIDIVA', 'DATEDIFF_DIAG_REC']].loc[df['RECNENHUM']==0].head()"
      ],
      "metadata": {
        "id": "j1054vtpt7Jy",
        "colab": {
          "base_uri": "https://localhost:8080/",
          "height": 206
        },
        "outputId": "62214fc9-da08-4b23-ec15-6def9470f9c0"
      },
      "execution_count": 68,
      "outputs": [
        {
          "output_type": "execute_result",
          "data": {
            "text/plain": [
              "     ESCOLARI  IDADE  SEXO  RECNENHUM     DTDIAG DTRECIDIVA  DATEDIFF_DIAG_REC\n",
              "63          4     56     2          0 2018-06-04 2018-10-25              143.0\n",
              "88          9     69     2          0 2015-11-25 2016-08-15              264.0\n",
              "109         2     64     2          0 2014-04-24 2014-04-24                0.0\n",
              "215         4     44     2          0 2016-03-09 2019-02-04             1062.0\n",
              "259         2     54     2          0 2015-02-11 2020-01-30             1814.0"
            ],
            "text/html": [
              "\n",
              "  <div id=\"df-4333ef43-de5b-462d-867c-597252e6415c\" class=\"colab-df-container\">\n",
              "    <div>\n",
              "<style scoped>\n",
              "    .dataframe tbody tr th:only-of-type {\n",
              "        vertical-align: middle;\n",
              "    }\n",
              "\n",
              "    .dataframe tbody tr th {\n",
              "        vertical-align: top;\n",
              "    }\n",
              "\n",
              "    .dataframe thead th {\n",
              "        text-align: right;\n",
              "    }\n",
              "</style>\n",
              "<table border=\"1\" class=\"dataframe\">\n",
              "  <thead>\n",
              "    <tr style=\"text-align: right;\">\n",
              "      <th></th>\n",
              "      <th>ESCOLARI</th>\n",
              "      <th>IDADE</th>\n",
              "      <th>SEXO</th>\n",
              "      <th>RECNENHUM</th>\n",
              "      <th>DTDIAG</th>\n",
              "      <th>DTRECIDIVA</th>\n",
              "      <th>DATEDIFF_DIAG_REC</th>\n",
              "    </tr>\n",
              "  </thead>\n",
              "  <tbody>\n",
              "    <tr>\n",
              "      <th>63</th>\n",
              "      <td>4</td>\n",
              "      <td>56</td>\n",
              "      <td>2</td>\n",
              "      <td>0</td>\n",
              "      <td>2018-06-04</td>\n",
              "      <td>2018-10-25</td>\n",
              "      <td>143.0</td>\n",
              "    </tr>\n",
              "    <tr>\n",
              "      <th>88</th>\n",
              "      <td>9</td>\n",
              "      <td>69</td>\n",
              "      <td>2</td>\n",
              "      <td>0</td>\n",
              "      <td>2015-11-25</td>\n",
              "      <td>2016-08-15</td>\n",
              "      <td>264.0</td>\n",
              "    </tr>\n",
              "    <tr>\n",
              "      <th>109</th>\n",
              "      <td>2</td>\n",
              "      <td>64</td>\n",
              "      <td>2</td>\n",
              "      <td>0</td>\n",
              "      <td>2014-04-24</td>\n",
              "      <td>2014-04-24</td>\n",
              "      <td>0.0</td>\n",
              "    </tr>\n",
              "    <tr>\n",
              "      <th>215</th>\n",
              "      <td>4</td>\n",
              "      <td>44</td>\n",
              "      <td>2</td>\n",
              "      <td>0</td>\n",
              "      <td>2016-03-09</td>\n",
              "      <td>2019-02-04</td>\n",
              "      <td>1062.0</td>\n",
              "    </tr>\n",
              "    <tr>\n",
              "      <th>259</th>\n",
              "      <td>2</td>\n",
              "      <td>54</td>\n",
              "      <td>2</td>\n",
              "      <td>0</td>\n",
              "      <td>2015-02-11</td>\n",
              "      <td>2020-01-30</td>\n",
              "      <td>1814.0</td>\n",
              "    </tr>\n",
              "  </tbody>\n",
              "</table>\n",
              "</div>\n",
              "    <div class=\"colab-df-buttons\">\n",
              "\n",
              "  <div class=\"colab-df-container\">\n",
              "    <button class=\"colab-df-convert\" onclick=\"convertToInteractive('df-4333ef43-de5b-462d-867c-597252e6415c')\"\n",
              "            title=\"Convert this dataframe to an interactive table.\"\n",
              "            style=\"display:none;\">\n",
              "\n",
              "  <svg xmlns=\"http://www.w3.org/2000/svg\" height=\"24px\" viewBox=\"0 -960 960 960\">\n",
              "    <path d=\"M120-120v-720h720v720H120Zm60-500h600v-160H180v160Zm220 220h160v-160H400v160Zm0 220h160v-160H400v160ZM180-400h160v-160H180v160Zm440 0h160v-160H620v160ZM180-180h160v-160H180v160Zm440 0h160v-160H620v160Z\"/>\n",
              "  </svg>\n",
              "    </button>\n",
              "\n",
              "  <style>\n",
              "    .colab-df-container {\n",
              "      display:flex;\n",
              "      gap: 12px;\n",
              "    }\n",
              "\n",
              "    .colab-df-convert {\n",
              "      background-color: #E8F0FE;\n",
              "      border: none;\n",
              "      border-radius: 50%;\n",
              "      cursor: pointer;\n",
              "      display: none;\n",
              "      fill: #1967D2;\n",
              "      height: 32px;\n",
              "      padding: 0 0 0 0;\n",
              "      width: 32px;\n",
              "    }\n",
              "\n",
              "    .colab-df-convert:hover {\n",
              "      background-color: #E2EBFA;\n",
              "      box-shadow: 0px 1px 2px rgba(60, 64, 67, 0.3), 0px 1px 3px 1px rgba(60, 64, 67, 0.15);\n",
              "      fill: #174EA6;\n",
              "    }\n",
              "\n",
              "    .colab-df-buttons div {\n",
              "      margin-bottom: 4px;\n",
              "    }\n",
              "\n",
              "    [theme=dark] .colab-df-convert {\n",
              "      background-color: #3B4455;\n",
              "      fill: #D2E3FC;\n",
              "    }\n",
              "\n",
              "    [theme=dark] .colab-df-convert:hover {\n",
              "      background-color: #434B5C;\n",
              "      box-shadow: 0px 1px 3px 1px rgba(0, 0, 0, 0.15);\n",
              "      filter: drop-shadow(0px 1px 2px rgba(0, 0, 0, 0.3));\n",
              "      fill: #FFFFFF;\n",
              "    }\n",
              "  </style>\n",
              "\n",
              "    <script>\n",
              "      const buttonEl =\n",
              "        document.querySelector('#df-4333ef43-de5b-462d-867c-597252e6415c button.colab-df-convert');\n",
              "      buttonEl.style.display =\n",
              "        google.colab.kernel.accessAllowed ? 'block' : 'none';\n",
              "\n",
              "      async function convertToInteractive(key) {\n",
              "        const element = document.querySelector('#df-4333ef43-de5b-462d-867c-597252e6415c');\n",
              "        const dataTable =\n",
              "          await google.colab.kernel.invokeFunction('convertToInteractive',\n",
              "                                                    [key], {});\n",
              "        if (!dataTable) return;\n",
              "\n",
              "        const docLinkHtml = 'Like what you see? Visit the ' +\n",
              "          '<a target=\"_blank\" href=https://colab.research.google.com/notebooks/data_table.ipynb>data table notebook</a>'\n",
              "          + ' to learn more about interactive tables.';\n",
              "        element.innerHTML = '';\n",
              "        dataTable['output_type'] = 'display_data';\n",
              "        await google.colab.output.renderOutput(dataTable, element);\n",
              "        const docLink = document.createElement('div');\n",
              "        docLink.innerHTML = docLinkHtml;\n",
              "        element.appendChild(docLink);\n",
              "      }\n",
              "    </script>\n",
              "  </div>\n",
              "\n",
              "\n",
              "<div id=\"df-4cb012e7-aebf-4f65-b080-1932d30a6c1a\">\n",
              "  <button class=\"colab-df-quickchart\" onclick=\"quickchart('df-4cb012e7-aebf-4f65-b080-1932d30a6c1a')\"\n",
              "            title=\"Suggest charts.\"\n",
              "            style=\"display:none;\">\n",
              "\n",
              "<svg xmlns=\"http://www.w3.org/2000/svg\" height=\"24px\"viewBox=\"0 0 24 24\"\n",
              "     width=\"24px\">\n",
              "    <g>\n",
              "        <path d=\"M19 3H5c-1.1 0-2 .9-2 2v14c0 1.1.9 2 2 2h14c1.1 0 2-.9 2-2V5c0-1.1-.9-2-2-2zM9 17H7v-7h2v7zm4 0h-2V7h2v10zm4 0h-2v-4h2v4z\"/>\n",
              "    </g>\n",
              "</svg>\n",
              "  </button>\n",
              "\n",
              "<style>\n",
              "  .colab-df-quickchart {\n",
              "    background-color: #E8F0FE;\n",
              "    border: none;\n",
              "    border-radius: 50%;\n",
              "    cursor: pointer;\n",
              "    display: none;\n",
              "    fill: #1967D2;\n",
              "    height: 32px;\n",
              "    padding: 0 0 0 0;\n",
              "    width: 32px;\n",
              "  }\n",
              "\n",
              "  .colab-df-quickchart:hover {\n",
              "    background-color: #E2EBFA;\n",
              "    box-shadow: 0px 1px 2px rgba(60, 64, 67, 0.3), 0px 1px 3px 1px rgba(60, 64, 67, 0.15);\n",
              "    fill: #174EA6;\n",
              "  }\n",
              "\n",
              "  [theme=dark] .colab-df-quickchart {\n",
              "    background-color: #3B4455;\n",
              "    fill: #D2E3FC;\n",
              "  }\n",
              "\n",
              "  [theme=dark] .colab-df-quickchart:hover {\n",
              "    background-color: #434B5C;\n",
              "    box-shadow: 0px 1px 3px 1px rgba(0, 0, 0, 0.15);\n",
              "    filter: drop-shadow(0px 1px 2px rgba(0, 0, 0, 0.3));\n",
              "    fill: #FFFFFF;\n",
              "  }\n",
              "</style>\n",
              "\n",
              "  <script>\n",
              "    async function quickchart(key) {\n",
              "      const charts = await google.colab.kernel.invokeFunction(\n",
              "          'suggestCharts', [key], {});\n",
              "    }\n",
              "    (() => {\n",
              "      let quickchartButtonEl =\n",
              "        document.querySelector('#df-4cb012e7-aebf-4f65-b080-1932d30a6c1a button');\n",
              "      quickchartButtonEl.style.display =\n",
              "        google.colab.kernel.accessAllowed ? 'block' : 'none';\n",
              "    })();\n",
              "  </script>\n",
              "</div>\n",
              "    </div>\n",
              "  </div>\n"
            ]
          },
          "metadata": {},
          "execution_count": 68
        }
      ]
    },
    {
      "cell_type": "code",
      "source": [
        "df[['ESCOLARI', 'IDADE', 'SEXO', 'RECNENHUM', 'DTDIAG', 'DTRECIDIVA', 'DATEDIFF_DIAG_REC']].loc[df['RECNENHUM']==0].tail()"
      ],
      "metadata": {
        "id": "_vlHEoilt_BU",
        "colab": {
          "base_uri": "https://localhost:8080/",
          "height": 206
        },
        "outputId": "5d4e8714-65ea-4ff2-adc6-7c54a564b6eb"
      },
      "execution_count": 69,
      "outputs": [
        {
          "output_type": "execute_result",
          "data": {
            "text/plain": [
              "       ESCOLARI  IDADE  SEXO  RECNENHUM     DTDIAG DTRECIDIVA  \\\n",
              "54182         4     67     2          0 2018-05-16 2022-06-07   \n",
              "54185         4     46     2          0 2018-03-27 2022-03-21   \n",
              "54199         5     74     2          0 2016-07-28 2021-06-22   \n",
              "54212         2     33     2          0 2019-07-17 2020-04-27   \n",
              "54213         3     65     2          0 2019-01-09 2019-07-05   \n",
              "\n",
              "       DATEDIFF_DIAG_REC  \n",
              "54182             1483.0  \n",
              "54185             1455.0  \n",
              "54199             1790.0  \n",
              "54212              285.0  \n",
              "54213              177.0  "
            ],
            "text/html": [
              "\n",
              "  <div id=\"df-e7f595b0-3dd7-4d9c-9197-34640ab92645\" class=\"colab-df-container\">\n",
              "    <div>\n",
              "<style scoped>\n",
              "    .dataframe tbody tr th:only-of-type {\n",
              "        vertical-align: middle;\n",
              "    }\n",
              "\n",
              "    .dataframe tbody tr th {\n",
              "        vertical-align: top;\n",
              "    }\n",
              "\n",
              "    .dataframe thead th {\n",
              "        text-align: right;\n",
              "    }\n",
              "</style>\n",
              "<table border=\"1\" class=\"dataframe\">\n",
              "  <thead>\n",
              "    <tr style=\"text-align: right;\">\n",
              "      <th></th>\n",
              "      <th>ESCOLARI</th>\n",
              "      <th>IDADE</th>\n",
              "      <th>SEXO</th>\n",
              "      <th>RECNENHUM</th>\n",
              "      <th>DTDIAG</th>\n",
              "      <th>DTRECIDIVA</th>\n",
              "      <th>DATEDIFF_DIAG_REC</th>\n",
              "    </tr>\n",
              "  </thead>\n",
              "  <tbody>\n",
              "    <tr>\n",
              "      <th>54182</th>\n",
              "      <td>4</td>\n",
              "      <td>67</td>\n",
              "      <td>2</td>\n",
              "      <td>0</td>\n",
              "      <td>2018-05-16</td>\n",
              "      <td>2022-06-07</td>\n",
              "      <td>1483.0</td>\n",
              "    </tr>\n",
              "    <tr>\n",
              "      <th>54185</th>\n",
              "      <td>4</td>\n",
              "      <td>46</td>\n",
              "      <td>2</td>\n",
              "      <td>0</td>\n",
              "      <td>2018-03-27</td>\n",
              "      <td>2022-03-21</td>\n",
              "      <td>1455.0</td>\n",
              "    </tr>\n",
              "    <tr>\n",
              "      <th>54199</th>\n",
              "      <td>5</td>\n",
              "      <td>74</td>\n",
              "      <td>2</td>\n",
              "      <td>0</td>\n",
              "      <td>2016-07-28</td>\n",
              "      <td>2021-06-22</td>\n",
              "      <td>1790.0</td>\n",
              "    </tr>\n",
              "    <tr>\n",
              "      <th>54212</th>\n",
              "      <td>2</td>\n",
              "      <td>33</td>\n",
              "      <td>2</td>\n",
              "      <td>0</td>\n",
              "      <td>2019-07-17</td>\n",
              "      <td>2020-04-27</td>\n",
              "      <td>285.0</td>\n",
              "    </tr>\n",
              "    <tr>\n",
              "      <th>54213</th>\n",
              "      <td>3</td>\n",
              "      <td>65</td>\n",
              "      <td>2</td>\n",
              "      <td>0</td>\n",
              "      <td>2019-01-09</td>\n",
              "      <td>2019-07-05</td>\n",
              "      <td>177.0</td>\n",
              "    </tr>\n",
              "  </tbody>\n",
              "</table>\n",
              "</div>\n",
              "    <div class=\"colab-df-buttons\">\n",
              "\n",
              "  <div class=\"colab-df-container\">\n",
              "    <button class=\"colab-df-convert\" onclick=\"convertToInteractive('df-e7f595b0-3dd7-4d9c-9197-34640ab92645')\"\n",
              "            title=\"Convert this dataframe to an interactive table.\"\n",
              "            style=\"display:none;\">\n",
              "\n",
              "  <svg xmlns=\"http://www.w3.org/2000/svg\" height=\"24px\" viewBox=\"0 -960 960 960\">\n",
              "    <path d=\"M120-120v-720h720v720H120Zm60-500h600v-160H180v160Zm220 220h160v-160H400v160Zm0 220h160v-160H400v160ZM180-400h160v-160H180v160Zm440 0h160v-160H620v160ZM180-180h160v-160H180v160Zm440 0h160v-160H620v160Z\"/>\n",
              "  </svg>\n",
              "    </button>\n",
              "\n",
              "  <style>\n",
              "    .colab-df-container {\n",
              "      display:flex;\n",
              "      gap: 12px;\n",
              "    }\n",
              "\n",
              "    .colab-df-convert {\n",
              "      background-color: #E8F0FE;\n",
              "      border: none;\n",
              "      border-radius: 50%;\n",
              "      cursor: pointer;\n",
              "      display: none;\n",
              "      fill: #1967D2;\n",
              "      height: 32px;\n",
              "      padding: 0 0 0 0;\n",
              "      width: 32px;\n",
              "    }\n",
              "\n",
              "    .colab-df-convert:hover {\n",
              "      background-color: #E2EBFA;\n",
              "      box-shadow: 0px 1px 2px rgba(60, 64, 67, 0.3), 0px 1px 3px 1px rgba(60, 64, 67, 0.15);\n",
              "      fill: #174EA6;\n",
              "    }\n",
              "\n",
              "    .colab-df-buttons div {\n",
              "      margin-bottom: 4px;\n",
              "    }\n",
              "\n",
              "    [theme=dark] .colab-df-convert {\n",
              "      background-color: #3B4455;\n",
              "      fill: #D2E3FC;\n",
              "    }\n",
              "\n",
              "    [theme=dark] .colab-df-convert:hover {\n",
              "      background-color: #434B5C;\n",
              "      box-shadow: 0px 1px 3px 1px rgba(0, 0, 0, 0.15);\n",
              "      filter: drop-shadow(0px 1px 2px rgba(0, 0, 0, 0.3));\n",
              "      fill: #FFFFFF;\n",
              "    }\n",
              "  </style>\n",
              "\n",
              "    <script>\n",
              "      const buttonEl =\n",
              "        document.querySelector('#df-e7f595b0-3dd7-4d9c-9197-34640ab92645 button.colab-df-convert');\n",
              "      buttonEl.style.display =\n",
              "        google.colab.kernel.accessAllowed ? 'block' : 'none';\n",
              "\n",
              "      async function convertToInteractive(key) {\n",
              "        const element = document.querySelector('#df-e7f595b0-3dd7-4d9c-9197-34640ab92645');\n",
              "        const dataTable =\n",
              "          await google.colab.kernel.invokeFunction('convertToInteractive',\n",
              "                                                    [key], {});\n",
              "        if (!dataTable) return;\n",
              "\n",
              "        const docLinkHtml = 'Like what you see? Visit the ' +\n",
              "          '<a target=\"_blank\" href=https://colab.research.google.com/notebooks/data_table.ipynb>data table notebook</a>'\n",
              "          + ' to learn more about interactive tables.';\n",
              "        element.innerHTML = '';\n",
              "        dataTable['output_type'] = 'display_data';\n",
              "        await google.colab.output.renderOutput(dataTable, element);\n",
              "        const docLink = document.createElement('div');\n",
              "        docLink.innerHTML = docLinkHtml;\n",
              "        element.appendChild(docLink);\n",
              "      }\n",
              "    </script>\n",
              "  </div>\n",
              "\n",
              "\n",
              "<div id=\"df-8a7454c8-a66a-4c75-85f9-8cf85f639100\">\n",
              "  <button class=\"colab-df-quickchart\" onclick=\"quickchart('df-8a7454c8-a66a-4c75-85f9-8cf85f639100')\"\n",
              "            title=\"Suggest charts.\"\n",
              "            style=\"display:none;\">\n",
              "\n",
              "<svg xmlns=\"http://www.w3.org/2000/svg\" height=\"24px\"viewBox=\"0 0 24 24\"\n",
              "     width=\"24px\">\n",
              "    <g>\n",
              "        <path d=\"M19 3H5c-1.1 0-2 .9-2 2v14c0 1.1.9 2 2 2h14c1.1 0 2-.9 2-2V5c0-1.1-.9-2-2-2zM9 17H7v-7h2v7zm4 0h-2V7h2v10zm4 0h-2v-4h2v4z\"/>\n",
              "    </g>\n",
              "</svg>\n",
              "  </button>\n",
              "\n",
              "<style>\n",
              "  .colab-df-quickchart {\n",
              "    background-color: #E8F0FE;\n",
              "    border: none;\n",
              "    border-radius: 50%;\n",
              "    cursor: pointer;\n",
              "    display: none;\n",
              "    fill: #1967D2;\n",
              "    height: 32px;\n",
              "    padding: 0 0 0 0;\n",
              "    width: 32px;\n",
              "  }\n",
              "\n",
              "  .colab-df-quickchart:hover {\n",
              "    background-color: #E2EBFA;\n",
              "    box-shadow: 0px 1px 2px rgba(60, 64, 67, 0.3), 0px 1px 3px 1px rgba(60, 64, 67, 0.15);\n",
              "    fill: #174EA6;\n",
              "  }\n",
              "\n",
              "  [theme=dark] .colab-df-quickchart {\n",
              "    background-color: #3B4455;\n",
              "    fill: #D2E3FC;\n",
              "  }\n",
              "\n",
              "  [theme=dark] .colab-df-quickchart:hover {\n",
              "    background-color: #434B5C;\n",
              "    box-shadow: 0px 1px 3px 1px rgba(0, 0, 0, 0.15);\n",
              "    filter: drop-shadow(0px 1px 2px rgba(0, 0, 0, 0.3));\n",
              "    fill: #FFFFFF;\n",
              "  }\n",
              "</style>\n",
              "\n",
              "  <script>\n",
              "    async function quickchart(key) {\n",
              "      const charts = await google.colab.kernel.invokeFunction(\n",
              "          'suggestCharts', [key], {});\n",
              "    }\n",
              "    (() => {\n",
              "      let quickchartButtonEl =\n",
              "        document.querySelector('#df-8a7454c8-a66a-4c75-85f9-8cf85f639100 button');\n",
              "      quickchartButtonEl.style.display =\n",
              "        google.colab.kernel.accessAllowed ? 'block' : 'none';\n",
              "    })();\n",
              "  </script>\n",
              "</div>\n",
              "    </div>\n",
              "  </div>\n"
            ]
          },
          "metadata": {},
          "execution_count": 69
        }
      ]
    },
    {
      "cell_type": "markdown",
      "source": [
        "Em alguns dados a data de recidiva está menor do que a data do diagnóstico. Provavelmente são erros no preenchimento dos dados (?)"
      ],
      "metadata": {
        "id": "h_MBXr1Mcp1x"
      }
    },
    {
      "cell_type": "code",
      "source": [
        "df['DATEDIFF_DIAG_REC'].loc[df['DATEDIFF_DIAG_REC']<0].describe()"
      ],
      "metadata": {
        "id": "TYLcVPvRvy5q",
        "colab": {
          "base_uri": "https://localhost:8080/"
        },
        "outputId": "ae4bf009-46ab-47e8-8ce8-960748ae876d"
      },
      "execution_count": 70,
      "outputs": [
        {
          "output_type": "execute_result",
          "data": {
            "text/plain": [
              "count      14.000000\n",
              "mean     -253.071429\n",
              "std       446.631747\n",
              "min     -1339.000000\n",
              "25%      -143.000000\n",
              "50%       -63.500000\n",
              "75%       -13.250000\n",
              "max        -3.000000\n",
              "Name: DATEDIFF_DIAG_REC, dtype: float64"
            ]
          },
          "metadata": {},
          "execution_count": 70
        }
      ]
    },
    {
      "cell_type": "code",
      "source": [
        "df['DATEDIFF_DIAG_REC'].loc[df['DATEDIFF_DIAG_REC']>0].describe()"
      ],
      "metadata": {
        "id": "wu9nTl2-upwe",
        "colab": {
          "base_uri": "https://localhost:8080/"
        },
        "outputId": "2a495af5-daf3-4107-aff1-df44a7e5fd4a"
      },
      "execution_count": 71,
      "outputs": [
        {
          "output_type": "execute_result",
          "data": {
            "text/plain": [
              "count    6100.000000\n",
              "mean      859.808525\n",
              "std       582.607686\n",
              "min         1.000000\n",
              "25%       427.000000\n",
              "50%       735.500000\n",
              "75%      1163.250000\n",
              "max      3263.000000\n",
              "Name: DATEDIFF_DIAG_REC, dtype: float64"
            ]
          },
          "metadata": {},
          "execution_count": 71
        }
      ]
    },
    {
      "cell_type": "code",
      "source": [
        "sns.histplot(df['DATEDIFF_DIAG_REC'].loc[df['DATEDIFF_DIAG_REC']>0], color='pink')"
      ],
      "metadata": {
        "id": "qLhIEu47vjyw",
        "colab": {
          "base_uri": "https://localhost:8080/",
          "height": 466
        },
        "outputId": "8a57fbd0-6029-44b0-b4f5-610f69cbd7c4"
      },
      "execution_count": 72,
      "outputs": [
        {
          "output_type": "execute_result",
          "data": {
            "text/plain": [
              "<Axes: xlabel='DATEDIFF_DIAG_REC', ylabel='Count'>"
            ]
          },
          "metadata": {},
          "execution_count": 72
        },
        {
          "output_type": "display_data",
          "data": {
            "text/plain": [
              "<Figure size 640x480 with 1 Axes>"
            ],
            "image/png": "[encoded data removed]"
          },
          "metadata": {}
        }
      ]
    },
    {
      "cell_type": "markdown",
      "source": [
        "Mesmo com os outliers, é possível verificar que a mediana do tempo entre o diagnóstico e a última recidiva é de cerca de 500 dias após o diagnóstico, podendo chegar a mais de 1500 dias (cerca de 4 anos). A distribuição é bastante direcionada para a direita."
      ],
      "metadata": {
        "id": "0S5CEUR1wKFP"
      }
    },
    {
      "cell_type": "markdown",
      "source": [
        "## Pré-processamento"
      ],
      "metadata": {
        "id": "nLt0cQLRqybk"
      }
    },
    {
      "cell_type": "markdown",
      "source": [
        "### Retirando dados onde a data do diagnóstico é menor do que a data da recidiva"
      ],
      "metadata": {
        "id": "2nE6S86Msa72"
      }
    },
    {
      "cell_type": "code",
      "source": [
        "df.head()"
      ],
      "metadata": {
        "id": "l4S5DAwR0j3d",
        "colab": {
          "base_uri": "https://localhost:8080/",
          "height": 531
        },
        "outputId": "77e8c522-4e79-4bd7-a601-9e28873a8447"
      },
      "execution_count": 73,
      "outputs": [
        {
          "output_type": "execute_result",
          "data": {
            "text/plain": [
              "   ESCOLARI  IDADE  SEXO UFNASC UFRESID     IBGE  \\\n",
              "0         9     38     2     SP      SP  3543402   \n",
              "1         9     46     2     MG      SP  3524402   \n",
              "2         9     45     2     SP      SP  3548500   \n",
              "3         9     43     2     SP      SP  3543402   \n",
              "4         5     67     2     SP      SP  3548500   \n",
              "\n",
              "                                              CIDADE  CATEATEND  DTCONSULT  \\\n",
              "0  RIBEIRAO PRETO                                ...          2 2017-12-06   \n",
              "1  JACAREI                                       ...          2 2017-10-06   \n",
              "2  SANTOS                                        ...          2 2019-03-20   \n",
              "3  RIBEIRAO PRETO                                ...          2 2019-02-12   \n",
              "4  SANTOS                                        ...          1 2019-07-02   \n",
              "\n",
              "   CLINICA  ...  REC04 IBGEATEN   CIDO  \\\n",
              "0       24  ...         3543402  80001   \n",
              "1       33  ...         3524402  80001   \n",
              "2       24  ...         3548500  80001   \n",
              "3       24  ...         3543402  80001   \n",
              "4       31  ...         3548500  80001   \n",
              "\n",
              "                                             DSCCIDO HABILIT  \\\n",
              "0  NEOPLASIA DE COMPORTAMENTO INCERTO SE BENIGNO ...       1   \n",
              "1  NEOPLASIA DE COMPORTAMENTO INCERTO SE BENIGNO ...       1   \n",
              "2  NEOPLASIA DE COMPORTAMENTO INCERTO SE BENIGNO ...       2   \n",
              "3  NEOPLASIA DE COMPORTAMENTO INCERTO SE BENIGNO ...       1   \n",
              "4  NEOPLASIA DE COMPORTAMENTO INCERTO SE BENIGNO ...       2   \n",
              "\n",
              "                                             HABIT11  HABILIT1 HABILIT2 REC  \\\n",
              "0  UNACON                                        ...         1        1   0   \n",
              "1  UNACON                                        ...         1        1   0   \n",
              "2  UNACON com Servio de Radioterapia            ...         1        1   0   \n",
              "3  UNACON                                        ...         1        1   0   \n",
              "4  UNACON com Servio de Radioterapia            ...         1        1   0   \n",
              "\n",
              "  DATEDIFF_DIAG_REC  \n",
              "0               NaN  \n",
              "1               NaN  \n",
              "2               NaN  \n",
              "3               NaN  \n",
              "4               NaN  \n",
              "\n",
              "[5 rows x 101 columns]"
            ],
            "text/html": [
              "\n",
              "  <div id=\"df-52e3c58a-1f2e-471e-b6be-f5c7a5c1b25a\" class=\"colab-df-container\">\n",
              "    <div>\n",
              "<style scoped>\n",
              "    .dataframe tbody tr th:only-of-type {\n",
              "        vertical-align: middle;\n",
              "    }\n",
              "\n",
              "    .dataframe tbody tr th {\n",
              "        vertical-align: top;\n",
              "    }\n",
              "\n",
              "    .dataframe thead th {\n",
              "        text-align: right;\n",
              "    }\n",
              "</style>\n",
              "<table border=\"1\" class=\"dataframe\">\n",
              "  <thead>\n",
              "    <tr style=\"text-align: right;\">\n",
              "      <th></th>\n",
              "      <th>ESCOLARI</th>\n",
              "      <th>IDADE</th>\n",
              "      <th>SEXO</th>\n",
              "      <th>UFNASC</th>\n",
              "      <th>UFRESID</th>\n",
              "      <th>IBGE</th>\n",
              "      <th>CIDADE</th>\n",
              "      <th>CATEATEND</th>\n",
              "      <th>DTCONSULT</th>\n",
              "      <th>CLINICA</th>\n",
              "      <th>...</th>\n",
              "      <th>REC04</th>\n",
              "      <th>IBGEATEN</th>\n",
              "      <th>CIDO</th>\n",
              "      <th>DSCCIDO</th>\n",
              "      <th>HABILIT</th>\n",
              "      <th>HABIT11</th>\n",
              "      <th>HABILIT1</th>\n",
              "      <th>HABILIT2</th>\n",
              "      <th>REC</th>\n",
              "      <th>DATEDIFF_DIAG_REC</th>\n",
              "    </tr>\n",
              "  </thead>\n",
              "  <tbody>\n",
              "    <tr>\n",
              "      <th>0</th>\n",
              "      <td>9</td>\n",
              "      <td>38</td>\n",
              "      <td>2</td>\n",
              "      <td>SP</td>\n",
              "      <td>SP</td>\n",
              "      <td>3543402</td>\n",
              "      <td>RIBEIRAO PRETO                                ...</td>\n",
              "      <td>2</td>\n",
              "      <td>2017-12-06</td>\n",
              "      <td>24</td>\n",
              "      <td>...</td>\n",
              "      <td></td>\n",
              "      <td>3543402</td>\n",
              "      <td>80001</td>\n",
              "      <td>NEOPLASIA DE COMPORTAMENTO INCERTO SE BENIGNO ...</td>\n",
              "      <td>1</td>\n",
              "      <td>UNACON                                        ...</td>\n",
              "      <td>1</td>\n",
              "      <td>1</td>\n",
              "      <td>0</td>\n",
              "      <td>NaN</td>\n",
              "    </tr>\n",
              "    <tr>\n",
              "      <th>1</th>\n",
              "      <td>9</td>\n",
              "      <td>46</td>\n",
              "      <td>2</td>\n",
              "      <td>MG</td>\n",
              "      <td>SP</td>\n",
              "      <td>3524402</td>\n",
              "      <td>JACAREI                                       ...</td>\n",
              "      <td>2</td>\n",
              "      <td>2017-10-06</td>\n",
              "      <td>33</td>\n",
              "      <td>...</td>\n",
              "      <td></td>\n",
              "      <td>3524402</td>\n",
              "      <td>80001</td>\n",
              "      <td>NEOPLASIA DE COMPORTAMENTO INCERTO SE BENIGNO ...</td>\n",
              "      <td>1</td>\n",
              "      <td>UNACON                                        ...</td>\n",
              "      <td>1</td>\n",
              "      <td>1</td>\n",
              "      <td>0</td>\n",
              "      <td>NaN</td>\n",
              "    </tr>\n",
              "    <tr>\n",
              "      <th>2</th>\n",
              "      <td>9</td>\n",
              "      <td>45</td>\n",
              "      <td>2</td>\n",
              "      <td>SP</td>\n",
              "      <td>SP</td>\n",
              "      <td>3548500</td>\n",
              "      <td>SANTOS                                        ...</td>\n",
              "      <td>2</td>\n",
              "      <td>2019-03-20</td>\n",
              "      <td>24</td>\n",
              "      <td>...</td>\n",
              "      <td></td>\n",
              "      <td>3548500</td>\n",
              "      <td>80001</td>\n",
              "      <td>NEOPLASIA DE COMPORTAMENTO INCERTO SE BENIGNO ...</td>\n",
              "      <td>2</td>\n",
              "      <td>UNACON com Servio de Radioterapia            ...</td>\n",
              "      <td>1</td>\n",
              "      <td>1</td>\n",
              "      <td>0</td>\n",
              "      <td>NaN</td>\n",
              "    </tr>\n",
              "    <tr>\n",
              "      <th>3</th>\n",
              "      <td>9</td>\n",
              "      <td>43</td>\n",
              "      <td>2</td>\n",
              "      <td>SP</td>\n",
              "      <td>SP</td>\n",
              "      <td>3543402</td>\n",
              "      <td>RIBEIRAO PRETO                                ...</td>\n",
              "      <td>2</td>\n",
              "      <td>2019-02-12</td>\n",
              "      <td>24</td>\n",
              "      <td>...</td>\n",
              "      <td></td>\n",
              "      <td>3543402</td>\n",
              "      <td>80001</td>\n",
              "      <td>NEOPLASIA DE COMPORTAMENTO INCERTO SE BENIGNO ...</td>\n",
              "      <td>1</td>\n",
              "      <td>UNACON                                        ...</td>\n",
              "      <td>1</td>\n",
              "      <td>1</td>\n",
              "      <td>0</td>\n",
              "      <td>NaN</td>\n",
              "    </tr>\n",
              "    <tr>\n",
              "      <th>4</th>\n",
              "      <td>5</td>\n",
              "      <td>67</td>\n",
              "      <td>2</td>\n",
              "      <td>SP</td>\n",
              "      <td>SP</td>\n",
              "      <td>3548500</td>\n",
              "      <td>SANTOS                                        ...</td>\n",
              "      <td>1</td>\n",
              "      <td>2019-07-02</td>\n",
              "      <td>31</td>\n",
              "      <td>...</td>\n",
              "      <td></td>\n",
              "      <td>3548500</td>\n",
              "      <td>80001</td>\n",
              "      <td>NEOPLASIA DE COMPORTAMENTO INCERTO SE BENIGNO ...</td>\n",
              "      <td>2</td>\n",
              "      <td>UNACON com Servio de Radioterapia            ...</td>\n",
              "      <td>1</td>\n",
              "      <td>1</td>\n",
              "      <td>0</td>\n",
              "      <td>NaN</td>\n",
              "    </tr>\n",
              "  </tbody>\n",
              "</table>\n",
              "<p>5 rows × 101 columns</p>\n",
              "</div>\n",
              "    <div class=\"colab-df-buttons\">\n",
              "\n",
              "  <div class=\"colab-df-container\">\n",
              "    <button class=\"colab-df-convert\" onclick=\"convertToInteractive('df-52e3c58a-1f2e-471e-b6be-f5c7a5c1b25a')\"\n",
              "            title=\"Convert this dataframe to an interactive table.\"\n",
              "            style=\"display:none;\">\n",
              "\n",
              "  <svg xmlns=\"http://www.w3.org/2000/svg\" height=\"24px\" viewBox=\"0 -960 960 960\">\n",
              "    <path d=\"M120-120v-720h720v720H120Zm60-500h600v-160H180v160Zm220 220h160v-160H400v160Zm0 220h160v-160H400v160ZM180-400h160v-160H180v160Zm440 0h160v-160H620v160ZM180-180h160v-160H180v160Zm440 0h160v-160H620v160Z\"/>\n",
              "  </svg>\n",
              "    </button>\n",
              "\n",
              "  <style>\n",
              "    .colab-df-container {\n",
              "      display:flex;\n",
              "      gap: 12px;\n",
              "    }\n",
              "\n",
              "    .colab-df-convert {\n",
              "      background-color: #E8F0FE;\n",
              "      border: none;\n",
              "      border-radius: 50%;\n",
              "      cursor: pointer;\n",
              "      display: none;\n",
              "      fill: #1967D2;\n",
              "      height: 32px;\n",
              "      padding: 0 0 0 0;\n",
              "      width: 32px;\n",
              "    }\n",
              "\n",
              "    .colab-df-convert:hover {\n",
              "      background-color: #E2EBFA;\n",
              "      box-shadow: 0px 1px 2px rgba(60, 64, 67, 0.3), 0px 1px 3px 1px rgba(60, 64, 67, 0.15);\n",
              "      fill: #174EA6;\n",
              "    }\n",
              "\n",
              "    .colab-df-buttons div {\n",
              "      margin-bottom: 4px;\n",
              "    }\n",
              "\n",
              "    [theme=dark] .colab-df-convert {\n",
              "      background-color: #3B4455;\n",
              "      fill: #D2E3FC;\n",
              "    }\n",
              "\n",
              "    [theme=dark] .colab-df-convert:hover {\n",
              "      background-color: #434B5C;\n",
              "      box-shadow: 0px 1px 3px 1px rgba(0, 0, 0, 0.15);\n",
              "      filter: drop-shadow(0px 1px 2px rgba(0, 0, 0, 0.3));\n",
              "      fill: #FFFFFF;\n",
              "    }\n",
              "  </style>\n",
              "\n",
              "    <script>\n",
              "      const buttonEl =\n",
              "        document.querySelector('#df-52e3c58a-1f2e-471e-b6be-f5c7a5c1b25a button.colab-df-convert');\n",
              "      buttonEl.style.display =\n",
              "        google.colab.kernel.accessAllowed ? 'block' : 'none';\n",
              "\n",
              "      async function convertToInteractive(key) {\n",
              "        const element = document.querySelector('#df-52e3c58a-1f2e-471e-b6be-f5c7a5c1b25a');\n",
              "        const dataTable =\n",
              "          await google.colab.kernel.invokeFunction('convertToInteractive',\n",
              "                                                    [key], {});\n",
              "        if (!dataTable) return;\n",
              "\n",
              "        const docLinkHtml = 'Like what you see? Visit the ' +\n",
              "          '<a target=\"_blank\" href=https://colab.research.google.com/notebooks/data_table.ipynb>data table notebook</a>'\n",
              "          + ' to learn more about interactive tables.';\n",
              "        element.innerHTML = '';\n",
              "        dataTable['output_type'] = 'display_data';\n",
              "        await google.colab.output.renderOutput(dataTable, element);\n",
              "        const docLink = document.createElement('div');\n",
              "        docLink.innerHTML = docLinkHtml;\n",
              "        element.appendChild(docLink);\n",
              "      }\n",
              "    </script>\n",
              "  </div>\n",
              "\n",
              "\n",
              "<div id=\"df-d74ac89a-9894-4c05-8b06-82f136413df6\">\n",
              "  <button class=\"colab-df-quickchart\" onclick=\"quickchart('df-d74ac89a-9894-4c05-8b06-82f136413df6')\"\n",
              "            title=\"Suggest charts.\"\n",
              "            style=\"display:none;\">\n",
              "\n",
              "<svg xmlns=\"http://www.w3.org/2000/svg\" height=\"24px\"viewBox=\"0 0 24 24\"\n",
              "     width=\"24px\">\n",
              "    <g>\n",
              "        <path d=\"M19 3H5c-1.1 0-2 .9-2 2v14c0 1.1.9 2 2 2h14c1.1 0 2-.9 2-2V5c0-1.1-.9-2-2-2zM9 17H7v-7h2v7zm4 0h-2V7h2v10zm4 0h-2v-4h2v4z\"/>\n",
              "    </g>\n",
              "</svg>\n",
              "  </button>\n",
              "\n",
              "<style>\n",
              "  .colab-df-quickchart {\n",
              "    background-color: #E8F0FE;\n",
              "    border: none;\n",
              "    border-radius: 50%;\n",
              "    cursor: pointer;\n",
              "    display: none;\n",
              "    fill: #1967D2;\n",
              "    height: 32px;\n",
              "    padding: 0 0 0 0;\n",
              "    width: 32px;\n",
              "  }\n",
              "\n",
              "  .colab-df-quickchart:hover {\n",
              "    background-color: #E2EBFA;\n",
              "    box-shadow: 0px 1px 2px rgba(60, 64, 67, 0.3), 0px 1px 3px 1px rgba(60, 64, 67, 0.15);\n",
              "    fill: #174EA6;\n",
              "  }\n",
              "\n",
              "  [theme=dark] .colab-df-quickchart {\n",
              "    background-color: #3B4455;\n",
              "    fill: #D2E3FC;\n",
              "  }\n",
              "\n",
              "  [theme=dark] .colab-df-quickchart:hover {\n",
              "    background-color: #434B5C;\n",
              "    box-shadow: 0px 1px 3px 1px rgba(0, 0, 0, 0.15);\n",
              "    filter: drop-shadow(0px 1px 2px rgba(0, 0, 0, 0.3));\n",
              "    fill: #FFFFFF;\n",
              "  }\n",
              "</style>\n",
              "\n",
              "  <script>\n",
              "    async function quickchart(key) {\n",
              "      const charts = await google.colab.kernel.invokeFunction(\n",
              "          'suggestCharts', [key], {});\n",
              "    }\n",
              "    (() => {\n",
              "      let quickchartButtonEl =\n",
              "        document.querySelector('#df-d74ac89a-9894-4c05-8b06-82f136413df6 button');\n",
              "      quickchartButtonEl.style.display =\n",
              "        google.colab.kernel.accessAllowed ? 'block' : 'none';\n",
              "    })();\n",
              "  </script>\n",
              "</div>\n",
              "    </div>\n",
              "  </div>\n"
            ]
          },
          "metadata": {},
          "execution_count": 73
        }
      ]
    },
    {
      "cell_type": "code",
      "source": [
        "filtro_data = (df['DTRECIDIVA'] > df['DTDIAG']) | df['DTRECIDIVA'].isna()"
      ],
      "metadata": {
        "id": "NbU3BvxEydUb"
      },
      "execution_count": 74,
      "outputs": []
    },
    {
      "cell_type": "code",
      "source": [
        "df = df[filtro_data]"
      ],
      "metadata": {
        "id": "DARZN5BAzJs1"
      },
      "execution_count": 75,
      "outputs": []
    },
    {
      "cell_type": "code",
      "source": [
        "df.REC.value_counts()"
      ],
      "metadata": {
        "id": "jdHmlL4LzwIb",
        "colab": {
          "base_uri": "https://localhost:8080/"
        },
        "outputId": "28b629dd-7986-4996-84e1-8096f02c5a8e"
      },
      "execution_count": 76,
      "outputs": [
        {
          "output_type": "execute_result",
          "data": {
            "text/plain": [
              "0    48047\n",
              "1     6100\n",
              "Name: REC, dtype: int64"
            ]
          },
          "metadata": {},
          "execution_count": 76
        }
      ]
    },
    {
      "cell_type": "markdown",
      "source": [
        "### Retirando casos de óbito"
      ],
      "metadata": {
        "id": "3_UcKqLRzcoS"
      }
    },
    {
      "cell_type": "code",
      "source": [
        "df.NAOTRAT.value_counts()"
      ],
      "metadata": {
        "id": "bvgqLOX9zerv",
        "colab": {
          "base_uri": "https://localhost:8080/"
        },
        "outputId": "a15a3465-05ff-445f-ce58-9e7d2dffc454"
      },
      "execution_count": 77,
      "outputs": [
        {
          "output_type": "execute_result",
          "data": {
            "text/plain": [
              "8    52884\n",
              "7      608\n",
              "2      259\n",
              "5      163\n",
              "4      107\n",
              "3       67\n",
              "1       33\n",
              "6       26\n",
              "Name: NAOTRAT, dtype: int64"
            ]
          },
          "metadata": {},
          "execution_count": 77
        }
      ]
    },
    {
      "cell_type": "code",
      "source": [
        "filtro_naotrat = ~df['NAOTRAT'].isin([2, 5, 6])"
      ],
      "metadata": {
        "id": "gPilag7Dzph6"
      },
      "execution_count": 78,
      "outputs": []
    },
    {
      "cell_type": "code",
      "source": [
        "df = df[filtro_naotrat]"
      ],
      "metadata": {
        "id": "GdEEkmRE0PqQ"
      },
      "execution_count": 79,
      "outputs": []
    },
    {
      "cell_type": "code",
      "source": [
        "df.NAOTRAT.value_counts()"
      ],
      "metadata": {
        "id": "uKw7IEXm0Sqz",
        "colab": {
          "base_uri": "https://localhost:8080/"
        },
        "outputId": "104557b9-d390-48fd-968e-a482d3de5d87"
      },
      "execution_count": 80,
      "outputs": [
        {
          "output_type": "execute_result",
          "data": {
            "text/plain": [
              "8    52884\n",
              "7      608\n",
              "4      107\n",
              "3       67\n",
              "1       33\n",
              "Name: NAOTRAT, dtype: int64"
            ]
          },
          "metadata": {},
          "execution_count": 80
        }
      ]
    },
    {
      "cell_type": "code",
      "source": [
        "df.REC.value_counts()"
      ],
      "metadata": {
        "id": "AZxloDRc0UYp",
        "colab": {
          "base_uri": "https://localhost:8080/"
        },
        "outputId": "9d1c5ada-bcb0-4e2d-e329-07e41e6257b4"
      },
      "execution_count": 81,
      "outputs": [
        {
          "output_type": "execute_result",
          "data": {
            "text/plain": [
              "0    47602\n",
              "1     6097\n",
              "Name: REC, dtype: int64"
            ]
          },
          "metadata": {},
          "execution_count": 81
        }
      ]
    },
    {
      "cell_type": "markdown",
      "source": [
        "### Retirando colunas que não se aplicam a câncer de mama"
      ],
      "metadata": {
        "id": "s1uvCzlx1n5W"
      }
    },
    {
      "cell_type": "code",
      "source": [
        "un_columns = ['PSA', 'GLEASON', 'S', 'G', 'LOCALTNM', 'IDMITOTIC']"
      ],
      "metadata": {
        "id": "TPazCdwn1rwg"
      },
      "execution_count": 82,
      "outputs": []
    },
    {
      "cell_type": "code",
      "source": [
        "df.drop(columns=un_columns, inplace=True)"
      ],
      "metadata": {
        "id": "IWL4G9AD2Bti"
      },
      "execution_count": 83,
      "outputs": []
    },
    {
      "cell_type": "code",
      "source": [
        "colunas_deletadas = all(coluna not in df.columns for coluna in un_columns)\n",
        "\n",
        "if colunas_deletadas:\n",
        "    print(\"As colunas foram deletadas com sucesso.\")\n",
        "else:\n",
        "    print(\"As colunas não foram deletadas corretamente.\")"
      ],
      "metadata": {
        "id": "WkID9fDg2Vs1",
        "colab": {
          "base_uri": "https://localhost:8080/"
        },
        "outputId": "33819617-b03a-42b8-de06-0d4c7f8ea8cb"
      },
      "execution_count": 84,
      "outputs": [
        {
          "output_type": "stream",
          "name": "stdout",
          "text": [
            "As colunas foram deletadas com sucesso.\n"
          ]
        }
      ]
    },
    {
      "cell_type": "markdown",
      "source": [
        "### Retirando colunas que apenas informam que o paciente tem câncer de mama\n",
        "Essas coluna não adiciona nenhuma informação nova, visto que todos os pacientes desse dataset já foram filtrados para câncer de mama"
      ],
      "metadata": {
        "id": "xuKjUJ1FXErj"
      }
    },
    {
      "cell_type": "code",
      "source": [
        "un_columns = ['TOPOGRUP']"
      ],
      "metadata": {
        "id": "Fd2AHnKGXP6x"
      },
      "execution_count": 85,
      "outputs": []
    },
    {
      "cell_type": "code",
      "source": [
        "df.drop(columns=un_columns, inplace=True)"
      ],
      "metadata": {
        "id": "JQH3xjFMXUHW"
      },
      "execution_count": 86,
      "outputs": []
    },
    {
      "cell_type": "code",
      "source": [
        "colunas_deletadas = all(coluna not in df.columns for coluna in un_columns)\n",
        "\n",
        "if colunas_deletadas:\n",
        "    print(\"As colunas foram deletadas com sucesso.\")\n",
        "else:\n",
        "    print(\"As colunas não foram deletadas corretamente.\")"
      ],
      "metadata": {
        "id": "o-kYPHt_XVOL",
        "colab": {
          "base_uri": "https://localhost:8080/"
        },
        "outputId": "5a69a14a-4791-4d14-e6f1-1fde64232ee7"
      },
      "execution_count": 87,
      "outputs": [
        {
          "output_type": "stream",
          "name": "stdout",
          "text": [
            "As colunas foram deletadas com sucesso.\n"
          ]
        }
      ]
    },
    {
      "cell_type": "markdown",
      "source": [
        "### Retirando registros para câncer de mama masculino\n",
        "\n",
        "\n"
      ],
      "metadata": {
        "id": "S1ZVthhlZtwD"
      }
    },
    {
      "cell_type": "code",
      "source": [
        "df = df.loc[df['SEXO']==2]"
      ],
      "metadata": {
        "id": "BxSvpNXrZzel"
      },
      "execution_count": 88,
      "outputs": []
    },
    {
      "cell_type": "code",
      "source": [
        "df.REC.value_counts()"
      ],
      "metadata": {
        "id": "FmflNZ3iZ9cy",
        "colab": {
          "base_uri": "https://localhost:8080/"
        },
        "outputId": "a0838673-94f3-45cb-bc71-a9cd480bc007"
      },
      "execution_count": 89,
      "outputs": [
        {
          "output_type": "execute_result",
          "data": {
            "text/plain": [
              "0    47272\n",
              "1     6061\n",
              "Name: REC, dtype: int64"
            ]
          },
          "metadata": {},
          "execution_count": 89
        }
      ]
    },
    {
      "cell_type": "code",
      "source": [
        "df.drop(columns='SEXO', inplace=True)"
      ],
      "metadata": {
        "id": "_mPjcXNmawV7"
      },
      "execution_count": 90,
      "outputs": []
    },
    {
      "cell_type": "markdown",
      "source": [
        "### Retirando colunas que explicitamente informam que o paciente tem algum tipo de recidiva"
      ],
      "metadata": {
        "id": "_fPItZ1-03Y3"
      }
    },
    {
      "cell_type": "code",
      "source": [
        "data_leakage_columns = ['RECNENHUM', 'RECLOCAL', 'RECREGIO', 'RECDIST', 'REC01', 'REC02', 'REC03', 'REC04',\n",
        "                        'META01', 'META02', 'META03', 'META04', 'DTRECIDIVA', 'DATEDIFF_DIAG_REC'\n",
        "                        ]"
      ],
      "metadata": {
        "id": "Fm2-c-de1ADo"
      },
      "execution_count": 91,
      "outputs": []
    },
    {
      "cell_type": "code",
      "source": [
        "df.drop(columns=data_leakage_columns, inplace=True)"
      ],
      "metadata": {
        "id": "QmAUoYCE3GeG"
      },
      "execution_count": 92,
      "outputs": []
    },
    {
      "cell_type": "code",
      "source": [
        "colunas_deletadas = all(coluna not in df.columns for coluna in data_leakage_columns)\n",
        "\n",
        "if colunas_deletadas:\n",
        "    print(\"As colunas foram deletadas com sucesso.\")\n",
        "else:\n",
        "    print(\"As colunas não foram deletadas corretamente.\")"
      ],
      "metadata": {
        "id": "_JaiU1Ni3O-h",
        "colab": {
          "base_uri": "https://localhost:8080/"
        },
        "outputId": "ffe36039-2084-40c3-884b-fc531625b3bd"
      },
      "execution_count": 93,
      "outputs": [
        {
          "output_type": "stream",
          "name": "stdout",
          "text": [
            "As colunas foram deletadas com sucesso.\n"
          ]
        }
      ]
    },
    {
      "cell_type": "code",
      "source": [
        "df.shape"
      ],
      "metadata": {
        "id": "67NJChUG3izQ",
        "colab": {
          "base_uri": "https://localhost:8080/"
        },
        "outputId": "7e7f0c82-5a71-44fe-c8b5-9c2bd27dc2ac"
      },
      "execution_count": 94,
      "outputs": [
        {
          "output_type": "execute_result",
          "data": {
            "text/plain": [
              "(53333, 79)"
            ]
          },
          "metadata": {},
          "execution_count": 94
        }
      ]
    },
    {
      "cell_type": "code",
      "source": [
        "df.columns"
      ],
      "metadata": {
        "id": "ucXWWofcWXoT",
        "colab": {
          "base_uri": "https://localhost:8080/"
        },
        "outputId": "d3d72de5-b2fb-4325-bc0a-fc70c4954587"
      },
      "execution_count": 95,
      "outputs": [
        {
          "output_type": "execute_result",
          "data": {
            "text/plain": [
              "Index(['ESCOLARI', 'IDADE', 'UFNASC', 'UFRESID', 'IBGE', 'CIDADE', 'CATEATEND',\n",
              "       'DTCONSULT', 'CLINICA', 'DIAGPREV', 'DTDIAG', 'BASEDIAG', 'TOPO',\n",
              "       'DESCTOPO', 'MORFO', 'DESCMORFO', 'EC', 'ECGRUP', 'T', 'N', 'M', 'PT',\n",
              "       'PN', 'PM', 'OUTRACLA', 'DTTRAT', 'NAOTRAT', 'TRATAMENTO', 'TRATHOSP',\n",
              "       'TRATFANTES', 'TRATFAPOS', 'NENHUM', 'CIRURGIA', 'RADIO', 'QUIMIO',\n",
              "       'HORMONIO', 'TMO', 'IMUNO', 'OUTROS', 'NENHUMANT', 'CIRURANT',\n",
              "       'RADIOANT', 'QUIMIOANT', 'HORMOANT', 'TMOANT', 'IMUNOANT', 'OUTROANT',\n",
              "       'NENHUMAPOS', 'CIRURAPOS', 'RADIOAPOS', 'QUIMIOAPOS', 'HORMOAPOS',\n",
              "       'TMOAPOS', 'IMUNOAPOS', 'OUTROAPOS', 'DTULTINFO', 'ULTINFO', 'CONSDIAG',\n",
              "       'TRATCONS', 'DIAGTRAT', 'ANODIAG', 'CICI', 'CICIGRUP', 'CICISUBGRU',\n",
              "       'FAIXAETAR', 'LATERALI', 'INSTORIG', 'DRS', 'RRAS', 'PERDASEG', 'ERRO',\n",
              "       'IBGEATEN', 'CIDO', 'DSCCIDO', 'HABILIT', 'HABIT11', 'HABILIT1',\n",
              "       'HABILIT2', 'REC'],\n",
              "      dtype='object')"
            ]
          },
          "metadata": {},
          "execution_count": 95
        }
      ]
    },
    {
      "cell_type": "markdown",
      "source": [
        "### Removendo colunas de data\n",
        "\n",
        "As colunas DTCONSULT, DTTRATAMENTO não serão utilizadas no formato de data. Esses dados serão mantidos na forma de delta entre diferentes datas, conservados nas variáveis CONSDIAG, TRATCONS, DIAGTRAT"
      ],
      "metadata": {
        "id": "3Mnqc7A0Y_jL"
      }
    },
    {
      "cell_type": "code",
      "source": [
        "date_columns = ['DTCONSULT', 'DTDIAG', 'DTTRAT', 'ULTINFO', 'DTULTINFO']"
      ],
      "metadata": {
        "id": "NoJeA5BXZRwz"
      },
      "execution_count": 96,
      "outputs": []
    },
    {
      "cell_type": "code",
      "source": [
        "df.drop(columns=date_columns, inplace=True)"
      ],
      "metadata": {
        "id": "KcajJR9MaDfn"
      },
      "execution_count": 97,
      "outputs": []
    },
    {
      "cell_type": "code",
      "source": [
        "colunas_deletadas = all(coluna not in df.columns for coluna in date_columns)\n",
        "\n",
        "if colunas_deletadas:\n",
        "    print(\"As colunas foram deletadas com sucesso.\")\n",
        "else:\n",
        "    print(\"As colunas não foram deletadas corretamente.\")"
      ],
      "metadata": {
        "id": "knoC6SsnaFH2",
        "colab": {
          "base_uri": "https://localhost:8080/"
        },
        "outputId": "205634b7-e9a7-44ca-c4dd-a228fc86bdcf"
      },
      "execution_count": 98,
      "outputs": [
        {
          "output_type": "stream",
          "name": "stdout",
          "text": [
            "As colunas foram deletadas com sucesso.\n"
          ]
        }
      ]
    },
    {
      "cell_type": "code",
      "source": [
        "df.shape"
      ],
      "metadata": {
        "id": "HcM3iIk-aNdZ",
        "colab": {
          "base_uri": "https://localhost:8080/"
        },
        "outputId": "7509a4a5-f043-47cc-be51-5283cfec73aa"
      },
      "execution_count": 99,
      "outputs": [
        {
          "output_type": "execute_result",
          "data": {
            "text/plain": [
              "(53333, 74)"
            ]
          },
          "metadata": {},
          "execution_count": 99
        }
      ]
    },
    {
      "cell_type": "code",
      "source": [
        "df.columns"
      ],
      "metadata": {
        "id": "lJmpuajDaK9x",
        "colab": {
          "base_uri": "https://localhost:8080/"
        },
        "outputId": "9a01f18d-9745-4674-8298-d99eeca90f56"
      },
      "execution_count": 100,
      "outputs": [
        {
          "output_type": "execute_result",
          "data": {
            "text/plain": [
              "Index(['ESCOLARI', 'IDADE', 'UFNASC', 'UFRESID', 'IBGE', 'CIDADE', 'CATEATEND',\n",
              "       'CLINICA', 'DIAGPREV', 'BASEDIAG', 'TOPO', 'DESCTOPO', 'MORFO',\n",
              "       'DESCMORFO', 'EC', 'ECGRUP', 'T', 'N', 'M', 'PT', 'PN', 'PM',\n",
              "       'OUTRACLA', 'NAOTRAT', 'TRATAMENTO', 'TRATHOSP', 'TRATFANTES',\n",
              "       'TRATFAPOS', 'NENHUM', 'CIRURGIA', 'RADIO', 'QUIMIO', 'HORMONIO', 'TMO',\n",
              "       'IMUNO', 'OUTROS', 'NENHUMANT', 'CIRURANT', 'RADIOANT', 'QUIMIOANT',\n",
              "       'HORMOANT', 'TMOANT', 'IMUNOANT', 'OUTROANT', 'NENHUMAPOS', 'CIRURAPOS',\n",
              "       'RADIOAPOS', 'QUIMIOAPOS', 'HORMOAPOS', 'TMOAPOS', 'IMUNOAPOS',\n",
              "       'OUTROAPOS', 'CONSDIAG', 'TRATCONS', 'DIAGTRAT', 'ANODIAG', 'CICI',\n",
              "       'CICIGRUP', 'CICISUBGRU', 'FAIXAETAR', 'LATERALI', 'INSTORIG', 'DRS',\n",
              "       'RRAS', 'PERDASEG', 'ERRO', 'IBGEATEN', 'CIDO', 'DSCCIDO', 'HABILIT',\n",
              "       'HABIT11', 'HABILIT1', 'HABILIT2', 'REC'],\n",
              "      dtype='object')"
            ]
          },
          "metadata": {},
          "execution_count": 100
        }
      ]
    },
    {
      "cell_type": "markdown",
      "source": [
        "### Removendo colunas repetidas ou que a informação já está contida em outras colunas"
      ],
      "metadata": {
        "id": "k_8mUsGRecL6"
      }
    },
    {
      "cell_type": "code",
      "source": [
        "repeated_columns = ['DESCMORFO', 'DESCTOPO', 'DSCCIDO', 'TRATAMENTO', 'TRATHOSP',\n",
        "                    'ECGRUP', 'T', 'N', 'M', 'DRS', 'FAIXAETAR', 'PERDASEG',\n",
        "                    'TRATFANTES', 'TRATFAPOS', 'OUTRACLA', 'CIDO']"
      ],
      "metadata": {
        "id": "Qitdnd77ajVW"
      },
      "execution_count": 101,
      "outputs": []
    },
    {
      "cell_type": "code",
      "source": [
        "df.drop(columns=repeated_columns, inplace=True)"
      ],
      "metadata": {
        "id": "zfpCZUPWewO1"
      },
      "execution_count": 102,
      "outputs": []
    },
    {
      "cell_type": "code",
      "source": [
        "colunas_deletadas = all(coluna not in df.columns for coluna in repeated_columns)\n",
        "\n",
        "if colunas_deletadas:\n",
        "    print(\"As colunas foram deletadas com sucesso.\")\n",
        "else:\n",
        "    print(\"As colunas não foram deletadas corretamente.\")"
      ],
      "metadata": {
        "id": "juJdvVM4ey0s",
        "colab": {
          "base_uri": "https://localhost:8080/"
        },
        "outputId": "d24160b4-c0e5-4549-d457-753a62c1ff15"
      },
      "execution_count": 103,
      "outputs": [
        {
          "output_type": "stream",
          "name": "stdout",
          "text": [
            "As colunas foram deletadas com sucesso.\n"
          ]
        }
      ]
    },
    {
      "cell_type": "code",
      "source": [
        "df.shape"
      ],
      "metadata": {
        "id": "6m6Mo-9ge1y_",
        "colab": {
          "base_uri": "https://localhost:8080/"
        },
        "outputId": "0eb46128-3fb6-40aa-e665-9026f7fd8577"
      },
      "execution_count": 104,
      "outputs": [
        {
          "output_type": "execute_result",
          "data": {
            "text/plain": [
              "(53333, 58)"
            ]
          },
          "metadata": {},
          "execution_count": 104
        }
      ]
    },
    {
      "cell_type": "code",
      "source": [
        "df.columns"
      ],
      "metadata": {
        "id": "mCgI3fx8e4gA",
        "colab": {
          "base_uri": "https://localhost:8080/"
        },
        "outputId": "3b076606-c5c8-495f-9662-3c6fb98dc855"
      },
      "execution_count": 105,
      "outputs": [
        {
          "output_type": "execute_result",
          "data": {
            "text/plain": [
              "Index(['ESCOLARI', 'IDADE', 'UFNASC', 'UFRESID', 'IBGE', 'CIDADE', 'CATEATEND',\n",
              "       'CLINICA', 'DIAGPREV', 'BASEDIAG', 'TOPO', 'MORFO', 'EC', 'PT', 'PN',\n",
              "       'PM', 'NAOTRAT', 'NENHUM', 'CIRURGIA', 'RADIO', 'QUIMIO', 'HORMONIO',\n",
              "       'TMO', 'IMUNO', 'OUTROS', 'NENHUMANT', 'CIRURANT', 'RADIOANT',\n",
              "       'QUIMIOANT', 'HORMOANT', 'TMOANT', 'IMUNOANT', 'OUTROANT', 'NENHUMAPOS',\n",
              "       'CIRURAPOS', 'RADIOAPOS', 'QUIMIOAPOS', 'HORMOAPOS', 'TMOAPOS',\n",
              "       'IMUNOAPOS', 'OUTROAPOS', 'CONSDIAG', 'TRATCONS', 'DIAGTRAT', 'ANODIAG',\n",
              "       'CICI', 'CICIGRUP', 'CICISUBGRU', 'LATERALI', 'INSTORIG', 'RRAS',\n",
              "       'ERRO', 'IBGEATEN', 'HABILIT', 'HABIT11', 'HABILIT1', 'HABILIT2',\n",
              "       'REC'],\n",
              "      dtype='object')"
            ]
          },
          "metadata": {},
          "execution_count": 105
        }
      ]
    },
    {
      "cell_type": "code",
      "source": [
        "df.head()"
      ],
      "metadata": {
        "id": "eiDiPe15fGsH",
        "colab": {
          "base_uri": "https://localhost:8080/",
          "height": 305
        },
        "outputId": "1cf6fce8-9fd7-45df-d284-731ea86af313"
      },
      "execution_count": 106,
      "outputs": [
        {
          "output_type": "execute_result",
          "data": {
            "text/plain": [
              "   ESCOLARI  IDADE UFNASC UFRESID     IBGE  \\\n",
              "0         9     38     SP      SP  3543402   \n",
              "1         9     46     MG      SP  3524402   \n",
              "2         9     45     SP      SP  3548500   \n",
              "3         9     43     SP      SP  3543402   \n",
              "4         5     67     SP      SP  3548500   \n",
              "\n",
              "                                              CIDADE  CATEATEND  CLINICA  \\\n",
              "0  RIBEIRAO PRETO                                ...          2       24   \n",
              "1  JACAREI                                       ...          2       33   \n",
              "2  SANTOS                                        ...          2       24   \n",
              "3  RIBEIRAO PRETO                                ...          2       24   \n",
              "4  SANTOS                                        ...          1       31   \n",
              "\n",
              "   DIAGPREV  BASEDIAG  ... LATERALI  \\\n",
              "0         2         3  ...        1   \n",
              "1         2         1  ...        1   \n",
              "2         2         3  ...        1   \n",
              "3         2         3  ...        1   \n",
              "4         1         3  ...        1   \n",
              "\n",
              "                                            INSTORIG RRAS ERRO IBGEATEN  \\\n",
              "0                                                ...   13    0  3543402   \n",
              "1                                                ...   17    0  3524402   \n",
              "2                                                ...    7    0  3548500   \n",
              "3                                                ...   13    0  3543402   \n",
              "4                                                ...    7    0  3548500   \n",
              "\n",
              "  HABILIT                                            HABIT11  HABILIT1  \\\n",
              "0       1  UNACON                                        ...         1   \n",
              "1       1  UNACON                                        ...         1   \n",
              "2       2  UNACON com Servio de Radioterapia            ...         1   \n",
              "3       1  UNACON                                        ...         1   \n",
              "4       2  UNACON com Servio de Radioterapia            ...         1   \n",
              "\n",
              "   HABILIT2  REC  \n",
              "0         1    0  \n",
              "1         1    0  \n",
              "2         1    0  \n",
              "3         1    0  \n",
              "4         1    0  \n",
              "\n",
              "[5 rows x 58 columns]"
            ],
            "text/html": [
              "\n",
              "  <div id=\"df-2741b33e-32c3-447c-ab92-b7b452ab8a4f\" class=\"colab-df-container\">\n",
              "    <div>\n",
              "<style scoped>\n",
              "    .dataframe tbody tr th:only-of-type {\n",
              "        vertical-align: middle;\n",
              "    }\n",
              "\n",
              "    .dataframe tbody tr th {\n",
              "        vertical-align: top;\n",
              "    }\n",
              "\n",
              "    .dataframe thead th {\n",
              "        text-align: right;\n",
              "    }\n",
              "</style>\n",
              "<table border=\"1\" class=\"dataframe\">\n",
              "  <thead>\n",
              "    <tr style=\"text-align: right;\">\n",
              "      <th></th>\n",
              "      <th>ESCOLARI</th>\n",
              "      <th>IDADE</th>\n",
              "      <th>UFNASC</th>\n",
              "      <th>UFRESID</th>\n",
              "      <th>IBGE</th>\n",
              "      <th>CIDADE</th>\n",
              "      <th>CATEATEND</th>\n",
              "      <th>CLINICA</th>\n",
              "      <th>DIAGPREV</th>\n",
              "      <th>BASEDIAG</th>\n",
              "      <th>...</th>\n",
              "      <th>LATERALI</th>\n",
              "      <th>INSTORIG</th>\n",
              "      <th>RRAS</th>\n",
              "      <th>ERRO</th>\n",
              "      <th>IBGEATEN</th>\n",
              "      <th>HABILIT</th>\n",
              "      <th>HABIT11</th>\n",
              "      <th>HABILIT1</th>\n",
              "      <th>HABILIT2</th>\n",
              "      <th>REC</th>\n",
              "    </tr>\n",
              "  </thead>\n",
              "  <tbody>\n",
              "    <tr>\n",
              "      <th>0</th>\n",
              "      <td>9</td>\n",
              "      <td>38</td>\n",
              "      <td>SP</td>\n",
              "      <td>SP</td>\n",
              "      <td>3543402</td>\n",
              "      <td>RIBEIRAO PRETO                                ...</td>\n",
              "      <td>2</td>\n",
              "      <td>24</td>\n",
              "      <td>2</td>\n",
              "      <td>3</td>\n",
              "      <td>...</td>\n",
              "      <td>1</td>\n",
              "      <td>...</td>\n",
              "      <td>13</td>\n",
              "      <td>0</td>\n",
              "      <td>3543402</td>\n",
              "      <td>1</td>\n",
              "      <td>UNACON                                        ...</td>\n",
              "      <td>1</td>\n",
              "      <td>1</td>\n",
              "      <td>0</td>\n",
              "    </tr>\n",
              "    <tr>\n",
              "      <th>1</th>\n",
              "      <td>9</td>\n",
              "      <td>46</td>\n",
              "      <td>MG</td>\n",
              "      <td>SP</td>\n",
              "      <td>3524402</td>\n",
              "      <td>JACAREI                                       ...</td>\n",
              "      <td>2</td>\n",
              "      <td>33</td>\n",
              "      <td>2</td>\n",
              "      <td>1</td>\n",
              "      <td>...</td>\n",
              "      <td>1</td>\n",
              "      <td>...</td>\n",
              "      <td>17</td>\n",
              "      <td>0</td>\n",
              "      <td>3524402</td>\n",
              "      <td>1</td>\n",
              "      <td>UNACON                                        ...</td>\n",
              "      <td>1</td>\n",
              "      <td>1</td>\n",
              "      <td>0</td>\n",
              "    </tr>\n",
              "    <tr>\n",
              "      <th>2</th>\n",
              "      <td>9</td>\n",
              "      <td>45</td>\n",
              "      <td>SP</td>\n",
              "      <td>SP</td>\n",
              "      <td>3548500</td>\n",
              "      <td>SANTOS                                        ...</td>\n",
              "      <td>2</td>\n",
              "      <td>24</td>\n",
              "      <td>2</td>\n",
              "      <td>3</td>\n",
              "      <td>...</td>\n",
              "      <td>1</td>\n",
              "      <td>...</td>\n",
              "      <td>7</td>\n",
              "      <td>0</td>\n",
              "      <td>3548500</td>\n",
              "      <td>2</td>\n",
              "      <td>UNACON com Servio de Radioterapia            ...</td>\n",
              "      <td>1</td>\n",
              "      <td>1</td>\n",
              "      <td>0</td>\n",
              "    </tr>\n",
              "    <tr>\n",
              "      <th>3</th>\n",
              "      <td>9</td>\n",
              "      <td>43</td>\n",
              "      <td>SP</td>\n",
              "      <td>SP</td>\n",
              "      <td>3543402</td>\n",
              "      <td>RIBEIRAO PRETO                                ...</td>\n",
              "      <td>2</td>\n",
              "      <td>24</td>\n",
              "      <td>2</td>\n",
              "      <td>3</td>\n",
              "      <td>...</td>\n",
              "      <td>1</td>\n",
              "      <td>...</td>\n",
              "      <td>13</td>\n",
              "      <td>0</td>\n",
              "      <td>3543402</td>\n",
              "      <td>1</td>\n",
              "      <td>UNACON                                        ...</td>\n",
              "      <td>1</td>\n",
              "      <td>1</td>\n",
              "      <td>0</td>\n",
              "    </tr>\n",
              "    <tr>\n",
              "      <th>4</th>\n",
              "      <td>5</td>\n",
              "      <td>67</td>\n",
              "      <td>SP</td>\n",
              "      <td>SP</td>\n",
              "      <td>3548500</td>\n",
              "      <td>SANTOS                                        ...</td>\n",
              "      <td>1</td>\n",
              "      <td>31</td>\n",
              "      <td>1</td>\n",
              "      <td>3</td>\n",
              "      <td>...</td>\n",
              "      <td>1</td>\n",
              "      <td>...</td>\n",
              "      <td>7</td>\n",
              "      <td>0</td>\n",
              "      <td>3548500</td>\n",
              "      <td>2</td>\n",
              "      <td>UNACON com Servio de Radioterapia            ...</td>\n",
              "      <td>1</td>\n",
              "      <td>1</td>\n",
              "      <td>0</td>\n",
              "    </tr>\n",
              "  </tbody>\n",
              "</table>\n",
              "<p>5 rows × 58 columns</p>\n",
              "</div>\n",
              "    <div class=\"colab-df-buttons\">\n",
              "\n",
              "  <div class=\"colab-df-container\">\n",
              "    <button class=\"colab-df-convert\" onclick=\"convertToInteractive('df-2741b33e-32c3-447c-ab92-b7b452ab8a4f')\"\n",
              "            title=\"Convert this dataframe to an interactive table.\"\n",
              "            style=\"display:none;\">\n",
              "\n",
              "  <svg xmlns=\"http://www.w3.org/2000/svg\" height=\"24px\" viewBox=\"0 -960 960 960\">\n",
              "    <path d=\"M120-120v-720h720v720H120Zm60-500h600v-160H180v160Zm220 220h160v-160H400v160Zm0 220h160v-160H400v160ZM180-400h160v-160H180v160Zm440 0h160v-160H620v160ZM180-180h160v-160H180v160Zm440 0h160v-160H620v160Z\"/>\n",
              "  </svg>\n",
              "    </button>\n",
              "\n",
              "  <style>\n",
              "    .colab-df-container {\n",
              "      display:flex;\n",
              "      gap: 12px;\n",
              "    }\n",
              "\n",
              "    .colab-df-convert {\n",
              "      background-color: #E8F0FE;\n",
              "      border: none;\n",
              "      border-radius: 50%;\n",
              "      cursor: pointer;\n",
              "      display: none;\n",
              "      fill: #1967D2;\n",
              "      height: 32px;\n",
              "      padding: 0 0 0 0;\n",
              "      width: 32px;\n",
              "    }\n",
              "\n",
              "    .colab-df-convert:hover {\n",
              "      background-color: #E2EBFA;\n",
              "      box-shadow: 0px 1px 2px rgba(60, 64, 67, 0.3), 0px 1px 3px 1px rgba(60, 64, 67, 0.15);\n",
              "      fill: #174EA6;\n",
              "    }\n",
              "\n",
              "    .colab-df-buttons div {\n",
              "      margin-bottom: 4px;\n",
              "    }\n",
              "\n",
              "    [theme=dark] .colab-df-convert {\n",
              "      background-color: #3B4455;\n",
              "      fill: #D2E3FC;\n",
              "    }\n",
              "\n",
              "    [theme=dark] .colab-df-convert:hover {\n",
              "      background-color: #434B5C;\n",
              "      box-shadow: 0px 1px 3px 1px rgba(0, 0, 0, 0.15);\n",
              "      filter: drop-shadow(0px 1px 2px rgba(0, 0, 0, 0.3));\n",
              "      fill: #FFFFFF;\n",
              "    }\n",
              "  </style>\n",
              "\n",
              "    <script>\n",
              "      const buttonEl =\n",
              "        document.querySelector('#df-2741b33e-32c3-447c-ab92-b7b452ab8a4f button.colab-df-convert');\n",
              "      buttonEl.style.display =\n",
              "        google.colab.kernel.accessAllowed ? 'block' : 'none';\n",
              "\n",
              "      async function convertToInteractive(key) {\n",
              "        const element = document.querySelector('#df-2741b33e-32c3-447c-ab92-b7b452ab8a4f');\n",
              "        const dataTable =\n",
              "          await google.colab.kernel.invokeFunction('convertToInteractive',\n",
              "                                                    [key], {});\n",
              "        if (!dataTable) return;\n",
              "\n",
              "        const docLinkHtml = 'Like what you see? Visit the ' +\n",
              "          '<a target=\"_blank\" href=https://colab.research.google.com/notebooks/data_table.ipynb>data table notebook</a>'\n",
              "          + ' to learn more about interactive tables.';\n",
              "        element.innerHTML = '';\n",
              "        dataTable['output_type'] = 'display_data';\n",
              "        await google.colab.output.renderOutput(dataTable, element);\n",
              "        const docLink = document.createElement('div');\n",
              "        docLink.innerHTML = docLinkHtml;\n",
              "        element.appendChild(docLink);\n",
              "      }\n",
              "    </script>\n",
              "  </div>\n",
              "\n",
              "\n",
              "<div id=\"df-3cce40e4-552c-47da-ab55-f4a430578e44\">\n",
              "  <button class=\"colab-df-quickchart\" onclick=\"quickchart('df-3cce40e4-552c-47da-ab55-f4a430578e44')\"\n",
              "            title=\"Suggest charts.\"\n",
              "            style=\"display:none;\">\n",
              "\n",
              "<svg xmlns=\"http://www.w3.org/2000/svg\" height=\"24px\"viewBox=\"0 0 24 24\"\n",
              "     width=\"24px\">\n",
              "    <g>\n",
              "        <path d=\"M19 3H5c-1.1 0-2 .9-2 2v14c0 1.1.9 2 2 2h14c1.1 0 2-.9 2-2V5c0-1.1-.9-2-2-2zM9 17H7v-7h2v7zm4 0h-2V7h2v10zm4 0h-2v-4h2v4z\"/>\n",
              "    </g>\n",
              "</svg>\n",
              "  </button>\n",
              "\n",
              "<style>\n",
              "  .colab-df-quickchart {\n",
              "    background-color: #E8F0FE;\n",
              "    border: none;\n",
              "    border-radius: 50%;\n",
              "    cursor: pointer;\n",
              "    display: none;\n",
              "    fill: #1967D2;\n",
              "    height: 32px;\n",
              "    padding: 0 0 0 0;\n",
              "    width: 32px;\n",
              "  }\n",
              "\n",
              "  .colab-df-quickchart:hover {\n",
              "    background-color: #E2EBFA;\n",
              "    box-shadow: 0px 1px 2px rgba(60, 64, 67, 0.3), 0px 1px 3px 1px rgba(60, 64, 67, 0.15);\n",
              "    fill: #174EA6;\n",
              "  }\n",
              "\n",
              "  [theme=dark] .colab-df-quickchart {\n",
              "    background-color: #3B4455;\n",
              "    fill: #D2E3FC;\n",
              "  }\n",
              "\n",
              "  [theme=dark] .colab-df-quickchart:hover {\n",
              "    background-color: #434B5C;\n",
              "    box-shadow: 0px 1px 3px 1px rgba(0, 0, 0, 0.15);\n",
              "    filter: drop-shadow(0px 1px 2px rgba(0, 0, 0, 0.3));\n",
              "    fill: #FFFFFF;\n",
              "  }\n",
              "</style>\n",
              "\n",
              "  <script>\n",
              "    async function quickchart(key) {\n",
              "      const charts = await google.colab.kernel.invokeFunction(\n",
              "          'suggestCharts', [key], {});\n",
              "    }\n",
              "    (() => {\n",
              "      let quickchartButtonEl =\n",
              "        document.querySelector('#df-3cce40e4-552c-47da-ab55-f4a430578e44 button');\n",
              "      quickchartButtonEl.style.display =\n",
              "        google.colab.kernel.accessAllowed ? 'block' : 'none';\n",
              "    })();\n",
              "  </script>\n",
              "</div>\n",
              "    </div>\n",
              "  </div>\n"
            ]
          },
          "metadata": {},
          "execution_count": 106
        }
      ]
    },
    {
      "cell_type": "markdown",
      "source": [
        "### Filtrando dados para adultos e removendo variáveis relacionadas a oncologia infantil"
      ],
      "metadata": {
        "id": "2mqveb383KlH"
      }
    },
    {
      "cell_type": "code",
      "source": [
        "df = df.loc[df['IDADE']>=18]"
      ],
      "metadata": {
        "id": "muHui0Kj3QPz"
      },
      "execution_count": 107,
      "outputs": []
    },
    {
      "cell_type": "code",
      "source": [
        "df['IDADE'].describe()"
      ],
      "metadata": {
        "id": "UJO2E3_d3UVD",
        "colab": {
          "base_uri": "https://localhost:8080/"
        },
        "outputId": "c0c4428d-dc14-4120-be83-88a03d841b9f"
      },
      "execution_count": 108,
      "outputs": [
        {
          "output_type": "execute_result",
          "data": {
            "text/plain": [
              "count    53327.000000\n",
              "mean        56.165357\n",
              "std         13.390439\n",
              "min         18.000000\n",
              "25%         46.000000\n",
              "50%         56.000000\n",
              "75%         65.000000\n",
              "max        103.000000\n",
              "Name: IDADE, dtype: float64"
            ]
          },
          "metadata": {},
          "execution_count": 108
        }
      ]
    },
    {
      "cell_type": "code",
      "source": [
        "infant_columns = ['CICI', 'CICIGRUP', 'CICISUBGRU']"
      ],
      "metadata": {
        "id": "Km3AKJGH3anK"
      },
      "execution_count": 109,
      "outputs": []
    },
    {
      "cell_type": "code",
      "source": [
        "df.drop(columns=infant_columns, inplace=True)"
      ],
      "metadata": {
        "id": "hoVKT8Ur3djJ"
      },
      "execution_count": 110,
      "outputs": []
    },
    {
      "cell_type": "markdown",
      "source": [
        "### Filtrando dados para pacientes residentes em SP e retirando variáveis referentes ao endereço (serão representadas na RRAS de atendimento)"
      ],
      "metadata": {
        "id": "2wkDZ5Xx4fRw"
      }
    },
    {
      "cell_type": "code",
      "source": [
        "df = df.loc[df['UFRESID']=='SP']"
      ],
      "metadata": {
        "id": "0A9YGhsV4pM3"
      },
      "execution_count": 111,
      "outputs": []
    },
    {
      "cell_type": "code",
      "source": [
        "location_columns = ['UFNASC', 'UFRESID', 'IBGE',\n",
        "                    'CIDADE', 'CLINICA', 'INSTORIG',\n",
        "                    'ERRO', 'IBGEATEN',\n",
        "                    'HABILIT1', 'HABIT11', 'HABILIT2']"
      ],
      "metadata": {
        "id": "w_KE7pEU4ybG"
      },
      "execution_count": 112,
      "outputs": []
    },
    {
      "cell_type": "code",
      "source": [
        "df.drop(columns=location_columns, inplace=True)"
      ],
      "metadata": {
        "id": "PPk0oGbE5OgH"
      },
      "execution_count": 113,
      "outputs": []
    },
    {
      "cell_type": "code",
      "source": [
        "df.columns"
      ],
      "metadata": {
        "id": "tm_yxf_65jau",
        "colab": {
          "base_uri": "https://localhost:8080/"
        },
        "outputId": "9e0b6e7a-d224-433c-81a3-2c4a7fd429cb"
      },
      "execution_count": 114,
      "outputs": [
        {
          "output_type": "execute_result",
          "data": {
            "text/plain": [
              "Index(['ESCOLARI', 'IDADE', 'CATEATEND', 'DIAGPREV', 'BASEDIAG', 'TOPO',\n",
              "       'MORFO', 'EC', 'PT', 'PN', 'PM', 'NAOTRAT', 'NENHUM', 'CIRURGIA',\n",
              "       'RADIO', 'QUIMIO', 'HORMONIO', 'TMO', 'IMUNO', 'OUTROS', 'NENHUMANT',\n",
              "       'CIRURANT', 'RADIOANT', 'QUIMIOANT', 'HORMOANT', 'TMOANT', 'IMUNOANT',\n",
              "       'OUTROANT', 'NENHUMAPOS', 'CIRURAPOS', 'RADIOAPOS', 'QUIMIOAPOS',\n",
              "       'HORMOAPOS', 'TMOAPOS', 'IMUNOAPOS', 'OUTROAPOS', 'CONSDIAG',\n",
              "       'TRATCONS', 'DIAGTRAT', 'ANODIAG', 'LATERALI', 'RRAS', 'HABILIT',\n",
              "       'REC'],\n",
              "      dtype='object')"
            ]
          },
          "metadata": {},
          "execution_count": 114
        }
      ]
    },
    {
      "cell_type": "code",
      "source": [
        "df.shape"
      ],
      "metadata": {
        "id": "JPvZD5TXZBte",
        "colab": {
          "base_uri": "https://localhost:8080/"
        },
        "outputId": "cfe9a008-6ec3-4d2d-9002-cd2ec5387909"
      },
      "execution_count": 115,
      "outputs": [
        {
          "output_type": "execute_result",
          "data": {
            "text/plain": [
              "(50275, 44)"
            ]
          },
          "metadata": {},
          "execution_count": 115
        }
      ]
    },
    {
      "cell_type": "code",
      "source": [
        "df.REC.value_counts(normalize=True)"
      ],
      "metadata": {
        "id": "f2bYWBaMZh1I",
        "colab": {
          "base_uri": "https://localhost:8080/"
        },
        "outputId": "a789140f-5641-4bff-b438-9c2a1f64b6fb"
      },
      "execution_count": 116,
      "outputs": [
        {
          "output_type": "execute_result",
          "data": {
            "text/plain": [
              "0    0.886584\n",
              "1    0.113416\n",
              "Name: REC, dtype: float64"
            ]
          },
          "metadata": {},
          "execution_count": 116
        }
      ]
    },
    {
      "cell_type": "code",
      "source": [
        "df.REC.value_counts()"
      ],
      "metadata": {
        "id": "tMRBbzW-d8FF",
        "colab": {
          "base_uri": "https://localhost:8080/"
        },
        "outputId": "4f080eb8-3dfb-48d7-f53d-9b9e812458a3"
      },
      "execution_count": 117,
      "outputs": [
        {
          "output_type": "execute_result",
          "data": {
            "text/plain": [
              "0    44573\n",
              "1     5702\n",
              "Name: REC, dtype: int64"
            ]
          },
          "metadata": {},
          "execution_count": 117
        }
      ]
    },
    {
      "cell_type": "code",
      "source": [
        "df.head()"
      ],
      "metadata": {
        "id": "PMUz--e7asBA",
        "colab": {
          "base_uri": "https://localhost:8080/",
          "height": 236
        },
        "outputId": "092c032a-73d7-4829-9ff8-ce02821d34a0"
      },
      "execution_count": 118,
      "outputs": [
        {
          "output_type": "execute_result",
          "data": {
            "text/plain": [
              "   ESCOLARI  IDADE  CATEATEND  DIAGPREV  BASEDIAG  TOPO  MORFO     EC     PT  \\\n",
              "0         9     38          2         2         3  C509  80001  Y              \n",
              "1         9     46          2         2         1  C509  80001  Y              \n",
              "2         9     45          2         2         3  C502  80001  Y      Y       \n",
              "3         9     43          2         2         3  C500  80001  Y              \n",
              "4         5     67          1         1         3  C501  80001  Y      Y       \n",
              "\n",
              "      PN  ... IMUNOAPOS  OUTROAPOS  CONSDIAG  TRATCONS  DIAGTRAT  ANODIAG  \\\n",
              "0         ...         0          0        14       ***       ***     2017   \n",
              "1         ...         0          0        22       972       994     2017   \n",
              "2  Y      ...         0          0       ***        13       ***     2016   \n",
              "3         ...         0          0        28         9        37     2019   \n",
              "4  Y      ...         0          0         0        42        42     2019   \n",
              "\n",
              "   LATERALI  RRAS  HABILIT  REC  \n",
              "0         1    13        1    0  \n",
              "1         1    17        1    0  \n",
              "2         1     7        2    0  \n",
              "3         1    13        1    0  \n",
              "4         1     7        2    0  \n",
              "\n",
              "[5 rows x 44 columns]"
            ],
            "text/html": [
              "\n",
              "  <div id=\"df-c7dd39a0-b0d3-47c7-8cb8-6135d7bb5611\" class=\"colab-df-container\">\n",
              "    <div>\n",
              "<style scoped>\n",
              "    .dataframe tbody tr th:only-of-type {\n",
              "        vertical-align: middle;\n",
              "    }\n",
              "\n",
              "    .dataframe tbody tr th {\n",
              "        vertical-align: top;\n",
              "    }\n",
              "\n",
              "    .dataframe thead th {\n",
              "        text-align: right;\n",
              "    }\n",
              "</style>\n",
              "<table border=\"1\" class=\"dataframe\">\n",
              "  <thead>\n",
              "    <tr style=\"text-align: right;\">\n",
              "      <th></th>\n",
              "      <th>ESCOLARI</th>\n",
              "      <th>IDADE</th>\n",
              "      <th>CATEATEND</th>\n",
              "      <th>DIAGPREV</th>\n",
              "      <th>BASEDIAG</th>\n",
              "      <th>TOPO</th>\n",
              "      <th>MORFO</th>\n",
              "      <th>EC</th>\n",
              "      <th>PT</th>\n",
              "      <th>PN</th>\n",
              "      <th>...</th>\n",
              "      <th>IMUNOAPOS</th>\n",
              "      <th>OUTROAPOS</th>\n",
              "      <th>CONSDIAG</th>\n",
              "      <th>TRATCONS</th>\n",
              "      <th>DIAGTRAT</th>\n",
              "      <th>ANODIAG</th>\n",
              "      <th>LATERALI</th>\n",
              "      <th>RRAS</th>\n",
              "      <th>HABILIT</th>\n",
              "      <th>REC</th>\n",
              "    </tr>\n",
              "  </thead>\n",
              "  <tbody>\n",
              "    <tr>\n",
              "      <th>0</th>\n",
              "      <td>9</td>\n",
              "      <td>38</td>\n",
              "      <td>2</td>\n",
              "      <td>2</td>\n",
              "      <td>3</td>\n",
              "      <td>C509</td>\n",
              "      <td>80001</td>\n",
              "      <td>Y</td>\n",
              "      <td></td>\n",
              "      <td></td>\n",
              "      <td>...</td>\n",
              "      <td>0</td>\n",
              "      <td>0</td>\n",
              "      <td>14</td>\n",
              "      <td>***</td>\n",
              "      <td>***</td>\n",
              "      <td>2017</td>\n",
              "      <td>1</td>\n",
              "      <td>13</td>\n",
              "      <td>1</td>\n",
              "      <td>0</td>\n",
              "    </tr>\n",
              "    <tr>\n",
              "      <th>1</th>\n",
              "      <td>9</td>\n",
              "      <td>46</td>\n",
              "      <td>2</td>\n",
              "      <td>2</td>\n",
              "      <td>1</td>\n",
              "      <td>C509</td>\n",
              "      <td>80001</td>\n",
              "      <td>Y</td>\n",
              "      <td></td>\n",
              "      <td></td>\n",
              "      <td>...</td>\n",
              "      <td>0</td>\n",
              "      <td>0</td>\n",
              "      <td>22</td>\n",
              "      <td>972</td>\n",
              "      <td>994</td>\n",
              "      <td>2017</td>\n",
              "      <td>1</td>\n",
              "      <td>17</td>\n",
              "      <td>1</td>\n",
              "      <td>0</td>\n",
              "    </tr>\n",
              "    <tr>\n",
              "      <th>2</th>\n",
              "      <td>9</td>\n",
              "      <td>45</td>\n",
              "      <td>2</td>\n",
              "      <td>2</td>\n",
              "      <td>3</td>\n",
              "      <td>C502</td>\n",
              "      <td>80001</td>\n",
              "      <td>Y</td>\n",
              "      <td>Y</td>\n",
              "      <td>Y</td>\n",
              "      <td>...</td>\n",
              "      <td>0</td>\n",
              "      <td>0</td>\n",
              "      <td>***</td>\n",
              "      <td>13</td>\n",
              "      <td>***</td>\n",
              "      <td>2016</td>\n",
              "      <td>1</td>\n",
              "      <td>7</td>\n",
              "      <td>2</td>\n",
              "      <td>0</td>\n",
              "    </tr>\n",
              "    <tr>\n",
              "      <th>3</th>\n",
              "      <td>9</td>\n",
              "      <td>43</td>\n",
              "      <td>2</td>\n",
              "      <td>2</td>\n",
              "      <td>3</td>\n",
              "      <td>C500</td>\n",
              "      <td>80001</td>\n",
              "      <td>Y</td>\n",
              "      <td></td>\n",
              "      <td></td>\n",
              "      <td>...</td>\n",
              "      <td>0</td>\n",
              "      <td>0</td>\n",
              "      <td>28</td>\n",
              "      <td>9</td>\n",
              "      <td>37</td>\n",
              "      <td>2019</td>\n",
              "      <td>1</td>\n",
              "      <td>13</td>\n",
              "      <td>1</td>\n",
              "      <td>0</td>\n",
              "    </tr>\n",
              "    <tr>\n",
              "      <th>4</th>\n",
              "      <td>5</td>\n",
              "      <td>67</td>\n",
              "      <td>1</td>\n",
              "      <td>1</td>\n",
              "      <td>3</td>\n",
              "      <td>C501</td>\n",
              "      <td>80001</td>\n",
              "      <td>Y</td>\n",
              "      <td>Y</td>\n",
              "      <td>Y</td>\n",
              "      <td>...</td>\n",
              "      <td>0</td>\n",
              "      <td>0</td>\n",
              "      <td>0</td>\n",
              "      <td>42</td>\n",
              "      <td>42</td>\n",
              "      <td>2019</td>\n",
              "      <td>1</td>\n",
              "      <td>7</td>\n",
              "      <td>2</td>\n",
              "      <td>0</td>\n",
              "    </tr>\n",
              "  </tbody>\n",
              "</table>\n",
              "<p>5 rows × 44 columns</p>\n",
              "</div>\n",
              "    <div class=\"colab-df-buttons\">\n",
              "\n",
              "  <div class=\"colab-df-container\">\n",
              "    <button class=\"colab-df-convert\" onclick=\"convertToInteractive('df-c7dd39a0-b0d3-47c7-8cb8-6135d7bb5611')\"\n",
              "            title=\"Convert this dataframe to an interactive table.\"\n",
              "            style=\"display:none;\">\n",
              "\n",
              "  <svg xmlns=\"http://www.w3.org/2000/svg\" height=\"24px\" viewBox=\"0 -960 960 960\">\n",
              "    <path d=\"M120-120v-720h720v720H120Zm60-500h600v-160H180v160Zm220 220h160v-160H400v160Zm0 220h160v-160H400v160ZM180-400h160v-160H180v160Zm440 0h160v-160H620v160ZM180-180h160v-160H180v160Zm440 0h160v-160H620v160Z\"/>\n",
              "  </svg>\n",
              "    </button>\n",
              "\n",
              "  <style>\n",
              "    .colab-df-container {\n",
              "      display:flex;\n",
              "      gap: 12px;\n",
              "    }\n",
              "\n",
              "    .colab-df-convert {\n",
              "      background-color: #E8F0FE;\n",
              "      border: none;\n",
              "      border-radius: 50%;\n",
              "      cursor: pointer;\n",
              "      display: none;\n",
              "      fill: #1967D2;\n",
              "      height: 32px;\n",
              "      padding: 0 0 0 0;\n",
              "      width: 32px;\n",
              "    }\n",
              "\n",
              "    .colab-df-convert:hover {\n",
              "      background-color: #E2EBFA;\n",
              "      box-shadow: 0px 1px 2px rgba(60, 64, 67, 0.3), 0px 1px 3px 1px rgba(60, 64, 67, 0.15);\n",
              "      fill: #174EA6;\n",
              "    }\n",
              "\n",
              "    .colab-df-buttons div {\n",
              "      margin-bottom: 4px;\n",
              "    }\n",
              "\n",
              "    [theme=dark] .colab-df-convert {\n",
              "      background-color: #3B4455;\n",
              "      fill: #D2E3FC;\n",
              "    }\n",
              "\n",
              "    [theme=dark] .colab-df-convert:hover {\n",
              "      background-color: #434B5C;\n",
              "      box-shadow: 0px 1px 3px 1px rgba(0, 0, 0, 0.15);\n",
              "      filter: drop-shadow(0px 1px 2px rgba(0, 0, 0, 0.3));\n",
              "      fill: #FFFFFF;\n",
              "    }\n",
              "  </style>\n",
              "\n",
              "    <script>\n",
              "      const buttonEl =\n",
              "        document.querySelector('#df-c7dd39a0-b0d3-47c7-8cb8-6135d7bb5611 button.colab-df-convert');\n",
              "      buttonEl.style.display =\n",
              "        google.colab.kernel.accessAllowed ? 'block' : 'none';\n",
              "\n",
              "      async function convertToInteractive(key) {\n",
              "        const element = document.querySelector('#df-c7dd39a0-b0d3-47c7-8cb8-6135d7bb5611');\n",
              "        const dataTable =\n",
              "          await google.colab.kernel.invokeFunction('convertToInteractive',\n",
              "                                                    [key], {});\n",
              "        if (!dataTable) return;\n",
              "\n",
              "        const docLinkHtml = 'Like what you see? Visit the ' +\n",
              "          '<a target=\"_blank\" href=https://colab.research.google.com/notebooks/data_table.ipynb>data table notebook</a>'\n",
              "          + ' to learn more about interactive tables.';\n",
              "        element.innerHTML = '';\n",
              "        dataTable['output_type'] = 'display_data';\n",
              "        await google.colab.output.renderOutput(dataTable, element);\n",
              "        const docLink = document.createElement('div');\n",
              "        docLink.innerHTML = docLinkHtml;\n",
              "        element.appendChild(docLink);\n",
              "      }\n",
              "    </script>\n",
              "  </div>\n",
              "\n",
              "\n",
              "<div id=\"df-817ce5fb-149d-4449-a9a2-c1e470dd064b\">\n",
              "  <button class=\"colab-df-quickchart\" onclick=\"quickchart('df-817ce5fb-149d-4449-a9a2-c1e470dd064b')\"\n",
              "            title=\"Suggest charts.\"\n",
              "            style=\"display:none;\">\n",
              "\n",
              "<svg xmlns=\"http://www.w3.org/2000/svg\" height=\"24px\"viewBox=\"0 0 24 24\"\n",
              "     width=\"24px\">\n",
              "    <g>\n",
              "        <path d=\"M19 3H5c-1.1 0-2 .9-2 2v14c0 1.1.9 2 2 2h14c1.1 0 2-.9 2-2V5c0-1.1-.9-2-2-2zM9 17H7v-7h2v7zm4 0h-2V7h2v10zm4 0h-2v-4h2v4z\"/>\n",
              "    </g>\n",
              "</svg>\n",
              "  </button>\n",
              "\n",
              "<style>\n",
              "  .colab-df-quickchart {\n",
              "    background-color: #E8F0FE;\n",
              "    border: none;\n",
              "    border-radius: 50%;\n",
              "    cursor: pointer;\n",
              "    display: none;\n",
              "    fill: #1967D2;\n",
              "    height: 32px;\n",
              "    padding: 0 0 0 0;\n",
              "    width: 32px;\n",
              "  }\n",
              "\n",
              "  .colab-df-quickchart:hover {\n",
              "    background-color: #E2EBFA;\n",
              "    box-shadow: 0px 1px 2px rgba(60, 64, 67, 0.3), 0px 1px 3px 1px rgba(60, 64, 67, 0.15);\n",
              "    fill: #174EA6;\n",
              "  }\n",
              "\n",
              "  [theme=dark] .colab-df-quickchart {\n",
              "    background-color: #3B4455;\n",
              "    fill: #D2E3FC;\n",
              "  }\n",
              "\n",
              "  [theme=dark] .colab-df-quickchart:hover {\n",
              "    background-color: #434B5C;\n",
              "    box-shadow: 0px 1px 3px 1px rgba(0, 0, 0, 0.15);\n",
              "    filter: drop-shadow(0px 1px 2px rgba(0, 0, 0, 0.3));\n",
              "    fill: #FFFFFF;\n",
              "  }\n",
              "</style>\n",
              "\n",
              "  <script>\n",
              "    async function quickchart(key) {\n",
              "      const charts = await google.colab.kernel.invokeFunction(\n",
              "          'suggestCharts', [key], {});\n",
              "    }\n",
              "    (() => {\n",
              "      let quickchartButtonEl =\n",
              "        document.querySelector('#df-817ce5fb-149d-4449-a9a2-c1e470dd064b button');\n",
              "      quickchartButtonEl.style.display =\n",
              "        google.colab.kernel.accessAllowed ? 'block' : 'none';\n",
              "    })();\n",
              "  </script>\n",
              "</div>\n",
              "    </div>\n",
              "  </div>\n"
            ]
          },
          "metadata": {},
          "execution_count": 118
        }
      ]
    },
    {
      "cell_type": "code",
      "source": [
        "df.ANODIAG.value_counts()"
      ],
      "metadata": {
        "id": "L4TyAv_Xd2Jb",
        "colab": {
          "base_uri": "https://localhost:8080/"
        },
        "outputId": "53c7869c-034f-4b4b-b3bc-668043d87a3a"
      },
      "execution_count": 119,
      "outputs": [
        {
          "output_type": "execute_result",
          "data": {
            "text/plain": [
              "2014    9044\n",
              "2015    8645\n",
              "2016    8439\n",
              "2018    8117\n",
              "2019    8115\n",
              "2017    7915\n",
              "Name: ANODIAG, dtype: int64"
            ]
          },
          "metadata": {},
          "execution_count": 119
        }
      ]
    },
    {
      "cell_type": "code",
      "source": [
        "recurrence_counts = df.groupby('ANODIAG')['REC'].sum().reset_index()\n",
        "\n",
        "plt.figure(figsize=(10, 6))\n",
        "sns.barplot(x='ANODIAG', y='REC', data=recurrence_counts)\n",
        "plt.title('Número de recidivas por ano')\n",
        "plt.xlabel('Ano de diagnóstico')\n",
        "plt.ylabel('Número de recidivas')\n",
        "plt.show()"
      ],
      "metadata": {
        "id": "YZTmHu6cfAIY",
        "colab": {
          "base_uri": "https://localhost:8080/",
          "height": 565
        },
        "outputId": "aea8d97d-fbd5-4a72-a934-f9c5a6a96399"
      },
      "execution_count": 120,
      "outputs": [
        {
          "output_type": "display_data",
          "data": {
            "text/plain": [
              "<Figure size 1000x600 with 1 Axes>"
            ],
            "image/png": "[encoded data removed]"
          },
          "metadata": {}
        }
      ]
    },
    {
      "cell_type": "code",
      "source": [
        "cross_tab = pd.crosstab(df['ANODIAG'], df['REC'], normalize='index')\n",
        "\n",
        "plt.figure(figsize=(10, 6))\n",
        "cross_tab.plot(kind='bar', stacked=True, cmap='viridis')\n",
        "plt.xlabel('ANODIAG')\n",
        "plt.ylabel('Proporção')\n",
        "plt.title('Relação entre ANODIAG e REC')\n",
        "plt.xticks(rotation=90)\n",
        "plt.legend(title='REC', labels=['False', 'True'])\n",
        "plt.tight_layout()\n",
        "plt.show()"
      ],
      "metadata": {
        "id": "B2bOPh9qfidv",
        "colab": {
          "base_uri": "https://localhost:8080/",
          "height": 504
        },
        "outputId": "c3c09de0-6604-4961-fc56-c94ef0afeb8b"
      },
      "execution_count": 121,
      "outputs": [
        {
          "output_type": "display_data",
          "data": {
            "text/plain": [
              "<Figure size 1000x600 with 0 Axes>"
            ]
          },
          "metadata": {}
        },
        {
          "output_type": "display_data",
          "data": {
            "text/plain": [
              "<Figure size 640x480 with 1 Axes>"
            ],
            "image/png": "[encoded data removed]"
          },
          "metadata": {}
        }
      ]
    },
    {
      "cell_type": "code",
      "source": [
        "df.head()"
      ],
      "metadata": {
        "colab": {
          "base_uri": "https://localhost:8080/",
          "height": 236
        },
        "id": "xlzKfO90mSmC",
        "outputId": "3c2bbea4-36f1-4064-af62-b72c1cf7b3ce"
      },
      "execution_count": 122,
      "outputs": [
        {
          "output_type": "execute_result",
          "data": {
            "text/plain": [
              "   ESCOLARI  IDADE  CATEATEND  DIAGPREV  BASEDIAG  TOPO  MORFO     EC     PT  \\\n",
              "0         9     38          2         2         3  C509  80001  Y              \n",
              "1         9     46          2         2         1  C509  80001  Y              \n",
              "2         9     45          2         2         3  C502  80001  Y      Y       \n",
              "3         9     43          2         2         3  C500  80001  Y              \n",
              "4         5     67          1         1         3  C501  80001  Y      Y       \n",
              "\n",
              "      PN  ... IMUNOAPOS  OUTROAPOS  CONSDIAG  TRATCONS  DIAGTRAT  ANODIAG  \\\n",
              "0         ...         0          0        14       ***       ***     2017   \n",
              "1         ...         0          0        22       972       994     2017   \n",
              "2  Y      ...         0          0       ***        13       ***     2016   \n",
              "3         ...         0          0        28         9        37     2019   \n",
              "4  Y      ...         0          0         0        42        42     2019   \n",
              "\n",
              "   LATERALI  RRAS  HABILIT  REC  \n",
              "0         1    13        1    0  \n",
              "1         1    17        1    0  \n",
              "2         1     7        2    0  \n",
              "3         1    13        1    0  \n",
              "4         1     7        2    0  \n",
              "\n",
              "[5 rows x 44 columns]"
            ],
            "text/html": [
              "\n",
              "  <div id=\"df-6018d2ba-c4c9-4282-9d3d-26e91b9faf24\" class=\"colab-df-container\">\n",
              "    <div>\n",
              "<style scoped>\n",
              "    .dataframe tbody tr th:only-of-type {\n",
              "        vertical-align: middle;\n",
              "    }\n",
              "\n",
              "    .dataframe tbody tr th {\n",
              "        vertical-align: top;\n",
              "    }\n",
              "\n",
              "    .dataframe thead th {\n",
              "        text-align: right;\n",
              "    }\n",
              "</style>\n",
              "<table border=\"1\" class=\"dataframe\">\n",
              "  <thead>\n",
              "    <tr style=\"text-align: right;\">\n",
              "      <th></th>\n",
              "      <th>ESCOLARI</th>\n",
              "      <th>IDADE</th>\n",
              "      <th>CATEATEND</th>\n",
              "      <th>DIAGPREV</th>\n",
              "      <th>BASEDIAG</th>\n",
              "      <th>TOPO</th>\n",
              "      <th>MORFO</th>\n",
              "      <th>EC</th>\n",
              "      <th>PT</th>\n",
              "      <th>PN</th>\n",
              "      <th>...</th>\n",
              "      <th>IMUNOAPOS</th>\n",
              "      <th>OUTROAPOS</th>\n",
              "      <th>CONSDIAG</th>\n",
              "      <th>TRATCONS</th>\n",
              "      <th>DIAGTRAT</th>\n",
              "      <th>ANODIAG</th>\n",
              "      <th>LATERALI</th>\n",
              "      <th>RRAS</th>\n",
              "      <th>HABILIT</th>\n",
              "      <th>REC</th>\n",
              "    </tr>\n",
              "  </thead>\n",
              "  <tbody>\n",
              "    <tr>\n",
              "      <th>0</th>\n",
              "      <td>9</td>\n",
              "      <td>38</td>\n",
              "      <td>2</td>\n",
              "      <td>2</td>\n",
              "      <td>3</td>\n",
              "      <td>C509</td>\n",
              "      <td>80001</td>\n",
              "      <td>Y</td>\n",
              "      <td></td>\n",
              "      <td></td>\n",
              "      <td>...</td>\n",
              "      <td>0</td>\n",
              "      <td>0</td>\n",
              "      <td>14</td>\n",
              "      <td>***</td>\n",
              "      <td>***</td>\n",
              "      <td>2017</td>\n",
              "      <td>1</td>\n",
              "      <td>13</td>\n",
              "      <td>1</td>\n",
              "      <td>0</td>\n",
              "    </tr>\n",
              "    <tr>\n",
              "      <th>1</th>\n",
              "      <td>9</td>\n",
              "      <td>46</td>\n",
              "      <td>2</td>\n",
              "      <td>2</td>\n",
              "      <td>1</td>\n",
              "      <td>C509</td>\n",
              "      <td>80001</td>\n",
              "      <td>Y</td>\n",
              "      <td></td>\n",
              "      <td></td>\n",
              "      <td>...</td>\n",
              "      <td>0</td>\n",
              "      <td>0</td>\n",
              "      <td>22</td>\n",
              "      <td>972</td>\n",
              "      <td>994</td>\n",
              "      <td>2017</td>\n",
              "      <td>1</td>\n",
              "      <td>17</td>\n",
              "      <td>1</td>\n",
              "      <td>0</td>\n",
              "    </tr>\n",
              "    <tr>\n",
              "      <th>2</th>\n",
              "      <td>9</td>\n",
              "      <td>45</td>\n",
              "      <td>2</td>\n",
              "      <td>2</td>\n",
              "      <td>3</td>\n",
              "      <td>C502</td>\n",
              "      <td>80001</td>\n",
              "      <td>Y</td>\n",
              "      <td>Y</td>\n",
              "      <td>Y</td>\n",
              "      <td>...</td>\n",
              "      <td>0</td>\n",
              "      <td>0</td>\n",
              "      <td>***</td>\n",
              "      <td>13</td>\n",
              "      <td>***</td>\n",
              "      <td>2016</td>\n",
              "      <td>1</td>\n",
              "      <td>7</td>\n",
              "      <td>2</td>\n",
              "      <td>0</td>\n",
              "    </tr>\n",
              "    <tr>\n",
              "      <th>3</th>\n",
              "      <td>9</td>\n",
              "      <td>43</td>\n",
              "      <td>2</td>\n",
              "      <td>2</td>\n",
              "      <td>3</td>\n",
              "      <td>C500</td>\n",
              "      <td>80001</td>\n",
              "      <td>Y</td>\n",
              "      <td></td>\n",
              "      <td></td>\n",
              "      <td>...</td>\n",
              "      <td>0</td>\n",
              "      <td>0</td>\n",
              "      <td>28</td>\n",
              "      <td>9</td>\n",
              "      <td>37</td>\n",
              "      <td>2019</td>\n",
              "      <td>1</td>\n",
              "      <td>13</td>\n",
              "      <td>1</td>\n",
              "      <td>0</td>\n",
              "    </tr>\n",
              "    <tr>\n",
              "      <th>4</th>\n",
              "      <td>5</td>\n",
              "      <td>67</td>\n",
              "      <td>1</td>\n",
              "      <td>1</td>\n",
              "      <td>3</td>\n",
              "      <td>C501</td>\n",
              "      <td>80001</td>\n",
              "      <td>Y</td>\n",
              "      <td>Y</td>\n",
              "      <td>Y</td>\n",
              "      <td>...</td>\n",
              "      <td>0</td>\n",
              "      <td>0</td>\n",
              "      <td>0</td>\n",
              "      <td>42</td>\n",
              "      <td>42</td>\n",
              "      <td>2019</td>\n",
              "      <td>1</td>\n",
              "      <td>7</td>\n",
              "      <td>2</td>\n",
              "      <td>0</td>\n",
              "    </tr>\n",
              "  </tbody>\n",
              "</table>\n",
              "<p>5 rows × 44 columns</p>\n",
              "</div>\n",
              "    <div class=\"colab-df-buttons\">\n",
              "\n",
              "  <div class=\"colab-df-container\">\n",
              "    <button class=\"colab-df-convert\" onclick=\"convertToInteractive('df-6018d2ba-c4c9-4282-9d3d-26e91b9faf24')\"\n",
              "            title=\"Convert this dataframe to an interactive table.\"\n",
              "            style=\"display:none;\">\n",
              "\n",
              "  <svg xmlns=\"http://www.w3.org/2000/svg\" height=\"24px\" viewBox=\"0 -960 960 960\">\n",
              "    <path d=\"M120-120v-720h720v720H120Zm60-500h600v-160H180v160Zm220 220h160v-160H400v160Zm0 220h160v-160H400v160ZM180-400h160v-160H180v160Zm440 0h160v-160H620v160ZM180-180h160v-160H180v160Zm440 0h160v-160H620v160Z\"/>\n",
              "  </svg>\n",
              "    </button>\n",
              "\n",
              "  <style>\n",
              "    .colab-df-container {\n",
              "      display:flex;\n",
              "      gap: 12px;\n",
              "    }\n",
              "\n",
              "    .colab-df-convert {\n",
              "      background-color: #E8F0FE;\n",
              "      border: none;\n",
              "      border-radius: 50%;\n",
              "      cursor: pointer;\n",
              "      display: none;\n",
              "      fill: #1967D2;\n",
              "      height: 32px;\n",
              "      padding: 0 0 0 0;\n",
              "      width: 32px;\n",
              "    }\n",
              "\n",
              "    .colab-df-convert:hover {\n",
              "      background-color: #E2EBFA;\n",
              "      box-shadow: 0px 1px 2px rgba(60, 64, 67, 0.3), 0px 1px 3px 1px rgba(60, 64, 67, 0.15);\n",
              "      fill: #174EA6;\n",
              "    }\n",
              "\n",
              "    .colab-df-buttons div {\n",
              "      margin-bottom: 4px;\n",
              "    }\n",
              "\n",
              "    [theme=dark] .colab-df-convert {\n",
              "      background-color: #3B4455;\n",
              "      fill: #D2E3FC;\n",
              "    }\n",
              "\n",
              "    [theme=dark] .colab-df-convert:hover {\n",
              "      background-color: #434B5C;\n",
              "      box-shadow: 0px 1px 3px 1px rgba(0, 0, 0, 0.15);\n",
              "      filter: drop-shadow(0px 1px 2px rgba(0, 0, 0, 0.3));\n",
              "      fill: #FFFFFF;\n",
              "    }\n",
              "  </style>\n",
              "\n",
              "    <script>\n",
              "      const buttonEl =\n",
              "        document.querySelector('#df-6018d2ba-c4c9-4282-9d3d-26e91b9faf24 button.colab-df-convert');\n",
              "      buttonEl.style.display =\n",
              "        google.colab.kernel.accessAllowed ? 'block' : 'none';\n",
              "\n",
              "      async function convertToInteractive(key) {\n",
              "        const element = document.querySelector('#df-6018d2ba-c4c9-4282-9d3d-26e91b9faf24');\n",
              "        const dataTable =\n",
              "          await google.colab.kernel.invokeFunction('convertToInteractive',\n",
              "                                                    [key], {});\n",
              "        if (!dataTable) return;\n",
              "\n",
              "        const docLinkHtml = 'Like what you see? Visit the ' +\n",
              "          '<a target=\"_blank\" href=https://colab.research.google.com/notebooks/data_table.ipynb>data table notebook</a>'\n",
              "          + ' to learn more about interactive tables.';\n",
              "        element.innerHTML = '';\n",
              "        dataTable['output_type'] = 'display_data';\n",
              "        await google.colab.output.renderOutput(dataTable, element);\n",
              "        const docLink = document.createElement('div');\n",
              "        docLink.innerHTML = docLinkHtml;\n",
              "        element.appendChild(docLink);\n",
              "      }\n",
              "    </script>\n",
              "  </div>\n",
              "\n",
              "\n",
              "<div id=\"df-cfffc2f9-e842-4433-9f19-4ab91e7a7433\">\n",
              "  <button class=\"colab-df-quickchart\" onclick=\"quickchart('df-cfffc2f9-e842-4433-9f19-4ab91e7a7433')\"\n",
              "            title=\"Suggest charts.\"\n",
              "            style=\"display:none;\">\n",
              "\n",
              "<svg xmlns=\"http://www.w3.org/2000/svg\" height=\"24px\"viewBox=\"0 0 24 24\"\n",
              "     width=\"24px\">\n",
              "    <g>\n",
              "        <path d=\"M19 3H5c-1.1 0-2 .9-2 2v14c0 1.1.9 2 2 2h14c1.1 0 2-.9 2-2V5c0-1.1-.9-2-2-2zM9 17H7v-7h2v7zm4 0h-2V7h2v10zm4 0h-2v-4h2v4z\"/>\n",
              "    </g>\n",
              "</svg>\n",
              "  </button>\n",
              "\n",
              "<style>\n",
              "  .colab-df-quickchart {\n",
              "    background-color: #E8F0FE;\n",
              "    border: none;\n",
              "    border-radius: 50%;\n",
              "    cursor: pointer;\n",
              "    display: none;\n",
              "    fill: #1967D2;\n",
              "    height: 32px;\n",
              "    padding: 0 0 0 0;\n",
              "    width: 32px;\n",
              "  }\n",
              "\n",
              "  .colab-df-quickchart:hover {\n",
              "    background-color: #E2EBFA;\n",
              "    box-shadow: 0px 1px 2px rgba(60, 64, 67, 0.3), 0px 1px 3px 1px rgba(60, 64, 67, 0.15);\n",
              "    fill: #174EA6;\n",
              "  }\n",
              "\n",
              "  [theme=dark] .colab-df-quickchart {\n",
              "    background-color: #3B4455;\n",
              "    fill: #D2E3FC;\n",
              "  }\n",
              "\n",
              "  [theme=dark] .colab-df-quickchart:hover {\n",
              "    background-color: #434B5C;\n",
              "    box-shadow: 0px 1px 3px 1px rgba(0, 0, 0, 0.15);\n",
              "    filter: drop-shadow(0px 1px 2px rgba(0, 0, 0, 0.3));\n",
              "    fill: #FFFFFF;\n",
              "  }\n",
              "</style>\n",
              "\n",
              "  <script>\n",
              "    async function quickchart(key) {\n",
              "      const charts = await google.colab.kernel.invokeFunction(\n",
              "          'suggestCharts', [key], {});\n",
              "    }\n",
              "    (() => {\n",
              "      let quickchartButtonEl =\n",
              "        document.querySelector('#df-cfffc2f9-e842-4433-9f19-4ab91e7a7433 button');\n",
              "      quickchartButtonEl.style.display =\n",
              "        google.colab.kernel.accessAllowed ? 'block' : 'none';\n",
              "    })();\n",
              "  </script>\n",
              "</div>\n",
              "    </div>\n",
              "  </div>\n"
            ]
          },
          "metadata": {},
          "execution_count": 122
        }
      ]
    },
    {
      "cell_type": "code",
      "source": [
        "df.info()"
      ],
      "metadata": {
        "colab": {
          "base_uri": "https://localhost:8080/"
        },
        "id": "rzmPqusVmdv8",
        "outputId": "316f48c4-7b09-401d-d25c-c9286c57afa9"
      },
      "execution_count": 123,
      "outputs": [
        {
          "output_type": "stream",
          "name": "stdout",
          "text": [
            "<class 'pandas.core.frame.DataFrame'>\n",
            "Int64Index: 50275 entries, 0 to 54216\n",
            "Data columns (total 44 columns):\n",
            " #   Column      Non-Null Count  Dtype \n",
            "---  ------      --------------  ----- \n",
            " 0   ESCOLARI    50275 non-null  int64 \n",
            " 1   IDADE       50275 non-null  int64 \n",
            " 2   CATEATEND   50275 non-null  int64 \n",
            " 3   DIAGPREV    50275 non-null  int64 \n",
            " 4   BASEDIAG    50275 non-null  int64 \n",
            " 5   TOPO        50275 non-null  object\n",
            " 6   MORFO       50275 non-null  int64 \n",
            " 7   EC          50275 non-null  object\n",
            " 8   PT          50275 non-null  object\n",
            " 9   PN          50275 non-null  object\n",
            " 10  PM          50275 non-null  object\n",
            " 11  NAOTRAT     50275 non-null  int64 \n",
            " 12  NENHUM      50275 non-null  int64 \n",
            " 13  CIRURGIA    50275 non-null  int64 \n",
            " 14  RADIO       50275 non-null  int64 \n",
            " 15  QUIMIO      50275 non-null  int64 \n",
            " 16  HORMONIO    50275 non-null  int64 \n",
            " 17  TMO         50275 non-null  int64 \n",
            " 18  IMUNO       50275 non-null  int64 \n",
            " 19  OUTROS      50275 non-null  int64 \n",
            " 20  NENHUMANT   50275 non-null  int64 \n",
            " 21  CIRURANT    50275 non-null  int64 \n",
            " 22  RADIOANT    50275 non-null  int64 \n",
            " 23  QUIMIOANT   50275 non-null  int64 \n",
            " 24  HORMOANT    50275 non-null  int64 \n",
            " 25  TMOANT      50275 non-null  int64 \n",
            " 26  IMUNOANT    50275 non-null  int64 \n",
            " 27  OUTROANT    50275 non-null  int64 \n",
            " 28  NENHUMAPOS  50275 non-null  int64 \n",
            " 29  CIRURAPOS   50275 non-null  int64 \n",
            " 30  RADIOAPOS   50275 non-null  int64 \n",
            " 31  QUIMIOAPOS  50275 non-null  int64 \n",
            " 32  HORMOAPOS   50275 non-null  int64 \n",
            " 33  TMOAPOS     50275 non-null  int64 \n",
            " 34  IMUNOAPOS   50275 non-null  int64 \n",
            " 35  OUTROAPOS   50275 non-null  int64 \n",
            " 36  CONSDIAG    50275 non-null  object\n",
            " 37  TRATCONS    50275 non-null  object\n",
            " 38  DIAGTRAT    50275 non-null  object\n",
            " 39  ANODIAG     50275 non-null  int64 \n",
            " 40  LATERALI    50275 non-null  int64 \n",
            " 41  RRAS        50275 non-null  int64 \n",
            " 42  HABILIT     50275 non-null  int64 \n",
            " 43  REC         50275 non-null  int64 \n",
            "dtypes: int64(36), object(8)\n",
            "memory usage: 17.3+ MB\n"
          ]
        }
      ]
    },
    {
      "cell_type": "code",
      "source": [
        "#As colunas CIDO e MORFO tem informações numéricas, mas na verdade representam dados categóricos. Vamos transformá-las no tipo object novamente\n",
        "df['MORFO'] = df['MORFO'].astype('object')"
      ],
      "metadata": {
        "id": "qDzoF7ozmyLB"
      },
      "execution_count": 124,
      "outputs": []
    },
    {
      "cell_type": "code",
      "source": [
        "df.info()"
      ],
      "metadata": {
        "colab": {
          "base_uri": "https://localhost:8080/"
        },
        "id": "RMynRawonCuC",
        "outputId": "55f63197-d80c-4a96-ff6b-a723613fca38"
      },
      "execution_count": 125,
      "outputs": [
        {
          "output_type": "stream",
          "name": "stdout",
          "text": [
            "<class 'pandas.core.frame.DataFrame'>\n",
            "Int64Index: 50275 entries, 0 to 54216\n",
            "Data columns (total 44 columns):\n",
            " #   Column      Non-Null Count  Dtype \n",
            "---  ------      --------------  ----- \n",
            " 0   ESCOLARI    50275 non-null  int64 \n",
            " 1   IDADE       50275 non-null  int64 \n",
            " 2   CATEATEND   50275 non-null  int64 \n",
            " 3   DIAGPREV    50275 non-null  int64 \n",
            " 4   BASEDIAG    50275 non-null  int64 \n",
            " 5   TOPO        50275 non-null  object\n",
            " 6   MORFO       50275 non-null  object\n",
            " 7   EC          50275 non-null  object\n",
            " 8   PT          50275 non-null  object\n",
            " 9   PN          50275 non-null  object\n",
            " 10  PM          50275 non-null  object\n",
            " 11  NAOTRAT     50275 non-null  int64 \n",
            " 12  NENHUM      50275 non-null  int64 \n",
            " 13  CIRURGIA    50275 non-null  int64 \n",
            " 14  RADIO       50275 non-null  int64 \n",
            " 15  QUIMIO      50275 non-null  int64 \n",
            " 16  HORMONIO    50275 non-null  int64 \n",
            " 17  TMO         50275 non-null  int64 \n",
            " 18  IMUNO       50275 non-null  int64 \n",
            " 19  OUTROS      50275 non-null  int64 \n",
            " 20  NENHUMANT   50275 non-null  int64 \n",
            " 21  CIRURANT    50275 non-null  int64 \n",
            " 22  RADIOANT    50275 non-null  int64 \n",
            " 23  QUIMIOANT   50275 non-null  int64 \n",
            " 24  HORMOANT    50275 non-null  int64 \n",
            " 25  TMOANT      50275 non-null  int64 \n",
            " 26  IMUNOANT    50275 non-null  int64 \n",
            " 27  OUTROANT    50275 non-null  int64 \n",
            " 28  NENHUMAPOS  50275 non-null  int64 \n",
            " 29  CIRURAPOS   50275 non-null  int64 \n",
            " 30  RADIOAPOS   50275 non-null  int64 \n",
            " 31  QUIMIOAPOS  50275 non-null  int64 \n",
            " 32  HORMOAPOS   50275 non-null  int64 \n",
            " 33  TMOAPOS     50275 non-null  int64 \n",
            " 34  IMUNOAPOS   50275 non-null  int64 \n",
            " 35  OUTROAPOS   50275 non-null  int64 \n",
            " 36  CONSDIAG    50275 non-null  object\n",
            " 37  TRATCONS    50275 non-null  object\n",
            " 38  DIAGTRAT    50275 non-null  object\n",
            " 39  ANODIAG     50275 non-null  int64 \n",
            " 40  LATERALI    50275 non-null  int64 \n",
            " 41  RRAS        50275 non-null  int64 \n",
            " 42  HABILIT     50275 non-null  int64 \n",
            " 43  REC         50275 non-null  int64 \n",
            "dtypes: int64(35), object(9)\n",
            "memory usage: 17.3+ MB\n"
          ]
        }
      ]
    },
    {
      "cell_type": "markdown",
      "source": [
        "### Dividindo dataset em treino e teste"
      ],
      "metadata": {
        "id": "_Mch75k6V-kL"
      }
    },
    {
      "cell_type": "code",
      "source": [
        "train = deepcopy(df.loc[df['ANODIAG']<2018])\n",
        "test = deepcopy(df.loc[df['ANODIAG']>=2018])"
      ],
      "metadata": {
        "id": "sUZ62Ca7jYgi"
      },
      "execution_count": 126,
      "outputs": []
    },
    {
      "cell_type": "code",
      "source": [
        "X_train = deepcopy(train.loc[df['ANODIAG']<2018].drop('REC', axis=1))\n",
        "X_test = deepcopy(test.loc[df['ANODIAG']>=2018].drop('REC', axis=1))"
      ],
      "metadata": {
        "id": "lgkSZX0jWCmm"
      },
      "execution_count": 127,
      "outputs": []
    },
    {
      "cell_type": "code",
      "source": [
        "y_train = train.pop('REC')\n",
        "y_test = test.pop('REC')"
      ],
      "metadata": {
        "id": "ZHX0nIl9iF6e"
      },
      "execution_count": 128,
      "outputs": []
    },
    {
      "cell_type": "code",
      "source": [
        "y_train.value_counts(normalize=True)"
      ],
      "metadata": {
        "id": "22tYDSvmh7AD",
        "colab": {
          "base_uri": "https://localhost:8080/"
        },
        "outputId": "bce08d51-0cc4-40a6-8875-8e295a1799c0"
      },
      "execution_count": 129,
      "outputs": [
        {
          "output_type": "execute_result",
          "data": {
            "text/plain": [
              "0    0.87648\n",
              "1    0.12352\n",
              "Name: REC, dtype: float64"
            ]
          },
          "metadata": {},
          "execution_count": 129
        }
      ]
    },
    {
      "cell_type": "code",
      "source": [
        "y_test.value_counts(normalize=True)"
      ],
      "metadata": {
        "id": "hkxxj14ijn8I",
        "colab": {
          "base_uri": "https://localhost:8080/"
        },
        "outputId": "4c0b8a25-4471-43b3-89d1-75e95866a477"
      },
      "execution_count": 130,
      "outputs": [
        {
          "output_type": "execute_result",
          "data": {
            "text/plain": [
              "0    0.907775\n",
              "1    0.092225\n",
              "Name: REC, dtype: float64"
            ]
          },
          "metadata": {},
          "execution_count": 130
        }
      ]
    },
    {
      "cell_type": "markdown",
      "source": [
        "### Valores nulos e missings"
      ],
      "metadata": {
        "id": "fO4gq4O8nl4n"
      }
    },
    {
      "cell_type": "code",
      "source": [
        "#Verificando quais colunas do dataset possuem tipo object\n",
        "s = (X_train.dtypes == 'object')\n",
        "object_cols = list(s[s].index)"
      ],
      "metadata": {
        "id": "6VSWOqZokDqB"
      },
      "execution_count": 131,
      "outputs": []
    },
    {
      "cell_type": "code",
      "source": [
        "object_cols"
      ],
      "metadata": {
        "id": "dhpOwYXilxVu",
        "colab": {
          "base_uri": "https://localhost:8080/"
        },
        "outputId": "1e716ef4-cceb-4eda-9f23-c0370f0ce41f"
      },
      "execution_count": 132,
      "outputs": [
        {
          "output_type": "execute_result",
          "data": {
            "text/plain": [
              "['TOPO', 'MORFO', 'EC', 'PT', 'PN', 'PM', 'CONSDIAG', 'TRATCONS', 'DIAGTRAT']"
            ]
          },
          "metadata": {},
          "execution_count": 132
        }
      ]
    },
    {
      "cell_type": "markdown",
      "source": [
        "As colunas 'CONSDIAG', 'TRATCONS', 'DIAGTAT', representam a quantidade em dias entre a consulta e  diagnóstico, entre o tratamento e a consulta e entre o diagnóstico e o tratamento. Portanto, essas são colunas que representam números inteiros e não devem ser consideradas do tipo 'object'. Para converte-las para o tipo correto, precisamos converter os nulos (representados nessas colunas como '***') em valores representados como null/NA."
      ],
      "metadata": {
        "id": "06hCTufGnJ-3"
      }
    },
    {
      "cell_type": "code",
      "source": [
        "qnt_dias_columns = ['CONSDIAG', 'TRATCONS', 'DIAGTRAT']\n",
        "\n",
        "# Replace '***' with an empty string\n",
        "X_train[qnt_dias_columns] = X_train[qnt_dias_columns].replace('***', '')\n",
        "\n",
        "# Replace '***' with an empty string\n",
        "X_test[qnt_dias_columns] = X_test[qnt_dias_columns].replace('***', '')\n",
        "\n",
        "# Convert columns to numeric (int) type while handling empty strings\n",
        "for col in qnt_dias_columns:\n",
        "    X_train[col] = pd.to_numeric(X_train[col], errors='coerce')\n",
        "    X_test[col] = pd.to_numeric(X_test[col], errors='coerce')"
      ],
      "metadata": {
        "id": "Jq-2BmXhnxK0"
      },
      "execution_count": 133,
      "outputs": []
    },
    {
      "cell_type": "code",
      "source": [
        "#Verificando quais colunas do dataset possuem tipo object\n",
        "s = (X_train.dtypes == 'object')\n",
        "object_cols = list(s[s].index)"
      ],
      "metadata": {
        "id": "MXPHAeAjpzhN"
      },
      "execution_count": 134,
      "outputs": []
    },
    {
      "cell_type": "code",
      "source": [
        "object_cols"
      ],
      "metadata": {
        "id": "LEMw_Iaqp0h6",
        "colab": {
          "base_uri": "https://localhost:8080/"
        },
        "outputId": "51577432-ffe0-4d8d-b7a7-bace50574272"
      },
      "execution_count": 135,
      "outputs": [
        {
          "output_type": "execute_result",
          "data": {
            "text/plain": [
              "['TOPO', 'MORFO', 'EC', 'PT', 'PN', 'PM']"
            ]
          },
          "metadata": {},
          "execution_count": 135
        }
      ]
    },
    {
      "cell_type": "code",
      "source": [
        "df.TOPO.value_counts()"
      ],
      "metadata": {
        "colab": {
          "base_uri": "https://localhost:8080/"
        },
        "id": "NFIUeHeMnvWI",
        "outputId": "327e072e-2777-450d-a5fe-6ee6d681d726"
      },
      "execution_count": 136,
      "outputs": [
        {
          "output_type": "execute_result",
          "data": {
            "text/plain": [
              "C504    14302\n",
              "C508    11392\n",
              "C509    10614\n",
              "C502     3641\n",
              "C501     2909\n",
              "C505     2680\n",
              "C503     2222\n",
              "C500     1991\n",
              "C506      524\n",
              "Name: TOPO, dtype: int64"
            ]
          },
          "metadata": {},
          "execution_count": 136
        }
      ]
    },
    {
      "cell_type": "code",
      "source": [
        "df.TOPO.unique()"
      ],
      "metadata": {
        "id": "sZkMZZRXp6_8",
        "outputId": "00783101-384e-46a8-ca7a-37f77de27249",
        "colab": {
          "base_uri": "https://localhost:8080/"
        }
      },
      "execution_count": 137,
      "outputs": [
        {
          "output_type": "execute_result",
          "data": {
            "text/plain": [
              "array(['C509', 'C502', 'C500', 'C501', 'C504', 'C508', 'C505', 'C503',\n",
              "       'C506'], dtype=object)"
            ]
          },
          "metadata": {},
          "execution_count": 137
        }
      ]
    },
    {
      "cell_type": "code",
      "source": [
        "df.MORFO.value_counts()"
      ],
      "metadata": {
        "colab": {
          "base_uri": "https://localhost:8080/"
        },
        "id": "cheiaHeanyVQ",
        "outputId": "34973f0d-32f6-4676-879f-1f7b085a31f6"
      },
      "execution_count": 138,
      "outputs": [
        {
          "output_type": "execute_result",
          "data": {
            "text/plain": [
              "85003    34014\n",
              "80103     2656\n",
              "85203     2574\n",
              "85002     2469\n",
              "85233     1392\n",
              "         ...  \n",
              "80213        1\n",
              "80143        1\n",
              "91333        1\n",
              "91823        1\n",
              "88103        1\n",
              "Name: MORFO, Length: 135, dtype: int64"
            ]
          },
          "metadata": {},
          "execution_count": 138
        }
      ]
    },
    {
      "cell_type": "code",
      "source": [
        "df.MORFO.unique()"
      ],
      "metadata": {
        "id": "m53GeWxUp9EL",
        "outputId": "14c252a7-cda4-4b34-c645-0a5d0c9d3e26",
        "colab": {
          "base_uri": "https://localhost:8080/"
        }
      },
      "execution_count": 139,
      "outputs": [
        {
          "output_type": "execute_result",
          "data": {
            "text/plain": [
              "array([80001, 80003, 80011, 80102, 80103, 80123, 80143, 80203, 80213,\n",
              "       80223, 80313, 80323, 80333, 80413, 80502, 80503, 80523, 80702,\n",
              "       80703, 80713, 80763, 80833, 81302, 81303, 81402, 81403, 81903,\n",
              "       82003, 82012, 82013, 82113, 82302, 82303, 82313, 82451, 82463,\n",
              "       82553, 82603, 83103, 83133, 83143, 83153, 84013, 84073, 84083,\n",
              "       84103, 84303, 84403, 84413, 84503, 84603, 84703, 84803, 84813,\n",
              "       84903, 85002, 85003, 85012, 85013, 85023, 85032, 85033, 85042,\n",
              "       85043, 85072, 85103, 85123, 85133, 85143, 85202, 85203, 85213,\n",
              "       85222, 85223, 85233, 85243, 85303, 85403, 85413, 85423, 85433,\n",
              "       85503, 85603, 85703, 85713, 85733, 85743, 85753, 87113, 87463,\n",
              "       88003, 88013, 88023, 88043, 88053, 88103, 88211, 88251, 88323,\n",
              "       88333, 88341, 88501, 88503, 88513, 88543, 88903, 88943, 89353,\n",
              "       89803, 89823, 90201, 90203, 91203, 91333, 91823, 95903, 95913,\n",
              "       95963, 96503, 96513, 96523, 96703, 96733, 96803, 96843, 96873,\n",
              "       96903, 96913, 96953, 96993, 97023, 97143, 97193, 97283, 97401],\n",
              "      dtype=object)"
            ]
          },
          "metadata": {},
          "execution_count": 139
        }
      ]
    },
    {
      "cell_type": "code",
      "source": [
        "value_counts = df['MORFO'].value_counts()\n",
        "\n",
        "# Filtrar valores que aparecem apenas uma vez\n",
        "unique_values = value_counts[value_counts == 1].index.tolist()\n",
        "\n",
        "print(\"Valores que aparecem apenas uma vez na coluna 'MORFO':\", unique_values)"
      ],
      "metadata": {
        "colab": {
          "base_uri": "https://localhost:8080/"
        },
        "id": "4qbq9_cSEB-Q",
        "outputId": "ad1e7212-c1d3-4184-f8ca-e2e666f8f535"
      },
      "execution_count": 146,
      "outputs": [
        {
          "output_type": "stream",
          "name": "stdout",
          "text": [
            "Valores que aparecem apenas uma vez na coluna 'MORFO': [84103, 96513, 96523, 83133, 96733, 80011, 84083, 96873, 88323, 82553, 96913, 96953, 84403, 97023, 84503, 97283, 96503, 81302, 88333, 87113, 88341, 88501, 88251, 88513, 88043, 80523, 80713, 80833, 89823, 85423, 80213, 80143, 91333, 91823, 88103]\n"
          ]
        }
      ]
    },
    {
      "cell_type": "code",
      "source": [
        "len(unique_values)"
      ],
      "metadata": {
        "colab": {
          "base_uri": "https://localhost:8080/"
        },
        "id": "yH1M8KKDEMuL",
        "outputId": "12341c30-a415-493e-8cd0-e6f1f49b5649"
      },
      "execution_count": 149,
      "outputs": [
        {
          "output_type": "execute_result",
          "data": {
            "text/plain": [
              "35"
            ]
          },
          "metadata": {},
          "execution_count": 149
        }
      ]
    },
    {
      "cell_type": "code",
      "source": [
        "df.EC.value_counts()"
      ],
      "metadata": {
        "colab": {
          "base_uri": "https://localhost:8080/"
        },
        "id": "dS2Ww2ofoLua",
        "outputId": "5c8d3697-913e-427c-ebfc-d0488fd5dfb1"
      },
      "execution_count": 140,
      "outputs": [
        {
          "output_type": "execute_result",
          "data": {
            "text/plain": [
              "IA       10986\n",
              "IIA       9990\n",
              "IIB       6507\n",
              "IIIA      5743\n",
              "IV        4756\n",
              "0         4516\n",
              "IIIB      4339\n",
              "IIIC      1387\n",
              "IB         823\n",
              "X          787\n",
              "Y          441\n",
              "Name: EC, dtype: int64"
            ]
          },
          "metadata": {},
          "execution_count": 140
        }
      ]
    },
    {
      "cell_type": "code",
      "source": [
        "df.PT.value_counts()"
      ],
      "metadata": {
        "colab": {
          "base_uri": "https://localhost:8080/"
        },
        "id": "kXs_Sr9roONU",
        "outputId": "b3aa5d55-dc29-40ab-e2bb-bb4234eedec1"
      },
      "execution_count": 141,
      "outputs": [
        {
          "output_type": "execute_result",
          "data": {
            "text/plain": [
              "         29122\n",
              "2         6465\n",
              "1C        4814\n",
              "1B        1741\n",
              "3         1432\n",
              "IS        1178\n",
              "0         1130\n",
              "1A         841\n",
              "1          838\n",
              "CDIS       757\n",
              "4B         564\n",
              "X          513\n",
              "4          341\n",
              "1MIC       145\n",
              "4D          96\n",
              "CLIS        91\n",
              "Y           90\n",
              "4A          78\n",
              "4C          23\n",
              "PAGET       13\n",
              "T1C          1\n",
              "T2           1\n",
              "T1B          1\n",
              "Name: PT, dtype: int64"
            ]
          },
          "metadata": {},
          "execution_count": 141
        }
      ]
    },
    {
      "cell_type": "code",
      "source": [
        "df.PN.value_counts()"
      ],
      "metadata": {
        "colab": {
          "base_uri": "https://localhost:8080/"
        },
        "id": "xD3UERTwoSAn",
        "outputId": "1e75271d-cc94-47c2-fe07-82d452387fb5"
      },
      "execution_count": 142,
      "outputs": [
        {
          "output_type": "execute_result",
          "data": {
            "text/plain": [
              "         29401\n",
              "0        12757\n",
              "1         4710\n",
              "2          904\n",
              "2A         866\n",
              "X          734\n",
              "3A         437\n",
              "3          309\n",
              "Y           89\n",
              "3C          27\n",
              "2B          23\n",
              "3B          15\n",
              "N0           2\n",
              "N1           1\n",
              "Name: PN, dtype: int64"
            ]
          },
          "metadata": {},
          "execution_count": 142
        }
      ]
    },
    {
      "cell_type": "code",
      "source": [
        "df.PM.value_counts()"
      ],
      "metadata": {
        "colab": {
          "base_uri": "https://localhost:8080/"
        },
        "id": "wCh2tS7AoVWb",
        "outputId": "c067dc58-698c-4db5-eeba-e162521463bb"
      },
      "execution_count": 143,
      "outputs": [
        {
          "output_type": "execute_result",
          "data": {
            "text/plain": [
              "       33461\n",
              "0      15599\n",
              "1        641\n",
              "X        487\n",
              "Y         84\n",
              "M0         3\n",
              "Name: PM, dtype: int64"
            ]
          },
          "metadata": {},
          "execution_count": 143
        }
      ]
    },
    {
      "cell_type": "markdown",
      "source": [
        "### One-hot encoding"
      ],
      "metadata": {
        "id": "RXDf3hFSj_hJ"
      }
    },
    {
      "cell_type": "code",
      "source": [
        "X_train.head()"
      ],
      "metadata": {
        "id": "pf_jlRLSkBTG",
        "colab": {
          "base_uri": "https://localhost:8080/",
          "height": 236
        },
        "outputId": "c0ffe896-58ba-4dc4-af10-a57c817e9fa5"
      },
      "execution_count": 144,
      "outputs": [
        {
          "output_type": "execute_result",
          "data": {
            "text/plain": [
              "   ESCOLARI  IDADE  CATEATEND  DIAGPREV  BASEDIAG  TOPO  MORFO     EC     PT  \\\n",
              "0         9     38          2         2         3  C509  80001  Y              \n",
              "1         9     46          2         2         1  C509  80001  Y              \n",
              "2         9     45          2         2         3  C502  80001  Y      Y       \n",
              "6         9     75          2         2         3  C509  80001  Y              \n",
              "7         4     27          2         2         3  C504  80003  Y      Y       \n",
              "\n",
              "      PN  ... TMOAPOS  IMUNOAPOS  OUTROAPOS  CONSDIAG  TRATCONS  DIAGTRAT  \\\n",
              "0         ...       0          0          0      14.0       NaN       NaN   \n",
              "1         ...       0          0          0      22.0     972.0     994.0   \n",
              "2  Y      ...       0          0          0       NaN      13.0       NaN   \n",
              "6         ...       0          0          0      53.0       0.0      53.0   \n",
              "7  Y      ...       0          0          0      64.0      21.0      85.0   \n",
              "\n",
              "   ANODIAG  LATERALI  RRAS  HABILIT  \n",
              "0     2017         1    13        1  \n",
              "1     2017         1    17        1  \n",
              "2     2016         1     7        2  \n",
              "6     2017         2    13        1  \n",
              "7     2016         1     7        2  \n",
              "\n",
              "[5 rows x 43 columns]"
            ],
            "text/html": [
              "\n",
              "  <div id=\"df-c9729358-5055-4d40-ba17-52d368c1dd43\" class=\"colab-df-container\">\n",
              "    <div>\n",
              "<style scoped>\n",
              "    .dataframe tbody tr th:only-of-type {\n",
              "        vertical-align: middle;\n",
              "    }\n",
              "\n",
              "    .dataframe tbody tr th {\n",
              "        vertical-align: top;\n",
              "    }\n",
              "\n",
              "    .dataframe thead th {\n",
              "        text-align: right;\n",
              "    }\n",
              "</style>\n",
              "<table border=\"1\" class=\"dataframe\">\n",
              "  <thead>\n",
              "    <tr style=\"text-align: right;\">\n",
              "      <th></th>\n",
              "      <th>ESCOLARI</th>\n",
              "      <th>IDADE</th>\n",
              "      <th>CATEATEND</th>\n",
              "      <th>DIAGPREV</th>\n",
              "      <th>BASEDIAG</th>\n",
              "      <th>TOPO</th>\n",
              "      <th>MORFO</th>\n",
              "      <th>EC</th>\n",
              "      <th>PT</th>\n",
              "      <th>PN</th>\n",
              "      <th>...</th>\n",
              "      <th>TMOAPOS</th>\n",
              "      <th>IMUNOAPOS</th>\n",
              "      <th>OUTROAPOS</th>\n",
              "      <th>CONSDIAG</th>\n",
              "      <th>TRATCONS</th>\n",
              "      <th>DIAGTRAT</th>\n",
              "      <th>ANODIAG</th>\n",
              "      <th>LATERALI</th>\n",
              "      <th>RRAS</th>\n",
              "      <th>HABILIT</th>\n",
              "    </tr>\n",
              "  </thead>\n",
              "  <tbody>\n",
              "    <tr>\n",
              "      <th>0</th>\n",
              "      <td>9</td>\n",
              "      <td>38</td>\n",
              "      <td>2</td>\n",
              "      <td>2</td>\n",
              "      <td>3</td>\n",
              "      <td>C509</td>\n",
              "      <td>80001</td>\n",
              "      <td>Y</td>\n",
              "      <td></td>\n",
              "      <td></td>\n",
              "      <td>...</td>\n",
              "      <td>0</td>\n",
              "      <td>0</td>\n",
              "      <td>0</td>\n",
              "      <td>14.0</td>\n",
              "      <td>NaN</td>\n",
              "      <td>NaN</td>\n",
              "      <td>2017</td>\n",
              "      <td>1</td>\n",
              "      <td>13</td>\n",
              "      <td>1</td>\n",
              "    </tr>\n",
              "    <tr>\n",
              "      <th>1</th>\n",
              "      <td>9</td>\n",
              "      <td>46</td>\n",
              "      <td>2</td>\n",
              "      <td>2</td>\n",
              "      <td>1</td>\n",
              "      <td>C509</td>\n",
              "      <td>80001</td>\n",
              "      <td>Y</td>\n",
              "      <td></td>\n",
              "      <td></td>\n",
              "      <td>...</td>\n",
              "      <td>0</td>\n",
              "      <td>0</td>\n",
              "      <td>0</td>\n",
              "      <td>22.0</td>\n",
              "      <td>972.0</td>\n",
              "      <td>994.0</td>\n",
              "      <td>2017</td>\n",
              "      <td>1</td>\n",
              "      <td>17</td>\n",
              "      <td>1</td>\n",
              "    </tr>\n",
              "    <tr>\n",
              "      <th>2</th>\n",
              "      <td>9</td>\n",
              "      <td>45</td>\n",
              "      <td>2</td>\n",
              "      <td>2</td>\n",
              "      <td>3</td>\n",
              "      <td>C502</td>\n",
              "      <td>80001</td>\n",
              "      <td>Y</td>\n",
              "      <td>Y</td>\n",
              "      <td>Y</td>\n",
              "      <td>...</td>\n",
              "      <td>0</td>\n",
              "      <td>0</td>\n",
              "      <td>0</td>\n",
              "      <td>NaN</td>\n",
              "      <td>13.0</td>\n",
              "      <td>NaN</td>\n",
              "      <td>2016</td>\n",
              "      <td>1</td>\n",
              "      <td>7</td>\n",
              "      <td>2</td>\n",
              "    </tr>\n",
              "    <tr>\n",
              "      <th>6</th>\n",
              "      <td>9</td>\n",
              "      <td>75</td>\n",
              "      <td>2</td>\n",
              "      <td>2</td>\n",
              "      <td>3</td>\n",
              "      <td>C509</td>\n",
              "      <td>80001</td>\n",
              "      <td>Y</td>\n",
              "      <td></td>\n",
              "      <td></td>\n",
              "      <td>...</td>\n",
              "      <td>0</td>\n",
              "      <td>0</td>\n",
              "      <td>0</td>\n",
              "      <td>53.0</td>\n",
              "      <td>0.0</td>\n",
              "      <td>53.0</td>\n",
              "      <td>2017</td>\n",
              "      <td>2</td>\n",
              "      <td>13</td>\n",
              "      <td>1</td>\n",
              "    </tr>\n",
              "    <tr>\n",
              "      <th>7</th>\n",
              "      <td>4</td>\n",
              "      <td>27</td>\n",
              "      <td>2</td>\n",
              "      <td>2</td>\n",
              "      <td>3</td>\n",
              "      <td>C504</td>\n",
              "      <td>80003</td>\n",
              "      <td>Y</td>\n",
              "      <td>Y</td>\n",
              "      <td>Y</td>\n",
              "      <td>...</td>\n",
              "      <td>0</td>\n",
              "      <td>0</td>\n",
              "      <td>0</td>\n",
              "      <td>64.0</td>\n",
              "      <td>21.0</td>\n",
              "      <td>85.0</td>\n",
              "      <td>2016</td>\n",
              "      <td>1</td>\n",
              "      <td>7</td>\n",
              "      <td>2</td>\n",
              "    </tr>\n",
              "  </tbody>\n",
              "</table>\n",
              "<p>5 rows × 43 columns</p>\n",
              "</div>\n",
              "    <div class=\"colab-df-buttons\">\n",
              "\n",
              "  <div class=\"colab-df-container\">\n",
              "    <button class=\"colab-df-convert\" onclick=\"convertToInteractive('df-c9729358-5055-4d40-ba17-52d368c1dd43')\"\n",
              "            title=\"Convert this dataframe to an interactive table.\"\n",
              "            style=\"display:none;\">\n",
              "\n",
              "  <svg xmlns=\"http://www.w3.org/2000/svg\" height=\"24px\" viewBox=\"0 -960 960 960\">\n",
              "    <path d=\"M120-120v-720h720v720H120Zm60-500h600v-160H180v160Zm220 220h160v-160H400v160Zm0 220h160v-160H400v160ZM180-400h160v-160H180v160Zm440 0h160v-160H620v160ZM180-180h160v-160H180v160Zm440 0h160v-160H620v160Z\"/>\n",
              "  </svg>\n",
              "    </button>\n",
              "\n",
              "  <style>\n",
              "    .colab-df-container {\n",
              "      display:flex;\n",
              "      gap: 12px;\n",
              "    }\n",
              "\n",
              "    .colab-df-convert {\n",
              "      background-color: #E8F0FE;\n",
              "      border: none;\n",
              "      border-radius: 50%;\n",
              "      cursor: pointer;\n",
              "      display: none;\n",
              "      fill: #1967D2;\n",
              "      height: 32px;\n",
              "      padding: 0 0 0 0;\n",
              "      width: 32px;\n",
              "    }\n",
              "\n",
              "    .colab-df-convert:hover {\n",
              "      background-color: #E2EBFA;\n",
              "      box-shadow: 0px 1px 2px rgba(60, 64, 67, 0.3), 0px 1px 3px 1px rgba(60, 64, 67, 0.15);\n",
              "      fill: #174EA6;\n",
              "    }\n",
              "\n",
              "    .colab-df-buttons div {\n",
              "      margin-bottom: 4px;\n",
              "    }\n",
              "\n",
              "    [theme=dark] .colab-df-convert {\n",
              "      background-color: #3B4455;\n",
              "      fill: #D2E3FC;\n",
              "    }\n",
              "\n",
              "    [theme=dark] .colab-df-convert:hover {\n",
              "      background-color: #434B5C;\n",
              "      box-shadow: 0px 1px 3px 1px rgba(0, 0, 0, 0.15);\n",
              "      filter: drop-shadow(0px 1px 2px rgba(0, 0, 0, 0.3));\n",
              "      fill: #FFFFFF;\n",
              "    }\n",
              "  </style>\n",
              "\n",
              "    <script>\n",
              "      const buttonEl =\n",
              "        document.querySelector('#df-c9729358-5055-4d40-ba17-52d368c1dd43 button.colab-df-convert');\n",
              "      buttonEl.style.display =\n",
              "        google.colab.kernel.accessAllowed ? 'block' : 'none';\n",
              "\n",
              "      async function convertToInteractive(key) {\n",
              "        const element = document.querySelector('#df-c9729358-5055-4d40-ba17-52d368c1dd43');\n",
              "        const dataTable =\n",
              "          await google.colab.kernel.invokeFunction('convertToInteractive',\n",
              "                                                    [key], {});\n",
              "        if (!dataTable) return;\n",
              "\n",
              "        const docLinkHtml = 'Like what you see? Visit the ' +\n",
              "          '<a target=\"_blank\" href=https://colab.research.google.com/notebooks/data_table.ipynb>data table notebook</a>'\n",
              "          + ' to learn more about interactive tables.';\n",
              "        element.innerHTML = '';\n",
              "        dataTable['output_type'] = 'display_data';\n",
              "        await google.colab.output.renderOutput(dataTable, element);\n",
              "        const docLink = document.createElement('div');\n",
              "        docLink.innerHTML = docLinkHtml;\n",
              "        element.appendChild(docLink);\n",
              "      }\n",
              "    </script>\n",
              "  </div>\n",
              "\n",
              "\n",
              "<div id=\"df-5ab81a8a-8a55-4e2c-a4f2-bfe0a1b494e6\">\n",
              "  <button class=\"colab-df-quickchart\" onclick=\"quickchart('df-5ab81a8a-8a55-4e2c-a4f2-bfe0a1b494e6')\"\n",
              "            title=\"Suggest charts.\"\n",
              "            style=\"display:none;\">\n",
              "\n",
              "<svg xmlns=\"http://www.w3.org/2000/svg\" height=\"24px\"viewBox=\"0 0 24 24\"\n",
              "     width=\"24px\">\n",
              "    <g>\n",
              "        <path d=\"M19 3H5c-1.1 0-2 .9-2 2v14c0 1.1.9 2 2 2h14c1.1 0 2-.9 2-2V5c0-1.1-.9-2-2-2zM9 17H7v-7h2v7zm4 0h-2V7h2v10zm4 0h-2v-4h2v4z\"/>\n",
              "    </g>\n",
              "</svg>\n",
              "  </button>\n",
              "\n",
              "<style>\n",
              "  .colab-df-quickchart {\n",
              "    background-color: #E8F0FE;\n",
              "    border: none;\n",
              "    border-radius: 50%;\n",
              "    cursor: pointer;\n",
              "    display: none;\n",
              "    fill: #1967D2;\n",
              "    height: 32px;\n",
              "    padding: 0 0 0 0;\n",
              "    width: 32px;\n",
              "  }\n",
              "\n",
              "  .colab-df-quickchart:hover {\n",
              "    background-color: #E2EBFA;\n",
              "    box-shadow: 0px 1px 2px rgba(60, 64, 67, 0.3), 0px 1px 3px 1px rgba(60, 64, 67, 0.15);\n",
              "    fill: #174EA6;\n",
              "  }\n",
              "\n",
              "  [theme=dark] .colab-df-quickchart {\n",
              "    background-color: #3B4455;\n",
              "    fill: #D2E3FC;\n",
              "  }\n",
              "\n",
              "  [theme=dark] .colab-df-quickchart:hover {\n",
              "    background-color: #434B5C;\n",
              "    box-shadow: 0px 1px 3px 1px rgba(0, 0, 0, 0.15);\n",
              "    filter: drop-shadow(0px 1px 2px rgba(0, 0, 0, 0.3));\n",
              "    fill: #FFFFFF;\n",
              "  }\n",
              "</style>\n",
              "\n",
              "  <script>\n",
              "    async function quickchart(key) {\n",
              "      const charts = await google.colab.kernel.invokeFunction(\n",
              "          'suggestCharts', [key], {});\n",
              "    }\n",
              "    (() => {\n",
              "      let quickchartButtonEl =\n",
              "        document.querySelector('#df-5ab81a8a-8a55-4e2c-a4f2-bfe0a1b494e6 button');\n",
              "      quickchartButtonEl.style.display =\n",
              "        google.colab.kernel.accessAllowed ? 'block' : 'none';\n",
              "    })();\n",
              "  </script>\n",
              "</div>\n",
              "    </div>\n",
              "  </div>\n"
            ]
          },
          "metadata": {},
          "execution_count": 144
        }
      ]
    },
    {
      "cell_type": "code",
      "source": [
        "OH_encoder = OneHotEncoder(handle_unknown='ignore', sparse=False)\n",
        "OH_cols_train = pd.DataFrame(OH_encoder.fit_transform(X_train[object_cols]))\n",
        "OH_cols_valid = pd.DataFrame(OH_encoder.transform(X_test[object_cols]))\n",
        "\n",
        "# One-hot encoding removed index; put it back\n",
        "OH_cols_train.index = X_train.index\n",
        "OH_cols_valid.index = X_test.index\n",
        "\n",
        "# Remove categorical columns (will replace with one-hot encoding)\n",
        "num_X_train = X_train.drop(object_cols, axis=1)\n",
        "num_X_valid = X_test.drop(object_cols, axis=1)\n",
        "\n",
        "# Add one-hot encoded columns to numerical features\n",
        "OH_X_train = pd.concat([num_X_train, OH_cols_train], axis=1)\n",
        "OH_X_valid = pd.concat([num_X_valid, OH_cols_valid], axis=1)\n",
        "\n",
        "# Ensure all columns have string type\n",
        "OH_X_train.columns = OH_X_train.columns.astype(str)\n",
        "OH_X_valid.columns = OH_X_valid.columns.astype(str)"
      ],
      "metadata": {
        "id": "VvBdC7V8lD8p",
        "colab": {
          "base_uri": "https://localhost:8080/"
        },
        "outputId": "726037c0-2e9b-4e03-f306-b249d8e1e9cf"
      },
      "execution_count": 145,
      "outputs": [
        {
          "output_type": "stream",
          "name": "stderr",
          "text": [
            "/usr/local/lib/python3.10/dist-packages/sklearn/preprocessing/_encoders.py:868: FutureWarning: `sparse` was renamed to `sparse_output` in version 1.2 and will be removed in 1.4. `sparse_output` is ignored unless you leave `sparse` to its default value.\n",
            "  warnings.warn(\n"
          ]
        }
      ]
    },
    {
      "cell_type": "code",
      "source": [],
      "metadata": {
        "id": "k2eS4TlCloMS"
      },
      "execution_count": 145,
      "outputs": []
    }
  ]
}